{
  "nbformat": 4,
  "nbformat_minor": 0,
  "metadata": {
    "colab": {
      "name": "XGBoost_reg.ipynb",
      "provenance": [],
      "collapsed_sections": []
    },
    "kernelspec": {
      "name": "python3",
      "display_name": "Python 3"
    }
  },
  "cells": [
    {
      "cell_type": "markdown",
      "metadata": {
        "id": "xCj_qjVtM8_8",
        "colab_type": "text"
      },
      "source": [
        "**Importing Required Libraries**"
      ]
    },
    {
      "cell_type": "code",
      "metadata": {
        "id": "h5vGGx-I37uy",
        "colab_type": "code",
        "colab": {}
      },
      "source": [
        "import pandas as pd # to read data set\n",
        "import numpy as np # to perform numeric operation\n",
        "import matplotlib.pyplot as plt # for Visualise"
      ],
      "execution_count": null,
      "outputs": []
    },
    {
      "cell_type": "markdown",
      "metadata": {
        "id": "ACc_AImaNHfD",
        "colab_type": "text"
      },
      "source": [
        "**Accesing DataSet from Google Drive, So using Drive Mount**"
      ]
    },
    {
      "cell_type": "code",
      "metadata": {
        "id": "gA0aNT9i4O4L",
        "colab_type": "code",
        "colab": {
          "base_uri": "https://localhost:8080/",
          "height": 124
        },
        "outputId": "cbfc07ca-be05-47e0-f3d7-72930527ca5b"
      },
      "source": [
        "from google.colab import drive # Accessing DataSet from Google Drive\n",
        "drive.mount('/content/gdrive') # Drive Mount Authorization"
      ],
      "execution_count": null,
      "outputs": [
        {
          "output_type": "stream",
          "text": [
            "Go to this URL in a browser: https://accounts.google.com/o/oauth2/auth?client_id=947318989803-6bn6qk8qdgf4n4g3pfee6491hc0brc4i.apps.googleusercontent.com&redirect_uri=urn%3aietf%3awg%3aoauth%3a2.0%3aoob&scope=email%20https%3a%2f%2fwww.googleapis.com%2fauth%2fdocs.test%20https%3a%2f%2fwww.googleapis.com%2fauth%2fdrive%20https%3a%2f%2fwww.googleapis.com%2fauth%2fdrive.photos.readonly%20https%3a%2f%2fwww.googleapis.com%2fauth%2fpeopleapi.readonly&response_type=code\n",
            "\n",
            "Enter your authorization code:\n",
            "··········\n",
            "Mounted at /content/gdrive\n"
          ],
          "name": "stdout"
        }
      ]
    },
    {
      "cell_type": "markdown",
      "metadata": {
        "id": "mov75hsPNSHA",
        "colab_type": "text"
      },
      "source": [
        "**Reading DataSet CSV File from Google Drive**"
      ]
    },
    {
      "cell_type": "code",
      "metadata": {
        "id": "oM7ZAa3v4aBC",
        "colab_type": "code",
        "colab": {
          "base_uri": "https://localhost:8080/",
          "height": 72
        },
        "outputId": "f1536eb3-c813-4522-c329-ca74c23c096b"
      },
      "source": [
        "df_bst=pd.read_csv('/content/gdrive/My Drive/Co_data.csv',encoding='latin1')"
      ],
      "execution_count": null,
      "outputs": [
        {
          "output_type": "stream",
          "text": [
            "/usr/local/lib/python3.6/dist-packages/IPython/core/interactiveshell.py:2718: DtypeWarning: Columns (31) have mixed types.Specify dtype option on import or set low_memory=False.\n",
            "  interactivity=interactivity, compiler=compiler, result=result)\n"
          ],
          "name": "stderr"
        }
      ]
    },
    {
      "cell_type": "markdown",
      "metadata": {
        "id": "wefVPFC8NZ2G",
        "colab_type": "text"
      },
      "source": [
        "**Displaying Dataset Head**"
      ]
    },
    {
      "cell_type": "code",
      "metadata": {
        "id": "h43Rq6LQ4g44",
        "colab_type": "code",
        "colab": {
          "base_uri": "https://localhost:8080/",
          "height": 361
        },
        "outputId": "b17a4a0e-97ef-470e-dd89-3a48c554be5a"
      },
      "source": [
        "df_bst.head()"
      ],
      "execution_count": null,
      "outputs": [
        {
          "output_type": "execute_result",
          "data": {
            "text/html": [
              "<div>\n",
              "<style scoped>\n",
              "    .dataframe tbody tr th:only-of-type {\n",
              "        vertical-align: middle;\n",
              "    }\n",
              "\n",
              "    .dataframe tbody tr th {\n",
              "        vertical-align: top;\n",
              "    }\n",
              "\n",
              "    .dataframe thead th {\n",
              "        text-align: right;\n",
              "    }\n",
              "</style>\n",
              "<table border=\"1\" class=\"dataframe\">\n",
              "  <thead>\n",
              "    <tr style=\"text-align: right;\">\n",
              "      <th></th>\n",
              "      <th>member_id</th>\n",
              "      <th>loan_amnt</th>\n",
              "      <th>terms</th>\n",
              "      <th>batch_ID</th>\n",
              "      <th>Rate_of_intrst</th>\n",
              "      <th>grade</th>\n",
              "      <th>sub_grade</th>\n",
              "      <th>Emp_designation</th>\n",
              "      <th>Experience</th>\n",
              "      <th>home_ownership</th>\n",
              "      <th>annual_inc</th>\n",
              "      <th>verification_status</th>\n",
              "      <th>purpose</th>\n",
              "      <th>State</th>\n",
              "      <th>debt_income_ratio</th>\n",
              "      <th>delinq_2yrs</th>\n",
              "      <th>inq_last_6mths</th>\n",
              "      <th>mths_since_last_delinq</th>\n",
              "      <th>mths_since_last_record</th>\n",
              "      <th>numb_credit</th>\n",
              "      <th>pub_rec</th>\n",
              "      <th>total revol_bal</th>\n",
              "      <th>total_credits</th>\n",
              "      <th>initial_list_status</th>\n",
              "      <th>total_rec_int</th>\n",
              "      <th>total_rec_late_fee</th>\n",
              "      <th>recoveries</th>\n",
              "      <th>collection_recovery_fee</th>\n",
              "      <th>collections_12_mths_ex_med</th>\n",
              "      <th>mths_since_last_major_derog</th>\n",
              "      <th>application_type</th>\n",
              "      <th>verification_status_joint</th>\n",
              "      <th>last_week_pay</th>\n",
              "      <th>acc_now_delinq</th>\n",
              "      <th>tot_colle_amt</th>\n",
              "      <th>tot_curr_bal</th>\n",
              "    </tr>\n",
              "  </thead>\n",
              "  <tbody>\n",
              "    <tr>\n",
              "      <th>0</th>\n",
              "      <td>58189336</td>\n",
              "      <td>14350</td>\n",
              "      <td>36 months</td>\n",
              "      <td></td>\n",
              "      <td>19.19</td>\n",
              "      <td>E</td>\n",
              "      <td>E3</td>\n",
              "      <td>clerk</td>\n",
              "      <td>9 years</td>\n",
              "      <td>OWN</td>\n",
              "      <td>28700.0</td>\n",
              "      <td>Source Verified</td>\n",
              "      <td>debt_consolidation</td>\n",
              "      <td>FL</td>\n",
              "      <td>33.88</td>\n",
              "      <td>0.0</td>\n",
              "      <td>1.0</td>\n",
              "      <td>50.0</td>\n",
              "      <td>75.0</td>\n",
              "      <td>14.0</td>\n",
              "      <td>1.0</td>\n",
              "      <td>22515.0</td>\n",
              "      <td>28.0</td>\n",
              "      <td>f</td>\n",
              "      <td>1173.84</td>\n",
              "      <td>0.0</td>\n",
              "      <td>0.0</td>\n",
              "      <td>0.0</td>\n",
              "      <td>0.0</td>\n",
              "      <td>74.0</td>\n",
              "      <td>INDIVIDUAL</td>\n",
              "      <td>NaN</td>\n",
              "      <td>26th week</td>\n",
              "      <td>0.0</td>\n",
              "      <td>0.0</td>\n",
              "      <td>28699.0</td>\n",
              "    </tr>\n",
              "    <tr>\n",
              "      <th>1</th>\n",
              "      <td>70011223</td>\n",
              "      <td>4800</td>\n",
              "      <td>36 months</td>\n",
              "      <td>BAT1586599</td>\n",
              "      <td>10.99</td>\n",
              "      <td>B</td>\n",
              "      <td>B4</td>\n",
              "      <td>Human Resources Specialist</td>\n",
              "      <td>&lt; 1 year</td>\n",
              "      <td>MORTGAGE</td>\n",
              "      <td>65000.0</td>\n",
              "      <td>Source Verified</td>\n",
              "      <td>home_improvement</td>\n",
              "      <td>MD</td>\n",
              "      <td>3.64</td>\n",
              "      <td>0.0</td>\n",
              "      <td>1.0</td>\n",
              "      <td>NaN</td>\n",
              "      <td>NaN</td>\n",
              "      <td>6.0</td>\n",
              "      <td>0.0</td>\n",
              "      <td>7624.0</td>\n",
              "      <td>13.0</td>\n",
              "      <td>w</td>\n",
              "      <td>83.95</td>\n",
              "      <td>0.0</td>\n",
              "      <td>0.0</td>\n",
              "      <td>0.0</td>\n",
              "      <td>0.0</td>\n",
              "      <td>NaN</td>\n",
              "      <td>INDIVIDUAL</td>\n",
              "      <td>NaN</td>\n",
              "      <td>9th week</td>\n",
              "      <td>0.0</td>\n",
              "      <td>0.0</td>\n",
              "      <td>9974.0</td>\n",
              "    </tr>\n",
              "    <tr>\n",
              "      <th>2</th>\n",
              "      <td>70255675</td>\n",
              "      <td>10000</td>\n",
              "      <td>36 months</td>\n",
              "      <td>BAT1586599</td>\n",
              "      <td>7.26</td>\n",
              "      <td>A</td>\n",
              "      <td>A4</td>\n",
              "      <td>Driver</td>\n",
              "      <td>2 years</td>\n",
              "      <td>OWN</td>\n",
              "      <td>45000.0</td>\n",
              "      <td>Not Verified</td>\n",
              "      <td>debt_consolidation</td>\n",
              "      <td>OH</td>\n",
              "      <td>18.42</td>\n",
              "      <td>0.0</td>\n",
              "      <td>0.0</td>\n",
              "      <td>NaN</td>\n",
              "      <td>NaN</td>\n",
              "      <td>5.0</td>\n",
              "      <td>0.0</td>\n",
              "      <td>10877.0</td>\n",
              "      <td>19.0</td>\n",
              "      <td>w</td>\n",
              "      <td>56.47</td>\n",
              "      <td>0.0</td>\n",
              "      <td>0.0</td>\n",
              "      <td>0.0</td>\n",
              "      <td>0.0</td>\n",
              "      <td>NaN</td>\n",
              "      <td>INDIVIDUAL</td>\n",
              "      <td>NaN</td>\n",
              "      <td>9th week</td>\n",
              "      <td>0.0</td>\n",
              "      <td>65.0</td>\n",
              "      <td>38295.0</td>\n",
              "    </tr>\n",
              "    <tr>\n",
              "      <th>3</th>\n",
              "      <td>1893936</td>\n",
              "      <td>15000</td>\n",
              "      <td>36 months</td>\n",
              "      <td>BAT4808022</td>\n",
              "      <td>19.72</td>\n",
              "      <td>D</td>\n",
              "      <td>D5</td>\n",
              "      <td>Us office of Personnel Management</td>\n",
              "      <td>10+ years</td>\n",
              "      <td>RENT</td>\n",
              "      <td>105000.0</td>\n",
              "      <td>Not Verified</td>\n",
              "      <td>debt_consolidation</td>\n",
              "      <td>VA</td>\n",
              "      <td>14.97</td>\n",
              "      <td>0.0</td>\n",
              "      <td>2.0</td>\n",
              "      <td>46.0</td>\n",
              "      <td>NaN</td>\n",
              "      <td>10.0</td>\n",
              "      <td>0.0</td>\n",
              "      <td>13712.0</td>\n",
              "      <td>21.0</td>\n",
              "      <td>f</td>\n",
              "      <td>4858.62</td>\n",
              "      <td>0.0</td>\n",
              "      <td>0.0</td>\n",
              "      <td>0.0</td>\n",
              "      <td>0.0</td>\n",
              "      <td>NaN</td>\n",
              "      <td>INDIVIDUAL</td>\n",
              "      <td>NaN</td>\n",
              "      <td>135th week</td>\n",
              "      <td>0.0</td>\n",
              "      <td>0.0</td>\n",
              "      <td>55564.0</td>\n",
              "    </tr>\n",
              "    <tr>\n",
              "      <th>4</th>\n",
              "      <td>7652106</td>\n",
              "      <td>16000</td>\n",
              "      <td>36 months</td>\n",
              "      <td>BAT2833642</td>\n",
              "      <td>10.64</td>\n",
              "      <td>B</td>\n",
              "      <td>B2</td>\n",
              "      <td>LAUSD-HOLLYWOOD HIGH SCHOOL</td>\n",
              "      <td>10+ years</td>\n",
              "      <td>RENT</td>\n",
              "      <td>52000.0</td>\n",
              "      <td>Verified</td>\n",
              "      <td>credit_card</td>\n",
              "      <td>CA</td>\n",
              "      <td>20.16</td>\n",
              "      <td>0.0</td>\n",
              "      <td>0.0</td>\n",
              "      <td>NaN</td>\n",
              "      <td>NaN</td>\n",
              "      <td>11.0</td>\n",
              "      <td>0.0</td>\n",
              "      <td>35835.0</td>\n",
              "      <td>27.0</td>\n",
              "      <td>w</td>\n",
              "      <td>2296.41</td>\n",
              "      <td>0.0</td>\n",
              "      <td>0.0</td>\n",
              "      <td>0.0</td>\n",
              "      <td>0.0</td>\n",
              "      <td>NaN</td>\n",
              "      <td>INDIVIDUAL</td>\n",
              "      <td>NaN</td>\n",
              "      <td>96th week</td>\n",
              "      <td>0.0</td>\n",
              "      <td>0.0</td>\n",
              "      <td>47159.0</td>\n",
              "    </tr>\n",
              "  </tbody>\n",
              "</table>\n",
              "</div>"
            ],
            "text/plain": [
              "   member_id   loan_amnt   ... tot_colle_amt tot_curr_bal\n",
              "0    58189336       14350  ...           0.0      28699.0\n",
              "1    70011223        4800  ...           0.0       9974.0\n",
              "2    70255675       10000  ...          65.0      38295.0\n",
              "3     1893936       15000  ...           0.0      55564.0\n",
              "4     7652106       16000  ...           0.0      47159.0\n",
              "\n",
              "[5 rows x 36 columns]"
            ]
          },
          "metadata": {
            "tags": []
          },
          "execution_count": 4
        }
      ]
    },
    {
      "cell_type": "markdown",
      "metadata": {
        "id": "IMRC6pgnNdfl",
        "colab_type": "text"
      },
      "source": [
        "**Displaying Number of Rows & Columns**"
      ]
    },
    {
      "cell_type": "code",
      "metadata": {
        "id": "pEEVVZf74nJ6",
        "colab_type": "code",
        "colab": {
          "base_uri": "https://localhost:8080/",
          "height": 35
        },
        "outputId": "d64b191c-dd75-424b-a822-49c7c27bceb5"
      },
      "source": [
        "df_bst.shape"
      ],
      "execution_count": null,
      "outputs": [
        {
          "output_type": "execute_result",
          "data": {
            "text/plain": [
              "(887379, 36)"
            ]
          },
          "metadata": {
            "tags": []
          },
          "execution_count": 5
        }
      ]
    },
    {
      "cell_type": "markdown",
      "metadata": {
        "id": "mGVgNEJsNkEQ",
        "colab_type": "text"
      },
      "source": [
        "**Dataset Information like DataTypes, Null Values, Counts**"
      ]
    },
    {
      "cell_type": "code",
      "metadata": {
        "id": "_Ns5P2bH4vs3",
        "colab_type": "code",
        "colab": {
          "base_uri": "https://localhost:8080/",
          "height": 763
        },
        "outputId": "b363ddda-acd3-4b95-9789-26a533f86633"
      },
      "source": [
        "df_bst.info()"
      ],
      "execution_count": null,
      "outputs": [
        {
          "output_type": "stream",
          "text": [
            "<class 'pandas.core.frame.DataFrame'>\n",
            "RangeIndex: 887379 entries, 0 to 887378\n",
            "Data columns (total 36 columns):\n",
            " #   Column                       Non-Null Count   Dtype  \n",
            "---  ------                       --------------   -----  \n",
            " 0   member_id                    887379 non-null  int64  \n",
            " 1   loan_amnt                    887379 non-null  int64  \n",
            " 2   terms                        887379 non-null  object \n",
            " 3   batch_ID                     756631 non-null  object \n",
            " 4   Rate_of_intrst               887379 non-null  float64\n",
            " 5   grade                        887379 non-null  object \n",
            " 6   sub_grade                    887379 non-null  object \n",
            " 7   Emp_designation              835917 non-null  object \n",
            " 8   Experience                   842554 non-null  object \n",
            " 9   home_ownership               887379 non-null  object \n",
            " 10  annual_inc                   887375 non-null  float64\n",
            " 11  verification_status          887379 non-null  object \n",
            " 12  purpose                      887379 non-null  object \n",
            " 13  State                        887379 non-null  object \n",
            " 14  debt_income_ratio            887379 non-null  float64\n",
            " 15  delinq_2yrs                  887350 non-null  float64\n",
            " 16  inq_last_6mths               887350 non-null  float64\n",
            " 17  mths_since_last_delinq       433067 non-null  float64\n",
            " 18  mths_since_last_record       137053 non-null  float64\n",
            " 19  numb_credit                  887350 non-null  float64\n",
            " 20  pub_rec                      887350 non-null  float64\n",
            " 21  total revol_bal              887379 non-null  float64\n",
            " 22  total_credits                887350 non-null  float64\n",
            " 23  initial_list_status          887379 non-null  object \n",
            " 24  total_rec_int                887379 non-null  float64\n",
            " 25  total_rec_late_fee           887379 non-null  float64\n",
            " 26  recoveries                   887379 non-null  float64\n",
            " 27  collection_recovery_fee      887379 non-null  float64\n",
            " 28  collections_12_mths_ex_med   887234 non-null  float64\n",
            " 29  mths_since_last_major_derog  221703 non-null  float64\n",
            " 30  application_type             887379 non-null  object \n",
            " 31  verification_status_joint    511 non-null     object \n",
            " 32  last_week_pay                887379 non-null  object \n",
            " 33  acc_now_delinq               887350 non-null  float64\n",
            " 34  tot_colle_amt                817103 non-null  float64\n",
            " 35  tot_curr_bal                 817103 non-null  float64\n",
            "dtypes: float64(20), int64(2), object(14)\n",
            "memory usage: 243.7+ MB\n"
          ],
          "name": "stdout"
        }
      ]
    },
    {
      "cell_type": "markdown",
      "metadata": {
        "id": "Uktf8M76NzDE",
        "colab_type": "text"
      },
      "source": [
        "**Displaying Column Names**"
      ]
    },
    {
      "cell_type": "code",
      "metadata": {
        "id": "dnbGnLMp4-X6",
        "colab_type": "code",
        "colab": {
          "base_uri": "https://localhost:8080/",
          "height": 225
        },
        "outputId": "cca4b1f4-c1c3-4d02-bbf1-25e026504d57"
      },
      "source": [
        "df_bst.columns"
      ],
      "execution_count": null,
      "outputs": [
        {
          "output_type": "execute_result",
          "data": {
            "text/plain": [
              "Index(['member_id ', 'loan_amnt ', 'terms', 'batch_ID ', 'Rate_of_intrst',\n",
              "       'grade', 'sub_grade', 'Emp_designation', 'Experience', 'home_ownership',\n",
              "       'annual_inc', 'verification_status', 'purpose', 'State',\n",
              "       'debt_income_ratio', 'delinq_2yrs', 'inq_last_6mths',\n",
              "       'mths_since_last_delinq', 'mths_since_last_record', 'numb_credit',\n",
              "       'pub_rec', 'total revol_bal', 'total_credits', 'initial_list_status',\n",
              "       'total_rec_int', 'total_rec_late_fee', 'recoveries',\n",
              "       'collection_recovery_fee', 'collections_12_mths_ex_med',\n",
              "       'mths_since_last_major_derog', 'application_type',\n",
              "       'verification_status_joint', 'last_week_pay', 'acc_now_delinq',\n",
              "       'tot_colle_amt', 'tot_curr_bal'],\n",
              "      dtype='object')"
            ]
          },
          "metadata": {
            "tags": []
          },
          "execution_count": 7
        }
      ]
    },
    {
      "cell_type": "markdown",
      "metadata": {
        "id": "rXp8WwYPN4WC",
        "colab_type": "text"
      },
      "source": [
        "**Deleting Unnecessary Columns**"
      ]
    },
    {
      "cell_type": "code",
      "metadata": {
        "id": "38JN73_F7rjt",
        "colab_type": "code",
        "colab": {}
      },
      "source": [
        "df_bst = df_bst.drop(columns=['member_id ','batch_ID ','mths_since_last_delinq','mths_since_last_record','mths_since_last_major_derog','verification_status_joint'],axis=1)"
      ],
      "execution_count": null,
      "outputs": []
    },
    {
      "cell_type": "code",
      "metadata": {
        "id": "xrzHwq4NmAF3",
        "colab_type": "code",
        "colab": {
          "base_uri": "https://localhost:8080/",
          "height": 191
        },
        "outputId": "8e8bf91f-0389-4b86-b52c-4bf61f591ca2"
      },
      "source": [
        "df_bst.columns"
      ],
      "execution_count": null,
      "outputs": [
        {
          "output_type": "execute_result",
          "data": {
            "text/plain": [
              "Index(['loan_amnt ', 'terms', 'Rate_of_intrst', 'grade', 'sub_grade',\n",
              "       'Emp_designation', 'Experience', 'home_ownership', 'annual_inc',\n",
              "       'verification_status', 'purpose', 'State', 'debt_income_ratio',\n",
              "       'delinq_2yrs', 'inq_last_6mths', 'numb_credit', 'pub_rec',\n",
              "       'total revol_bal', 'total_credits', 'initial_list_status',\n",
              "       'total_rec_int', 'total_rec_late_fee', 'recoveries',\n",
              "       'collection_recovery_fee', 'collections_12_mths_ex_med',\n",
              "       'application_type', 'last_week_pay', 'acc_now_delinq', 'tot_colle_amt',\n",
              "       'tot_curr_bal'],\n",
              "      dtype='object')"
            ]
          },
          "metadata": {
            "tags": []
          },
          "execution_count": 9
        }
      ]
    },
    {
      "cell_type": "markdown",
      "metadata": {
        "id": "rrnBB4u9N9KN",
        "colab_type": "text"
      },
      "source": [
        "**Separating Categorical Variables**"
      ]
    },
    {
      "cell_type": "code",
      "metadata": {
        "id": "a7lCPe0v7T_h",
        "colab_type": "code",
        "colab": {
          "base_uri": "https://localhost:8080/",
          "height": 225
        },
        "outputId": "bf853fc1-d5da-451c-af66-a313b433003d"
      },
      "source": [
        "catgor1 = [colmn for colmn in df_bst.columns if df_bst[colmn].dtypes == 'O']\n",
        "catgor1"
      ],
      "execution_count": null,
      "outputs": [
        {
          "output_type": "execute_result",
          "data": {
            "text/plain": [
              "['terms',\n",
              " 'grade',\n",
              " 'sub_grade',\n",
              " 'Emp_designation',\n",
              " 'Experience',\n",
              " 'home_ownership',\n",
              " 'verification_status',\n",
              " 'purpose',\n",
              " 'State',\n",
              " 'initial_list_status',\n",
              " 'application_type',\n",
              " 'last_week_pay']"
            ]
          },
          "metadata": {
            "tags": []
          },
          "execution_count": 10
        }
      ]
    },
    {
      "cell_type": "markdown",
      "metadata": {
        "id": "V2mXxc9bOCtc",
        "colab_type": "text"
      },
      "source": [
        "**Deleting Categorical Variables**"
      ]
    },
    {
      "cell_type": "code",
      "metadata": {
        "id": "-2SzqLWfmfpm",
        "colab_type": "code",
        "colab": {}
      },
      "source": [
        "df_bst = df_bst.drop(columns=catgor1,axis=1)"
      ],
      "execution_count": null,
      "outputs": []
    },
    {
      "cell_type": "markdown",
      "metadata": {
        "id": "Q_359jVhOIWu",
        "colab_type": "text"
      },
      "source": [
        "**Displaying No. of Rows & Columns**"
      ]
    },
    {
      "cell_type": "code",
      "metadata": {
        "id": "SZtdKITS7ff-",
        "colab_type": "code",
        "colab": {
          "base_uri": "https://localhost:8080/",
          "height": 35
        },
        "outputId": "b4f37cf2-6404-4304-a594-c53eec88f5c1"
      },
      "source": [
        "df_bst.shape"
      ],
      "execution_count": null,
      "outputs": [
        {
          "output_type": "execute_result",
          "data": {
            "text/plain": [
              "(887379, 18)"
            ]
          },
          "metadata": {
            "tags": []
          },
          "execution_count": 12
        }
      ]
    },
    {
      "cell_type": "code",
      "metadata": {
        "id": "8KuylS5tnkaN",
        "colab_type": "code",
        "colab": {
          "base_uri": "https://localhost:8080/",
          "height": 139
        },
        "outputId": "13096c8a-3ea7-48cc-d098-04179b73e5ee"
      },
      "source": [
        "df_bst.columns"
      ],
      "execution_count": null,
      "outputs": [
        {
          "output_type": "execute_result",
          "data": {
            "text/plain": [
              "Index(['loan_amnt ', 'Rate_of_intrst', 'annual_inc', 'debt_income_ratio',\n",
              "       'delinq_2yrs', 'inq_last_6mths', 'numb_credit', 'pub_rec',\n",
              "       'total revol_bal', 'total_credits', 'total_rec_int',\n",
              "       'total_rec_late_fee', 'recoveries', 'collection_recovery_fee',\n",
              "       'collections_12_mths_ex_med', 'acc_now_delinq', 'tot_colle_amt',\n",
              "       'tot_curr_bal'],\n",
              "      dtype='object')"
            ]
          },
          "metadata": {
            "tags": []
          },
          "execution_count": 13
        }
      ]
    },
    {
      "cell_type": "markdown",
      "metadata": {
        "id": "Mzk9nW6rOQgz",
        "colab_type": "text"
      },
      "source": [
        "**Filling NA values wrt Mean**"
      ]
    },
    {
      "cell_type": "code",
      "metadata": {
        "id": "q35q5az55E5i",
        "colab_type": "code",
        "colab": {}
      },
      "source": [
        "df_bst.collections_12_mths_ex_med = df_bst.collections_12_mths_ex_med.fillna(df_bst.collections_12_mths_ex_med.mean())\n",
        "#df_bst.mths_since_last_major_derog = df_bst.mths_since_last_major_derog.fillna(df_bst.mths_since_last_major_derog.mean())\n",
        "#df_bst.Experience = df_bst.Experience.fillna(df_bst.Experience.mean())\n",
        "df_bst.delinq_2yrs = df_bst.delinq_2yrs.fillna(df_bst.delinq_2yrs.mean())\n",
        "df_bst.inq_last_6mths = df_bst.inq_last_6mths.fillna(df_bst.inq_last_6mths.mean())\n",
        "#df_bst.mths_since_last_delinq = df_bst.mths_since_last_delinq.fillna(df_bst.mths_since_last_delinq.mean())\n",
        "#df_bst.mths_since_last_record = df_bst.mths_since_last_record.fillna(df_bst.mths_since_last_record.mean())\n",
        "df_bst.numb_credit = df_bst.numb_credit.fillna(df_bst.numb_credit.mean())\n",
        "df_bst.total_credits = df_bst.total_credits.fillna(df_bst.total_credits.mean())\n",
        "df_bst.tot_colle_amt = df_bst.tot_colle_amt.fillna(df_bst.tot_colle_amt.mean())\n",
        "df_bst.tot_curr_bal = df_bst.tot_curr_bal.fillna(df_bst.tot_curr_bal.mean())\n",
        "df_bst.pub_rec  = df_bst.pub_rec.fillna(df_bst.pub_rec.mean())\n",
        "df_bst.acc_now_delinq  = df_bst.acc_now_delinq.fillna(df_bst.acc_now_delinq.mean())\n",
        "#df_bst.last_week_pay  = df_bst.last_week_pay.fillna(df_bst.last_week_pay.mean())\n",
        "df_bst.annual_inc = df_bst.annual_inc.fillna(df_bst.annual_inc.mean())"
      ],
      "execution_count": null,
      "outputs": []
    },
    {
      "cell_type": "markdown",
      "metadata": {
        "id": "i0oJushSOWv4",
        "colab_type": "text"
      },
      "source": [
        "**Removing NA values If any exist**"
      ]
    },
    {
      "cell_type": "code",
      "metadata": {
        "id": "sl78QpxhoEny",
        "colab_type": "code",
        "colab": {
          "base_uri": "https://localhost:8080/",
          "height": 453
        },
        "outputId": "b3ab924c-bfa6-41cf-f689-730a9525289f"
      },
      "source": [
        "df_bst.dropna(how='any',axis=0)"
      ],
      "execution_count": null,
      "outputs": [
        {
          "output_type": "execute_result",
          "data": {
            "text/html": [
              "<div>\n",
              "<style scoped>\n",
              "    .dataframe tbody tr th:only-of-type {\n",
              "        vertical-align: middle;\n",
              "    }\n",
              "\n",
              "    .dataframe tbody tr th {\n",
              "        vertical-align: top;\n",
              "    }\n",
              "\n",
              "    .dataframe thead th {\n",
              "        text-align: right;\n",
              "    }\n",
              "</style>\n",
              "<table border=\"1\" class=\"dataframe\">\n",
              "  <thead>\n",
              "    <tr style=\"text-align: right;\">\n",
              "      <th></th>\n",
              "      <th>loan_amnt</th>\n",
              "      <th>Rate_of_intrst</th>\n",
              "      <th>annual_inc</th>\n",
              "      <th>debt_income_ratio</th>\n",
              "      <th>delinq_2yrs</th>\n",
              "      <th>inq_last_6mths</th>\n",
              "      <th>numb_credit</th>\n",
              "      <th>pub_rec</th>\n",
              "      <th>total revol_bal</th>\n",
              "      <th>total_credits</th>\n",
              "      <th>total_rec_int</th>\n",
              "      <th>total_rec_late_fee</th>\n",
              "      <th>recoveries</th>\n",
              "      <th>collection_recovery_fee</th>\n",
              "      <th>collections_12_mths_ex_med</th>\n",
              "      <th>acc_now_delinq</th>\n",
              "      <th>tot_colle_amt</th>\n",
              "      <th>tot_curr_bal</th>\n",
              "    </tr>\n",
              "  </thead>\n",
              "  <tbody>\n",
              "    <tr>\n",
              "      <th>0</th>\n",
              "      <td>14350</td>\n",
              "      <td>19.19</td>\n",
              "      <td>28700.0</td>\n",
              "      <td>33.88</td>\n",
              "      <td>0.0</td>\n",
              "      <td>1.0</td>\n",
              "      <td>14.0</td>\n",
              "      <td>1.0</td>\n",
              "      <td>22515.0</td>\n",
              "      <td>28.0</td>\n",
              "      <td>1173.84</td>\n",
              "      <td>0.0</td>\n",
              "      <td>0.0</td>\n",
              "      <td>0.0</td>\n",
              "      <td>0.0</td>\n",
              "      <td>0.0</td>\n",
              "      <td>0.00000</td>\n",
              "      <td>28699.000000</td>\n",
              "    </tr>\n",
              "    <tr>\n",
              "      <th>1</th>\n",
              "      <td>4800</td>\n",
              "      <td>10.99</td>\n",
              "      <td>65000.0</td>\n",
              "      <td>3.64</td>\n",
              "      <td>0.0</td>\n",
              "      <td>1.0</td>\n",
              "      <td>6.0</td>\n",
              "      <td>0.0</td>\n",
              "      <td>7624.0</td>\n",
              "      <td>13.0</td>\n",
              "      <td>83.95</td>\n",
              "      <td>0.0</td>\n",
              "      <td>0.0</td>\n",
              "      <td>0.0</td>\n",
              "      <td>0.0</td>\n",
              "      <td>0.0</td>\n",
              "      <td>0.00000</td>\n",
              "      <td>9974.000000</td>\n",
              "    </tr>\n",
              "    <tr>\n",
              "      <th>2</th>\n",
              "      <td>10000</td>\n",
              "      <td>7.26</td>\n",
              "      <td>45000.0</td>\n",
              "      <td>18.42</td>\n",
              "      <td>0.0</td>\n",
              "      <td>0.0</td>\n",
              "      <td>5.0</td>\n",
              "      <td>0.0</td>\n",
              "      <td>10877.0</td>\n",
              "      <td>19.0</td>\n",
              "      <td>56.47</td>\n",
              "      <td>0.0</td>\n",
              "      <td>0.0</td>\n",
              "      <td>0.0</td>\n",
              "      <td>0.0</td>\n",
              "      <td>0.0</td>\n",
              "      <td>65.00000</td>\n",
              "      <td>38295.000000</td>\n",
              "    </tr>\n",
              "    <tr>\n",
              "      <th>3</th>\n",
              "      <td>15000</td>\n",
              "      <td>19.72</td>\n",
              "      <td>105000.0</td>\n",
              "      <td>14.97</td>\n",
              "      <td>0.0</td>\n",
              "      <td>2.0</td>\n",
              "      <td>10.0</td>\n",
              "      <td>0.0</td>\n",
              "      <td>13712.0</td>\n",
              "      <td>21.0</td>\n",
              "      <td>4858.62</td>\n",
              "      <td>0.0</td>\n",
              "      <td>0.0</td>\n",
              "      <td>0.0</td>\n",
              "      <td>0.0</td>\n",
              "      <td>0.0</td>\n",
              "      <td>0.00000</td>\n",
              "      <td>55564.000000</td>\n",
              "    </tr>\n",
              "    <tr>\n",
              "      <th>4</th>\n",
              "      <td>16000</td>\n",
              "      <td>10.64</td>\n",
              "      <td>52000.0</td>\n",
              "      <td>20.16</td>\n",
              "      <td>0.0</td>\n",
              "      <td>0.0</td>\n",
              "      <td>11.0</td>\n",
              "      <td>0.0</td>\n",
              "      <td>35835.0</td>\n",
              "      <td>27.0</td>\n",
              "      <td>2296.41</td>\n",
              "      <td>0.0</td>\n",
              "      <td>0.0</td>\n",
              "      <td>0.0</td>\n",
              "      <td>0.0</td>\n",
              "      <td>0.0</td>\n",
              "      <td>0.00000</td>\n",
              "      <td>47159.000000</td>\n",
              "    </tr>\n",
              "    <tr>\n",
              "      <th>...</th>\n",
              "      <td>...</td>\n",
              "      <td>...</td>\n",
              "      <td>...</td>\n",
              "      <td>...</td>\n",
              "      <td>...</td>\n",
              "      <td>...</td>\n",
              "      <td>...</td>\n",
              "      <td>...</td>\n",
              "      <td>...</td>\n",
              "      <td>...</td>\n",
              "      <td>...</td>\n",
              "      <td>...</td>\n",
              "      <td>...</td>\n",
              "      <td>...</td>\n",
              "      <td>...</td>\n",
              "      <td>...</td>\n",
              "      <td>...</td>\n",
              "      <td>...</td>\n",
              "    </tr>\n",
              "    <tr>\n",
              "      <th>887374</th>\n",
              "      <td>15000</td>\n",
              "      <td>6.49</td>\n",
              "      <td>97250.0</td>\n",
              "      <td>12.46</td>\n",
              "      <td>0.0</td>\n",
              "      <td>0.0</td>\n",
              "      <td>12.0</td>\n",
              "      <td>0.0</td>\n",
              "      <td>12201.0</td>\n",
              "      <td>24.0</td>\n",
              "      <td>1180.32</td>\n",
              "      <td>0.0</td>\n",
              "      <td>0.0</td>\n",
              "      <td>0.0</td>\n",
              "      <td>0.0</td>\n",
              "      <td>0.0</td>\n",
              "      <td>0.00000</td>\n",
              "      <td>143920.000000</td>\n",
              "    </tr>\n",
              "    <tr>\n",
              "      <th>887375</th>\n",
              "      <td>35000</td>\n",
              "      <td>25.89</td>\n",
              "      <td>180000.0</td>\n",
              "      <td>11.78</td>\n",
              "      <td>2.0</td>\n",
              "      <td>2.0</td>\n",
              "      <td>21.0</td>\n",
              "      <td>0.0</td>\n",
              "      <td>52584.0</td>\n",
              "      <td>33.0</td>\n",
              "      <td>6508.41</td>\n",
              "      <td>0.0</td>\n",
              "      <td>0.0</td>\n",
              "      <td>0.0</td>\n",
              "      <td>0.0</td>\n",
              "      <td>0.0</td>\n",
              "      <td>0.00000</td>\n",
              "      <td>772713.000000</td>\n",
              "    </tr>\n",
              "    <tr>\n",
              "      <th>887376</th>\n",
              "      <td>14000</td>\n",
              "      <td>17.51</td>\n",
              "      <td>56000.0</td>\n",
              "      <td>16.44</td>\n",
              "      <td>0.0</td>\n",
              "      <td>3.0</td>\n",
              "      <td>11.0</td>\n",
              "      <td>1.0</td>\n",
              "      <td>10948.0</td>\n",
              "      <td>25.0</td>\n",
              "      <td>3456.24</td>\n",
              "      <td>0.0</td>\n",
              "      <td>0.0</td>\n",
              "      <td>0.0</td>\n",
              "      <td>0.0</td>\n",
              "      <td>0.0</td>\n",
              "      <td>225.70261</td>\n",
              "      <td>139458.189336</td>\n",
              "    </tr>\n",
              "    <tr>\n",
              "      <th>887377</th>\n",
              "      <td>20000</td>\n",
              "      <td>7.26</td>\n",
              "      <td>100000.0</td>\n",
              "      <td>15.00</td>\n",
              "      <td>0.0</td>\n",
              "      <td>0.0</td>\n",
              "      <td>7.0</td>\n",
              "      <td>0.0</td>\n",
              "      <td>33599.0</td>\n",
              "      <td>11.0</td>\n",
              "      <td>766.84</td>\n",
              "      <td>0.0</td>\n",
              "      <td>0.0</td>\n",
              "      <td>0.0</td>\n",
              "      <td>0.0</td>\n",
              "      <td>0.0</td>\n",
              "      <td>0.00000</td>\n",
              "      <td>291998.000000</td>\n",
              "    </tr>\n",
              "    <tr>\n",
              "      <th>887378</th>\n",
              "      <td>2700</td>\n",
              "      <td>7.49</td>\n",
              "      <td>12000.0</td>\n",
              "      <td>28.00</td>\n",
              "      <td>0.0</td>\n",
              "      <td>0.0</td>\n",
              "      <td>7.0</td>\n",
              "      <td>0.0</td>\n",
              "      <td>5118.0</td>\n",
              "      <td>7.0</td>\n",
              "      <td>326.06</td>\n",
              "      <td>0.0</td>\n",
              "      <td>0.0</td>\n",
              "      <td>0.0</td>\n",
              "      <td>0.0</td>\n",
              "      <td>0.0</td>\n",
              "      <td>225.70261</td>\n",
              "      <td>139458.189336</td>\n",
              "    </tr>\n",
              "  </tbody>\n",
              "</table>\n",
              "<p>887379 rows × 18 columns</p>\n",
              "</div>"
            ],
            "text/plain": [
              "        loan_amnt   Rate_of_intrst  ...  tot_colle_amt   tot_curr_bal\n",
              "0            14350           19.19  ...        0.00000   28699.000000\n",
              "1             4800           10.99  ...        0.00000    9974.000000\n",
              "2            10000            7.26  ...       65.00000   38295.000000\n",
              "3            15000           19.72  ...        0.00000   55564.000000\n",
              "4            16000           10.64  ...        0.00000   47159.000000\n",
              "...            ...             ...  ...            ...            ...\n",
              "887374       15000            6.49  ...        0.00000  143920.000000\n",
              "887375       35000           25.89  ...        0.00000  772713.000000\n",
              "887376       14000           17.51  ...      225.70261  139458.189336\n",
              "887377       20000            7.26  ...        0.00000  291998.000000\n",
              "887378        2700            7.49  ...      225.70261  139458.189336\n",
              "\n",
              "[887379 rows x 18 columns]"
            ]
          },
          "metadata": {
            "tags": []
          },
          "execution_count": 15
        }
      ]
    },
    {
      "cell_type": "markdown",
      "metadata": {
        "id": "Fss5W2hYOhLm",
        "colab_type": "text"
      },
      "source": [
        "**Checking Datatype of each columns**"
      ]
    },
    {
      "cell_type": "code",
      "metadata": {
        "id": "7z_x9Cos5Kc9",
        "colab_type": "code",
        "colab": {
          "base_uri": "https://localhost:8080/",
          "height": 347
        },
        "outputId": "82c4b3e1-0605-454c-f7a1-652364b9f7da"
      },
      "source": [
        "df_bst.dtypes"
      ],
      "execution_count": null,
      "outputs": [
        {
          "output_type": "execute_result",
          "data": {
            "text/plain": [
              "loan_amnt                       int64\n",
              "Rate_of_intrst                float64\n",
              "annual_inc                    float64\n",
              "debt_income_ratio             float64\n",
              "delinq_2yrs                   float64\n",
              "inq_last_6mths                float64\n",
              "numb_credit                   float64\n",
              "pub_rec                       float64\n",
              "total revol_bal               float64\n",
              "total_credits                 float64\n",
              "total_rec_int                 float64\n",
              "total_rec_late_fee            float64\n",
              "recoveries                    float64\n",
              "collection_recovery_fee       float64\n",
              "collections_12_mths_ex_med    float64\n",
              "acc_now_delinq                float64\n",
              "tot_colle_amt                 float64\n",
              "tot_curr_bal                  float64\n",
              "dtype: object"
            ]
          },
          "metadata": {
            "tags": []
          },
          "execution_count": 16
        }
      ]
    },
    {
      "cell_type": "markdown",
      "metadata": {
        "id": "T5UMGbU8OmIV",
        "colab_type": "text"
      },
      "source": [
        "**Describe Function will give us statistical score like Mean, Standard Deviation, Quartile, half & Max**"
      ]
    },
    {
      "cell_type": "code",
      "metadata": {
        "id": "Ojt-VZtD5Mlb",
        "colab_type": "code",
        "colab": {
          "base_uri": "https://localhost:8080/",
          "height": 331
        },
        "outputId": "d1fedf0a-95f5-4d36-a84e-a574e4e4483e"
      },
      "source": [
        "df_bst.describe()"
      ],
      "execution_count": null,
      "outputs": [
        {
          "output_type": "execute_result",
          "data": {
            "text/html": [
              "<div>\n",
              "<style scoped>\n",
              "    .dataframe tbody tr th:only-of-type {\n",
              "        vertical-align: middle;\n",
              "    }\n",
              "\n",
              "    .dataframe tbody tr th {\n",
              "        vertical-align: top;\n",
              "    }\n",
              "\n",
              "    .dataframe thead th {\n",
              "        text-align: right;\n",
              "    }\n",
              "</style>\n",
              "<table border=\"1\" class=\"dataframe\">\n",
              "  <thead>\n",
              "    <tr style=\"text-align: right;\">\n",
              "      <th></th>\n",
              "      <th>loan_amnt</th>\n",
              "      <th>Rate_of_intrst</th>\n",
              "      <th>annual_inc</th>\n",
              "      <th>debt_income_ratio</th>\n",
              "      <th>delinq_2yrs</th>\n",
              "      <th>inq_last_6mths</th>\n",
              "      <th>numb_credit</th>\n",
              "      <th>pub_rec</th>\n",
              "      <th>total revol_bal</th>\n",
              "      <th>total_credits</th>\n",
              "      <th>total_rec_int</th>\n",
              "      <th>total_rec_late_fee</th>\n",
              "      <th>recoveries</th>\n",
              "      <th>collection_recovery_fee</th>\n",
              "      <th>collections_12_mths_ex_med</th>\n",
              "      <th>acc_now_delinq</th>\n",
              "      <th>tot_colle_amt</th>\n",
              "      <th>tot_curr_bal</th>\n",
              "    </tr>\n",
              "  </thead>\n",
              "  <tbody>\n",
              "    <tr>\n",
              "      <th>count</th>\n",
              "      <td>887379.000000</td>\n",
              "      <td>887379.000000</td>\n",
              "      <td>8.873790e+05</td>\n",
              "      <td>887379.000000</td>\n",
              "      <td>887379.000000</td>\n",
              "      <td>887379.000000</td>\n",
              "      <td>887379.000000</td>\n",
              "      <td>887379.000000</td>\n",
              "      <td>8.873790e+05</td>\n",
              "      <td>887379.000000</td>\n",
              "      <td>887379.000000</td>\n",
              "      <td>887379.000000</td>\n",
              "      <td>887379.000000</td>\n",
              "      <td>887379.000000</td>\n",
              "      <td>887379.00000</td>\n",
              "      <td>887379.000000</td>\n",
              "      <td>8.873790e+05</td>\n",
              "      <td>8.873790e+05</td>\n",
              "    </tr>\n",
              "    <tr>\n",
              "      <th>mean</th>\n",
              "      <td>14755.264605</td>\n",
              "      <td>13.246740</td>\n",
              "      <td>7.502759e+04</td>\n",
              "      <td>18.157039</td>\n",
              "      <td>0.314442</td>\n",
              "      <td>0.694623</td>\n",
              "      <td>11.548469</td>\n",
              "      <td>0.195307</td>\n",
              "      <td>1.692079e+04</td>\n",
              "      <td>25.268026</td>\n",
              "      <td>1754.804327</td>\n",
              "      <td>0.396692</td>\n",
              "      <td>45.919243</td>\n",
              "      <td>4.880757</td>\n",
              "      <td>0.01438</td>\n",
              "      <td>0.004991</td>\n",
              "      <td>2.257026e+02</td>\n",
              "      <td>1.394582e+05</td>\n",
              "    </tr>\n",
              "    <tr>\n",
              "      <th>std</th>\n",
              "      <td>8435.455601</td>\n",
              "      <td>4.381867</td>\n",
              "      <td>6.469815e+04</td>\n",
              "      <td>17.190626</td>\n",
              "      <td>0.862230</td>\n",
              "      <td>0.998431</td>\n",
              "      <td>5.317226</td>\n",
              "      <td>0.582081</td>\n",
              "      <td>2.242679e+04</td>\n",
              "      <td>11.840368</td>\n",
              "      <td>2095.356099</td>\n",
              "      <td>4.087825</td>\n",
              "      <td>409.693874</td>\n",
              "      <td>63.125281</td>\n",
              "      <td>0.13418</td>\n",
              "      <td>0.077624</td>\n",
              "      <td>9.894641e+03</td>\n",
              "      <td>1.475363e+05</td>\n",
              "    </tr>\n",
              "    <tr>\n",
              "      <th>min</th>\n",
              "      <td>500.000000</td>\n",
              "      <td>5.320000</td>\n",
              "      <td>0.000000e+00</td>\n",
              "      <td>0.000000</td>\n",
              "      <td>0.000000</td>\n",
              "      <td>0.000000</td>\n",
              "      <td>0.000000</td>\n",
              "      <td>0.000000</td>\n",
              "      <td>0.000000e+00</td>\n",
              "      <td>1.000000</td>\n",
              "      <td>0.000000</td>\n",
              "      <td>0.000000</td>\n",
              "      <td>0.000000</td>\n",
              "      <td>0.000000</td>\n",
              "      <td>0.00000</td>\n",
              "      <td>0.000000</td>\n",
              "      <td>0.000000e+00</td>\n",
              "      <td>0.000000e+00</td>\n",
              "    </tr>\n",
              "    <tr>\n",
              "      <th>25%</th>\n",
              "      <td>8000.000000</td>\n",
              "      <td>9.990000</td>\n",
              "      <td>4.500000e+04</td>\n",
              "      <td>11.910000</td>\n",
              "      <td>0.000000</td>\n",
              "      <td>0.000000</td>\n",
              "      <td>8.000000</td>\n",
              "      <td>0.000000</td>\n",
              "      <td>6.443000e+03</td>\n",
              "      <td>17.000000</td>\n",
              "      <td>441.460000</td>\n",
              "      <td>0.000000</td>\n",
              "      <td>0.000000</td>\n",
              "      <td>0.000000</td>\n",
              "      <td>0.00000</td>\n",
              "      <td>0.000000</td>\n",
              "      <td>0.000000e+00</td>\n",
              "      <td>3.224600e+04</td>\n",
              "    </tr>\n",
              "    <tr>\n",
              "      <th>50%</th>\n",
              "      <td>13000.000000</td>\n",
              "      <td>12.990000</td>\n",
              "      <td>6.500000e+04</td>\n",
              "      <td>17.650000</td>\n",
              "      <td>0.000000</td>\n",
              "      <td>0.000000</td>\n",
              "      <td>11.000000</td>\n",
              "      <td>0.000000</td>\n",
              "      <td>1.187500e+04</td>\n",
              "      <td>24.000000</td>\n",
              "      <td>1073.280000</td>\n",
              "      <td>0.000000</td>\n",
              "      <td>0.000000</td>\n",
              "      <td>0.000000</td>\n",
              "      <td>0.00000</td>\n",
              "      <td>0.000000</td>\n",
              "      <td>0.000000e+00</td>\n",
              "      <td>1.000890e+05</td>\n",
              "    </tr>\n",
              "    <tr>\n",
              "      <th>75%</th>\n",
              "      <td>20000.000000</td>\n",
              "      <td>16.200000</td>\n",
              "      <td>9.000000e+04</td>\n",
              "      <td>23.950000</td>\n",
              "      <td>0.000000</td>\n",
              "      <td>1.000000</td>\n",
              "      <td>14.000000</td>\n",
              "      <td>0.000000</td>\n",
              "      <td>2.082900e+04</td>\n",
              "      <td>32.000000</td>\n",
              "      <td>2238.265000</td>\n",
              "      <td>0.000000</td>\n",
              "      <td>0.000000</td>\n",
              "      <td>0.000000</td>\n",
              "      <td>0.00000</td>\n",
              "      <td>0.000000</td>\n",
              "      <td>0.000000e+00</td>\n",
              "      <td>1.957940e+05</td>\n",
              "    </tr>\n",
              "    <tr>\n",
              "      <th>max</th>\n",
              "      <td>35000.000000</td>\n",
              "      <td>28.990000</td>\n",
              "      <td>9.500000e+06</td>\n",
              "      <td>9999.000000</td>\n",
              "      <td>39.000000</td>\n",
              "      <td>33.000000</td>\n",
              "      <td>90.000000</td>\n",
              "      <td>86.000000</td>\n",
              "      <td>2.904836e+06</td>\n",
              "      <td>169.000000</td>\n",
              "      <td>24205.620000</td>\n",
              "      <td>358.680000</td>\n",
              "      <td>33520.270000</td>\n",
              "      <td>7002.190000</td>\n",
              "      <td>20.00000</td>\n",
              "      <td>14.000000</td>\n",
              "      <td>9.152545e+06</td>\n",
              "      <td>8.000078e+06</td>\n",
              "    </tr>\n",
              "  </tbody>\n",
              "</table>\n",
              "</div>"
            ],
            "text/plain": [
              "          loan_amnt   Rate_of_intrst  ...  tot_colle_amt  tot_curr_bal\n",
              "count  887379.000000   887379.000000  ...   8.873790e+05  8.873790e+05\n",
              "mean    14755.264605       13.246740  ...   2.257026e+02  1.394582e+05\n",
              "std      8435.455601        4.381867  ...   9.894641e+03  1.475363e+05\n",
              "min       500.000000        5.320000  ...   0.000000e+00  0.000000e+00\n",
              "25%      8000.000000        9.990000  ...   0.000000e+00  3.224600e+04\n",
              "50%     13000.000000       12.990000  ...   0.000000e+00  1.000890e+05\n",
              "75%     20000.000000       16.200000  ...   0.000000e+00  1.957940e+05\n",
              "max     35000.000000       28.990000  ...   9.152545e+06  8.000078e+06\n",
              "\n",
              "[8 rows x 18 columns]"
            ]
          },
          "metadata": {
            "tags": []
          },
          "execution_count": 17
        }
      ]
    },
    {
      "cell_type": "markdown",
      "metadata": {
        "id": "gM4tSsYMOtmW",
        "colab_type": "text"
      },
      "source": [
        "**Checking Correlation of all Feature Variables with Target Variable**"
      ]
    },
    {
      "cell_type": "code",
      "metadata": {
        "id": "nW3IpGjd5OsR",
        "colab_type": "code",
        "colab": {
          "base_uri": "https://localhost:8080/",
          "height": 347
        },
        "outputId": "e11c7012-cc05-4266-f41f-8138f77f1a2b"
      },
      "source": [
        "df_bst[df_bst.columns[0:]].corr()['total revol_bal'][:]"
      ],
      "execution_count": null,
      "outputs": [
        {
          "output_type": "execute_result",
          "data": {
            "text/plain": [
              "loan_amnt                     0.333580\n",
              "Rate_of_intrst               -0.035708\n",
              "annual_inc                    0.295783\n",
              "debt_income_ratio             0.067277\n",
              "delinq_2yrs                  -0.032486\n",
              "inq_last_6mths               -0.017556\n",
              "numb_credit                   0.224540\n",
              "pub_rec                      -0.100609\n",
              "total revol_bal               1.000000\n",
              "total_credits                 0.189103\n",
              "total_rec_int                 0.137380\n",
              "total_rec_late_fee            0.002774\n",
              "recoveries                    0.010828\n",
              "collection_recovery_fee       0.008151\n",
              "collections_12_mths_ex_med   -0.022850\n",
              "acc_now_delinq               -0.000855\n",
              "tot_colle_amt                -0.006036\n",
              "tot_curr_bal                  0.429024\n",
              "Name: total revol_bal, dtype: float64"
            ]
          },
          "metadata": {
            "tags": []
          },
          "execution_count": 18
        }
      ]
    },
    {
      "cell_type": "markdown",
      "metadata": {
        "id": "8lKcfMRKO0LZ",
        "colab_type": "text"
      },
      "source": [
        "**Checking Correlation of all columns Seperately**"
      ]
    },
    {
      "cell_type": "code",
      "metadata": {
        "id": "RjmGFOB_5Q6t",
        "colab_type": "code",
        "colab": {
          "base_uri": "https://localhost:8080/",
          "height": 381
        },
        "outputId": "8c8cec9b-7cbd-4a4e-a9ca-42526bc188cc"
      },
      "source": [
        "correlation_df = df_bst.corr()\n",
        "print(correlation_df)"
      ],
      "execution_count": null,
      "outputs": [
        {
          "output_type": "stream",
          "text": [
            "                            loan_amnt   ...  tot_curr_bal\n",
            "loan_amnt                     1.000000  ...      0.315930\n",
            "Rate_of_intrst                0.145023  ...     -0.088222\n",
            "annual_inc                    0.332697  ...      0.405282\n",
            "debt_income_ratio             0.020675  ...     -0.007218\n",
            "delinq_2yrs                  -0.000159  ...      0.063706\n",
            "inq_last_6mths               -0.034167  ...      0.031633\n",
            "numb_credit                   0.198900  ...      0.235886\n",
            "pub_rec                      -0.081175  ...     -0.075163\n",
            "total revol_bal               0.333580  ...      0.429024\n",
            "total_credits                 0.222633  ...      0.298828\n",
            "total_rec_int                 0.533916  ...      0.121613\n",
            "total_rec_late_fee            0.031395  ...      0.009866\n",
            "recoveries                    0.073150  ...      0.003686\n",
            "collection_recovery_fee       0.052205  ...      0.004628\n",
            "collections_12_mths_ex_med   -0.016648  ...     -0.010978\n",
            "acc_now_delinq                0.003947  ...      0.023382\n",
            "tot_colle_amt                -0.004108  ...     -0.000355\n",
            "tot_curr_bal                  0.315930  ...      1.000000\n",
            "\n",
            "[18 rows x 18 columns]\n"
          ],
          "name": "stdout"
        }
      ]
    },
    {
      "cell_type": "markdown",
      "metadata": {
        "id": "xd5IwR2FO66S",
        "colab_type": "text"
      },
      "source": [
        "**Type casting Loan Amount to float type**"
      ]
    },
    {
      "cell_type": "code",
      "metadata": {
        "id": "eO-yJtJOJ1-w",
        "colab_type": "code",
        "colab": {}
      },
      "source": [
        "df_bst['loan_amnt '] = df_bst['loan_amnt '].astype(float)"
      ],
      "execution_count": null,
      "outputs": []
    },
    {
      "cell_type": "code",
      "metadata": {
        "id": "2YcRiVVb5THR",
        "colab_type": "code",
        "colab": {
          "base_uri": "https://localhost:8080/",
          "height": 347
        },
        "outputId": "baeb7edc-70a6-4dcf-86f1-20da261530ff"
      },
      "source": [
        "df_bst.dtypes"
      ],
      "execution_count": null,
      "outputs": [
        {
          "output_type": "execute_result",
          "data": {
            "text/plain": [
              "loan_amnt                     float64\n",
              "Rate_of_intrst                float64\n",
              "annual_inc                    float64\n",
              "debt_income_ratio             float64\n",
              "delinq_2yrs                   float64\n",
              "inq_last_6mths                float64\n",
              "numb_credit                   float64\n",
              "pub_rec                       float64\n",
              "total revol_bal               float64\n",
              "total_credits                 float64\n",
              "total_rec_int                 float64\n",
              "total_rec_late_fee            float64\n",
              "recoveries                    float64\n",
              "collection_recovery_fee       float64\n",
              "collections_12_mths_ex_med    float64\n",
              "acc_now_delinq                float64\n",
              "tot_colle_amt                 float64\n",
              "tot_curr_bal                  float64\n",
              "dtype: object"
            ]
          },
          "metadata": {
            "tags": []
          },
          "execution_count": 21
        }
      ]
    },
    {
      "cell_type": "markdown",
      "metadata": {
        "id": "nphj-QQ1PDgd",
        "colab_type": "text"
      },
      "source": [
        "**Separating Feature & Categorical Variables**"
      ]
    },
    {
      "cell_type": "code",
      "metadata": {
        "id": "wTUt72kzoU6s",
        "colab_type": "code",
        "colab": {}
      },
      "source": [
        "X_bst = df_bst[['loan_amnt ', 'Rate_of_intrst', 'annual_inc', 'debt_income_ratio', 'delinq_2yrs', 'inq_last_6mths', 'numb_credit', \n",
        "       'pub_rec', 'total_credits', 'total_rec_int', 'total_rec_late_fee', 'recoveries', 'collection_recovery_fee', 'collections_12_mths_ex_med', \n",
        "       'acc_now_delinq', 'tot_colle_amt','tot_curr_bal']]\n",
        "Y_bst = df_bst[['total revol_bal']]"
      ],
      "execution_count": null,
      "outputs": []
    },
    {
      "cell_type": "markdown",
      "metadata": {
        "id": "sEcfWI5lPJAm",
        "colab_type": "text"
      },
      "source": [
        "**Performing Standard Scaler Operation to Dataset**"
      ]
    },
    {
      "cell_type": "code",
      "metadata": {
        "id": "4kbfPxPLoeVX",
        "colab_type": "code",
        "colab": {}
      },
      "source": [
        "from sklearn.preprocessing import StandardScaler\n",
        "X_std = StandardScaler()\n",
        "Y_std = StandardScaler()\n",
        "X_bst = X_std.fit_transform(X_bst)\n",
        "Y_bst = Y_std.fit_transform(Y_bst)"
      ],
      "execution_count": null,
      "outputs": []
    },
    {
      "cell_type": "markdown",
      "metadata": {
        "id": "aNh4WtqoPZNF",
        "colab_type": "text"
      },
      "source": [
        "**Applying Normlization to whole dataset**"
      ]
    },
    {
      "cell_type": "code",
      "metadata": {
        "id": "xsa35mQr53rh",
        "colab_type": "code",
        "colab": {}
      },
      "source": [
        "df_bst=(df_bst-df_bst.min())/(df_bst.max()-df_bst.min())"
      ],
      "execution_count": null,
      "outputs": []
    },
    {
      "cell_type": "code",
      "metadata": {
        "id": "M6K5sz86Nt5X",
        "colab_type": "code",
        "colab": {
          "base_uri": "https://localhost:8080/",
          "height": 139
        },
        "outputId": "eb8f6252-23fb-49f7-c1f8-6c7a09695199"
      },
      "source": [
        "df_bst.columns"
      ],
      "execution_count": null,
      "outputs": [
        {
          "output_type": "execute_result",
          "data": {
            "text/plain": [
              "Index(['loan_amnt ', 'Rate_of_intrst', 'annual_inc', 'debt_income_ratio',\n",
              "       'delinq_2yrs', 'inq_last_6mths', 'numb_credit', 'pub_rec',\n",
              "       'total revol_bal', 'total_credits', 'total_rec_int',\n",
              "       'total_rec_late_fee', 'recoveries', 'collection_recovery_fee',\n",
              "       'collections_12_mths_ex_med', 'acc_now_delinq', 'tot_colle_amt',\n",
              "       'tot_curr_bal'],\n",
              "      dtype='object')"
            ]
          },
          "metadata": {
            "tags": []
          },
          "execution_count": 25
        }
      ]
    },
    {
      "cell_type": "markdown",
      "metadata": {
        "id": "iV5vHrPRPhOU",
        "colab_type": "text"
      },
      "source": [
        "**Importing Required packages for XGBoosting Model**"
      ]
    },
    {
      "cell_type": "code",
      "metadata": {
        "id": "5b82Wv6TrtLb",
        "colab_type": "code",
        "colab": {}
      },
      "source": [
        "import xgboost as xgb\n",
        "from sklearn.metrics import mean_squared_error\n",
        "from sklearn.model_selection import train_test_split"
      ],
      "execution_count": null,
      "outputs": []
    },
    {
      "cell_type": "markdown",
      "metadata": {
        "id": "yfETzl4fPu1_",
        "colab_type": "text"
      },
      "source": [
        "**Performing Matrix Convertion for Target & Feature Variables**"
      ]
    },
    {
      "cell_type": "code",
      "metadata": {
        "id": "n96Pl5cutple",
        "colab_type": "code",
        "colab": {}
      },
      "source": [
        "data_dmatrix = xgb.DMatrix(data=X_bst,label=Y_bst)"
      ],
      "execution_count": null,
      "outputs": []
    },
    {
      "cell_type": "markdown",
      "metadata": {
        "id": "VXTAMqtRP555",
        "colab_type": "text"
      },
      "source": [
        "**Splitting whole Dataset into Train & Test**"
      ]
    },
    {
      "cell_type": "code",
      "metadata": {
        "id": "rWCIk4RZuOWD",
        "colab_type": "code",
        "colab": {
          "base_uri": "https://localhost:8080/",
          "height": 35
        },
        "outputId": "6a8e8b16-8771-476d-dbc9-00889c384a94"
      },
      "source": [
        "xtrain, xtest, ytrain, ytest = train_test_split(X_bst, Y_bst, test_size=0.3, random_state=42)\n",
        "xtrain.shape, xtest.shape"
      ],
      "execution_count": null,
      "outputs": [
        {
          "output_type": "execute_result",
          "data": {
            "text/plain": [
              "((621165, 17), (266214, 17))"
            ]
          },
          "metadata": {
            "tags": []
          },
          "execution_count": 28
        }
      ]
    },
    {
      "cell_type": "markdown",
      "metadata": {
        "id": "tTZT671_QCp7",
        "colab_type": "text"
      },
      "source": [
        "**Applying XGBRegressor for Model Building**"
      ]
    },
    {
      "cell_type": "code",
      "metadata": {
        "id": "BV6iN5AHt-KU",
        "colab_type": "code",
        "colab": {}
      },
      "source": [
        "xg_reg = xgb.XGBRegressor(objective ='reg:linear', colsample_bytree = 0.3, learning_rate = 0.1, max_depth = 5, \n",
        "                          alpha = 10, n_estimators = 10)"
      ],
      "execution_count": null,
      "outputs": []
    },
    {
      "cell_type": "markdown",
      "metadata": {
        "id": "eCtF-LPzQPlK",
        "colab_type": "text"
      },
      "source": [
        "**Applying XGBRegressor to Model**"
      ]
    },
    {
      "cell_type": "code",
      "metadata": {
        "id": "716VbZk_uEDT",
        "colab_type": "code",
        "colab": {
          "base_uri": "https://localhost:8080/",
          "height": 35
        },
        "outputId": "b26bce1f-4924-4744-fc5c-6ca13709a6dd"
      },
      "source": [
        "xg_reg.fit(xtrain,ytrain)\n",
        "preds = xg_reg.predict(xtest)"
      ],
      "execution_count": null,
      "outputs": [
        {
          "output_type": "stream",
          "text": [
            "[12:17:56] WARNING: /workspace/src/objective/regression_obj.cu:152: reg:linear is now deprecated in favor of reg:squarederror.\n"
          ],
          "name": "stdout"
        }
      ]
    },
    {
      "cell_type": "markdown",
      "metadata": {
        "id": "3teQBldgQoQV",
        "colab_type": "text"
      },
      "source": [
        "**Checking for RMSE [Root Mean Squared Error] on Test Data**"
      ]
    },
    {
      "cell_type": "code",
      "metadata": {
        "id": "n9IN_bYSukGn",
        "colab_type": "code",
        "colab": {
          "base_uri": "https://localhost:8080/",
          "height": 35
        },
        "outputId": "13ecc699-9dfc-412c-e8ec-65bc025ca52d"
      },
      "source": [
        "rmse = np.sqrt(mean_squared_error(ytest, preds))\n",
        "print(\"RMSE: %f\" % (rmse))"
      ],
      "execution_count": null,
      "outputs": [
        {
          "output_type": "stream",
          "text": [
            "RMSE: 0.886421\n"
          ],
          "name": "stdout"
        }
      ]
    },
    {
      "cell_type": "code",
      "metadata": {
        "id": "CI-uUmy_wb6N",
        "colab_type": "code",
        "colab": {}
      },
      "source": [
        "Y_test_bst = pd.DataFrame(data=Y_std.inverse_transform(ytest), columns=['total revol_bal'])"
      ],
      "execution_count": null,
      "outputs": []
    },
    {
      "cell_type": "code",
      "metadata": {
        "id": "FxLpV9sP2KUs",
        "colab_type": "code",
        "colab": {}
      },
      "source": [
        "X_tst_bst = xtest"
      ],
      "execution_count": null,
      "outputs": []
    },
    {
      "cell_type": "code",
      "metadata": {
        "id": "2kMiY-Js2syn",
        "colab_type": "code",
        "colab": {}
      },
      "source": [
        "pred_bst = Y_std.inverse_transform(xg_reg.predict(X_tst_bst))"
      ],
      "execution_count": null,
      "outputs": []
    },
    {
      "cell_type": "code",
      "metadata": {
        "id": "_v84FuQD5qVf",
        "colab_type": "code",
        "colab": {}
      },
      "source": [
        "Y_test_bst.insert(loc=1,column='Predicted_Values',value=pred_bst)"
      ],
      "execution_count": null,
      "outputs": []
    },
    {
      "cell_type": "markdown",
      "metadata": {
        "id": "DnZBvXgkRWWY",
        "colab_type": "text"
      },
      "source": [
        "**Printing Actual & Predicted Values of XGBoost Regressor**"
      ]
    },
    {
      "cell_type": "code",
      "metadata": {
        "id": "uPqa7Niq59_Q",
        "colab_type": "code",
        "colab": {
          "base_uri": "https://localhost:8080/",
          "height": 415
        },
        "outputId": "437b6720-6eff-4c58-c476-46f9d66367db"
      },
      "source": [
        "Y_test_bst"
      ],
      "execution_count": null,
      "outputs": [
        {
          "output_type": "execute_result",
          "data": {
            "text/html": [
              "<div>\n",
              "<style scoped>\n",
              "    .dataframe tbody tr th:only-of-type {\n",
              "        vertical-align: middle;\n",
              "    }\n",
              "\n",
              "    .dataframe tbody tr th {\n",
              "        vertical-align: top;\n",
              "    }\n",
              "\n",
              "    .dataframe thead th {\n",
              "        text-align: right;\n",
              "    }\n",
              "</style>\n",
              "<table border=\"1\" class=\"dataframe\">\n",
              "  <thead>\n",
              "    <tr style=\"text-align: right;\">\n",
              "      <th></th>\n",
              "      <th>total revol_bal</th>\n",
              "      <th>Predicted_Values</th>\n",
              "    </tr>\n",
              "  </thead>\n",
              "  <tbody>\n",
              "    <tr>\n",
              "      <th>0</th>\n",
              "      <td>7527.0</td>\n",
              "      <td>19900.054688</td>\n",
              "    </tr>\n",
              "    <tr>\n",
              "      <th>1</th>\n",
              "      <td>17678.0</td>\n",
              "      <td>24309.255859</td>\n",
              "    </tr>\n",
              "    <tr>\n",
              "      <th>2</th>\n",
              "      <td>8377.0</td>\n",
              "      <td>19539.537109</td>\n",
              "    </tr>\n",
              "    <tr>\n",
              "      <th>3</th>\n",
              "      <td>7555.0</td>\n",
              "      <td>20489.533203</td>\n",
              "    </tr>\n",
              "    <tr>\n",
              "      <th>4</th>\n",
              "      <td>170004.0</td>\n",
              "      <td>48521.718750</td>\n",
              "    </tr>\n",
              "    <tr>\n",
              "      <th>...</th>\n",
              "      <td>...</td>\n",
              "      <td>...</td>\n",
              "    </tr>\n",
              "    <tr>\n",
              "      <th>266209</th>\n",
              "      <td>19125.0</td>\n",
              "      <td>19100.835938</td>\n",
              "    </tr>\n",
              "    <tr>\n",
              "      <th>266210</th>\n",
              "      <td>17551.0</td>\n",
              "      <td>22886.326172</td>\n",
              "    </tr>\n",
              "    <tr>\n",
              "      <th>266211</th>\n",
              "      <td>28027.0</td>\n",
              "      <td>21961.437500</td>\n",
              "    </tr>\n",
              "    <tr>\n",
              "      <th>266212</th>\n",
              "      <td>38473.0</td>\n",
              "      <td>29608.214844</td>\n",
              "    </tr>\n",
              "    <tr>\n",
              "      <th>266213</th>\n",
              "      <td>21355.0</td>\n",
              "      <td>20165.183594</td>\n",
              "    </tr>\n",
              "  </tbody>\n",
              "</table>\n",
              "<p>266214 rows × 2 columns</p>\n",
              "</div>"
            ],
            "text/plain": [
              "        total revol_bal  Predicted_Values\n",
              "0                7527.0      19900.054688\n",
              "1               17678.0      24309.255859\n",
              "2                8377.0      19539.537109\n",
              "3                7555.0      20489.533203\n",
              "4              170004.0      48521.718750\n",
              "...                 ...               ...\n",
              "266209          19125.0      19100.835938\n",
              "266210          17551.0      22886.326172\n",
              "266211          28027.0      21961.437500\n",
              "266212          38473.0      29608.214844\n",
              "266213          21355.0      20165.183594\n",
              "\n",
              "[266214 rows x 2 columns]"
            ]
          },
          "metadata": {
            "tags": []
          },
          "execution_count": 37
        }
      ]
    },
    {
      "cell_type": "markdown",
      "metadata": {
        "id": "Rco6WpUpTJ7d",
        "colab_type": "text"
      },
      "source": [
        "**Printing Predicted Values at last columns in Original Dataset**"
      ]
    },
    {
      "cell_type": "code",
      "metadata": {
        "id": "vko4P7vK62tQ",
        "colab_type": "code",
        "colab": {}
      },
      "source": [
        "df_pred = pd.merge(df_bst,Y_test_bst[['Predicted_Values']],how = 'left',left_index = True, right_index = True)"
      ],
      "execution_count": null,
      "outputs": []
    },
    {
      "cell_type": "markdown",
      "metadata": {
        "id": "i_3DC33tq7Ay",
        "colab_type": "text"
      },
      "source": [
        "**Normalizing the predicted Values**"
      ]
    },
    {
      "cell_type": "code",
      "metadata": {
        "id": "R8-CFH-rqY1k",
        "colab_type": "code",
        "colab": {}
      },
      "source": [
        "df_pred['Predicted_Values']=(df_pred['Predicted_Values']-df_pred['Predicted_Values'].min())/(df_pred['Predicted_Values'].max()-df_pred['Predicted_Values'].min())"
      ],
      "execution_count": null,
      "outputs": []
    },
    {
      "cell_type": "markdown",
      "metadata": {
        "id": "2J33X8mQTVV5",
        "colab_type": "text"
      },
      "source": [
        "**Last Column is Predicted_Values Column**"
      ]
    },
    {
      "cell_type": "code",
      "metadata": {
        "id": "rDLF4JAS7T3v",
        "colab_type": "code",
        "colab": {
          "base_uri": "https://localhost:8080/",
          "height": 239
        },
        "outputId": "1d844477-e339-4aa6-df52-f4f8242a4b00"
      },
      "source": [
        "df_pred.head()"
      ],
      "execution_count": null,
      "outputs": [
        {
          "output_type": "execute_result",
          "data": {
            "text/html": [
              "<div>\n",
              "<style scoped>\n",
              "    .dataframe tbody tr th:only-of-type {\n",
              "        vertical-align: middle;\n",
              "    }\n",
              "\n",
              "    .dataframe tbody tr th {\n",
              "        vertical-align: top;\n",
              "    }\n",
              "\n",
              "    .dataframe thead th {\n",
              "        text-align: right;\n",
              "    }\n",
              "</style>\n",
              "<table border=\"1\" class=\"dataframe\">\n",
              "  <thead>\n",
              "    <tr style=\"text-align: right;\">\n",
              "      <th></th>\n",
              "      <th>loan_amnt</th>\n",
              "      <th>Rate_of_intrst</th>\n",
              "      <th>annual_inc</th>\n",
              "      <th>debt_income_ratio</th>\n",
              "      <th>delinq_2yrs</th>\n",
              "      <th>inq_last_6mths</th>\n",
              "      <th>numb_credit</th>\n",
              "      <th>pub_rec</th>\n",
              "      <th>total revol_bal</th>\n",
              "      <th>total_credits</th>\n",
              "      <th>total_rec_int</th>\n",
              "      <th>total_rec_late_fee</th>\n",
              "      <th>recoveries</th>\n",
              "      <th>collection_recovery_fee</th>\n",
              "      <th>collections_12_mths_ex_med</th>\n",
              "      <th>acc_now_delinq</th>\n",
              "      <th>tot_colle_amt</th>\n",
              "      <th>tot_curr_bal</th>\n",
              "      <th>Predicted_Values</th>\n",
              "    </tr>\n",
              "  </thead>\n",
              "  <tbody>\n",
              "    <tr>\n",
              "      <th>0</th>\n",
              "      <td>0.401449</td>\n",
              "      <td>0.585974</td>\n",
              "      <td>0.003021</td>\n",
              "      <td>0.003388</td>\n",
              "      <td>0.0</td>\n",
              "      <td>0.030303</td>\n",
              "      <td>0.155556</td>\n",
              "      <td>0.011628</td>\n",
              "      <td>0.007751</td>\n",
              "      <td>0.160714</td>\n",
              "      <td>0.048495</td>\n",
              "      <td>0.0</td>\n",
              "      <td>0.0</td>\n",
              "      <td>0.0</td>\n",
              "      <td>0.0</td>\n",
              "      <td>0.0</td>\n",
              "      <td>0.000000</td>\n",
              "      <td>0.003587</td>\n",
              "      <td>0.019388</td>\n",
              "    </tr>\n",
              "    <tr>\n",
              "      <th>1</th>\n",
              "      <td>0.124638</td>\n",
              "      <td>0.239544</td>\n",
              "      <td>0.006842</td>\n",
              "      <td>0.000364</td>\n",
              "      <td>0.0</td>\n",
              "      <td>0.030303</td>\n",
              "      <td>0.066667</td>\n",
              "      <td>0.000000</td>\n",
              "      <td>0.002625</td>\n",
              "      <td>0.071429</td>\n",
              "      <td>0.003468</td>\n",
              "      <td>0.0</td>\n",
              "      <td>0.0</td>\n",
              "      <td>0.0</td>\n",
              "      <td>0.0</td>\n",
              "      <td>0.0</td>\n",
              "      <td>0.000000</td>\n",
              "      <td>0.001247</td>\n",
              "      <td>0.030007</td>\n",
              "    </tr>\n",
              "    <tr>\n",
              "      <th>2</th>\n",
              "      <td>0.275362</td>\n",
              "      <td>0.081960</td>\n",
              "      <td>0.004737</td>\n",
              "      <td>0.001842</td>\n",
              "      <td>0.0</td>\n",
              "      <td>0.000000</td>\n",
              "      <td>0.055556</td>\n",
              "      <td>0.000000</td>\n",
              "      <td>0.003744</td>\n",
              "      <td>0.107143</td>\n",
              "      <td>0.002333</td>\n",
              "      <td>0.0</td>\n",
              "      <td>0.0</td>\n",
              "      <td>0.0</td>\n",
              "      <td>0.0</td>\n",
              "      <td>0.0</td>\n",
              "      <td>0.000007</td>\n",
              "      <td>0.004787</td>\n",
              "      <td>0.018519</td>\n",
              "    </tr>\n",
              "    <tr>\n",
              "      <th>3</th>\n",
              "      <td>0.420290</td>\n",
              "      <td>0.608365</td>\n",
              "      <td>0.011053</td>\n",
              "      <td>0.001497</td>\n",
              "      <td>0.0</td>\n",
              "      <td>0.060606</td>\n",
              "      <td>0.111111</td>\n",
              "      <td>0.000000</td>\n",
              "      <td>0.004720</td>\n",
              "      <td>0.119048</td>\n",
              "      <td>0.200723</td>\n",
              "      <td>0.0</td>\n",
              "      <td>0.0</td>\n",
              "      <td>0.0</td>\n",
              "      <td>0.0</td>\n",
              "      <td>0.0</td>\n",
              "      <td>0.000000</td>\n",
              "      <td>0.006945</td>\n",
              "      <td>0.020807</td>\n",
              "    </tr>\n",
              "    <tr>\n",
              "      <th>4</th>\n",
              "      <td>0.449275</td>\n",
              "      <td>0.224757</td>\n",
              "      <td>0.005474</td>\n",
              "      <td>0.002016</td>\n",
              "      <td>0.0</td>\n",
              "      <td>0.000000</td>\n",
              "      <td>0.122222</td>\n",
              "      <td>0.000000</td>\n",
              "      <td>0.012336</td>\n",
              "      <td>0.154762</td>\n",
              "      <td>0.094871</td>\n",
              "      <td>0.0</td>\n",
              "      <td>0.0</td>\n",
              "      <td>0.0</td>\n",
              "      <td>0.0</td>\n",
              "      <td>0.0</td>\n",
              "      <td>0.000000</td>\n",
              "      <td>0.005895</td>\n",
              "      <td>0.088320</td>\n",
              "    </tr>\n",
              "  </tbody>\n",
              "</table>\n",
              "</div>"
            ],
            "text/plain": [
              "   loan_amnt   Rate_of_intrst  ...  tot_curr_bal  Predicted_Values\n",
              "0    0.401449        0.585974  ...      0.003587          0.019388\n",
              "1    0.124638        0.239544  ...      0.001247          0.030007\n",
              "2    0.275362        0.081960  ...      0.004787          0.018519\n",
              "3    0.420290        0.608365  ...      0.006945          0.020807\n",
              "4    0.449275        0.224757  ...      0.005895          0.088320\n",
              "\n",
              "[5 rows x 19 columns]"
            ]
          },
          "metadata": {
            "tags": []
          },
          "execution_count": 40
        }
      ]
    },
    {
      "cell_type": "markdown",
      "metadata": {
        "id": "BU8ug8pGTmAw",
        "colab_type": "text"
      },
      "source": [
        "**K-Fold Cross Validation**"
      ]
    },
    {
      "cell_type": "code",
      "metadata": {
        "id": "bSoixdLTuzVq",
        "colab_type": "code",
        "colab": {
          "base_uri": "https://localhost:8080/",
          "height": 104
        },
        "outputId": "5cfbc8b9-069b-430c-b5a7-bd48df61e475"
      },
      "source": [
        "params = {\"objective\":\"reg:linear\",'colsample_bytree': 0.3,'learning_rate': 0.1,\n",
        "                'max_depth': 5, 'alpha': 10}\n",
        "\n",
        "cv_results = xgb.cv(dtrain=data_dmatrix, params=params, nfold=5,\n",
        "                    num_boost_round=50,early_stopping_rounds=10,metrics=\"rmse\", as_pandas=True, seed=100)"
      ],
      "execution_count": null,
      "outputs": [
        {
          "output_type": "stream",
          "text": [
            "[12:23:17] WARNING: /workspace/src/objective/regression_obj.cu:152: reg:linear is now deprecated in favor of reg:squarederror.\n",
            "[12:23:19] WARNING: /workspace/src/objective/regression_obj.cu:152: reg:linear is now deprecated in favor of reg:squarederror.\n",
            "[12:23:21] WARNING: /workspace/src/objective/regression_obj.cu:152: reg:linear is now deprecated in favor of reg:squarederror.\n",
            "[12:23:22] WARNING: /workspace/src/objective/regression_obj.cu:152: reg:linear is now deprecated in favor of reg:squarederror.\n",
            "[12:23:24] WARNING: /workspace/src/objective/regression_obj.cu:152: reg:linear is now deprecated in favor of reg:squarederror.\n"
          ],
          "name": "stdout"
        }
      ]
    },
    {
      "cell_type": "markdown",
      "metadata": {
        "id": "nnG5oPZaT26o",
        "colab_type": "text"
      },
      "source": [
        "**Checking Test RMSE Mean Values**"
      ]
    },
    {
      "cell_type": "code",
      "metadata": {
        "id": "rpjU1W1ovFyX",
        "colab_type": "code",
        "colab": {
          "base_uri": "https://localhost:8080/",
          "height": 52
        },
        "outputId": "2bd0dcea-6693-4f28-8cac-2010a76794b0"
      },
      "source": [
        "print((cv_results[\"test-rmse-mean\"]).tail(1))"
      ],
      "execution_count": null,
      "outputs": [
        {
          "output_type": "stream",
          "text": [
            "49    0.807588\n",
            "Name: test-rmse-mean, dtype: float64\n"
          ],
          "name": "stdout"
        }
      ]
    },
    {
      "cell_type": "markdown",
      "metadata": {
        "id": "EVuVHYqIT8Jl",
        "colab_type": "text"
      },
      "source": [
        "**Checking Feature Importance using Plot**"
      ]
    },
    {
      "cell_type": "code",
      "metadata": {
        "id": "fW4DWNV0vHDS",
        "colab_type": "code",
        "colab": {
          "base_uri": "https://localhost:8080/",
          "height": 295
        },
        "outputId": "8ffdce2d-3d20-48c8-d760-17286492246d"
      },
      "source": [
        "import matplotlib.pyplot as plt\n",
        "xgb.plot_importance(xg_reg)\n",
        "plt.rcParams['figure.figsize'] = [5, 5]\n",
        "plt.show()"
      ],
      "execution_count": null,
      "outputs": [
        {
          "output_type": "display_data",
          "data": {
            "image/png": "[encoded data removed]",
            "text/plain": [
              "<Figure size 432x288 with 1 Axes>"
            ]
          },
          "metadata": {
            "tags": [],
            "needs_background": "light"
          }
        }
      ]
    }
  ]
}