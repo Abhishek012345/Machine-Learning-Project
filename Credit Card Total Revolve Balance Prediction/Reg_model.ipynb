{
  "nbformat": 4,
  "nbformat_minor": 0,
  "metadata": {
    "colab": {
      "name": "Reg_model.ipynb",
      "provenance": [],
      "collapsed_sections": []
    },
    "kernelspec": {
      "name": "python3",
      "display_name": "Python 3"
    }
  },
  "cells": [
    {
      "cell_type": "markdown",
      "metadata": {
        "id": "1ltZO6TPvBH7",
        "colab_type": "text"
      },
      "source": [
        "**Importing Wanted Libraries**\n",
        "\n"
      ]
    },
    {
      "cell_type": "code",
      "metadata": {
        "id": "96a4xE3A64jW",
        "colab_type": "code",
        "colab": {}
      },
      "source": [
        "import pandas as pd # to read data set\n",
        "import numpy as np # to perform numeric operation\n",
        "import matplotlib.pyplot as plt # for Visualise"
      ],
      "execution_count": null,
      "outputs": []
    },
    {
      "cell_type": "markdown",
      "metadata": {
        "id": "5frNtkG3vUau",
        "colab_type": "text"
      },
      "source": [
        "**Accesing DataSet from Google Drive, So using Drive Mount**"
      ]
    },
    {
      "cell_type": "code",
      "metadata": {
        "id": "7MbwEDB98OKL",
        "colab_type": "code",
        "colab": {
          "base_uri": "https://localhost:8080/",
          "height": 124
        },
        "outputId": "71e3a006-3a64-4757-bf6b-9434a2d06991"
      },
      "source": [
        "from google.colab import drive\n",
        "drive.mount('/content/gdrive')"
      ],
      "execution_count": null,
      "outputs": [
        {
          "output_type": "stream",
          "text": [
            "Go to this URL in a browser: https://accounts.google.com/o/oauth2/auth?client_id=947318989803-6bn6qk8qdgf4n4g3pfee6491hc0brc4i.apps.googleusercontent.com&redirect_uri=urn%3aietf%3awg%3aoauth%3a2.0%3aoob&response_type=code&scope=email%20https%3a%2f%2fwww.googleapis.com%2fauth%2fdocs.test%20https%3a%2f%2fwww.googleapis.com%2fauth%2fdrive%20https%3a%2f%2fwww.googleapis.com%2fauth%2fdrive.photos.readonly%20https%3a%2f%2fwww.googleapis.com%2fauth%2fpeopleapi.readonly\n",
            "\n",
            "Enter your authorization code:\n",
            "··········\n",
            "Mounted at /content/gdrive\n"
          ],
          "name": "stdout"
        }
      ]
    },
    {
      "cell_type": "markdown",
      "metadata": {
        "id": "F9IAp9p2vu9n",
        "colab_type": "text"
      },
      "source": [
        "**Reading DataSet CSV File from Google Drive**"
      ]
    },
    {
      "cell_type": "code",
      "metadata": {
        "id": "AN-wKVgzAG65",
        "colab_type": "code",
        "colab": {
          "base_uri": "https://localhost:8080/",
          "height": 72
        },
        "outputId": "839a19ea-7b93-4ef8-ee54-85c4f970e57a"
      },
      "source": [
        "df=pd.read_csv('/content/gdrive/My Drive/Co_data.csv',encoding='latin1')"
      ],
      "execution_count": null,
      "outputs": [
        {
          "output_type": "stream",
          "text": [
            "/usr/local/lib/python3.6/dist-packages/IPython/core/interactiveshell.py:2718: DtypeWarning: Columns (31) have mixed types.Specify dtype option on import or set low_memory=False.\n",
            "  interactivity=interactivity, compiler=compiler, result=result)\n"
          ],
          "name": "stderr"
        }
      ]
    },
    {
      "cell_type": "markdown",
      "metadata": {
        "id": "Cw3fsMLJv-F2",
        "colab_type": "text"
      },
      "source": [
        "**Displaying Dataset Head**"
      ]
    },
    {
      "cell_type": "code",
      "metadata": {
        "id": "237ic6GVEPNE",
        "colab_type": "code",
        "colab": {
          "base_uri": "https://localhost:8080/",
          "height": 361
        },
        "outputId": "9b7a2084-d274-4e26-d0d9-5946c00413af"
      },
      "source": [
        "df.head()"
      ],
      "execution_count": null,
      "outputs": [
        {
          "output_type": "execute_result",
          "data": {
            "text/html": [
              "<div>\n",
              "<style scoped>\n",
              "    .dataframe tbody tr th:only-of-type {\n",
              "        vertical-align: middle;\n",
              "    }\n",
              "\n",
              "    .dataframe tbody tr th {\n",
              "        vertical-align: top;\n",
              "    }\n",
              "\n",
              "    .dataframe thead th {\n",
              "        text-align: right;\n",
              "    }\n",
              "</style>\n",
              "<table border=\"1\" class=\"dataframe\">\n",
              "  <thead>\n",
              "    <tr style=\"text-align: right;\">\n",
              "      <th></th>\n",
              "      <th>member_id</th>\n",
              "      <th>loan_amnt</th>\n",
              "      <th>terms</th>\n",
              "      <th>batch_ID</th>\n",
              "      <th>Rate_of_intrst</th>\n",
              "      <th>grade</th>\n",
              "      <th>sub_grade</th>\n",
              "      <th>Emp_designation</th>\n",
              "      <th>Experience</th>\n",
              "      <th>home_ownership</th>\n",
              "      <th>annual_inc</th>\n",
              "      <th>verification_status</th>\n",
              "      <th>purpose</th>\n",
              "      <th>State</th>\n",
              "      <th>debt_income_ratio</th>\n",
              "      <th>delinq_2yrs</th>\n",
              "      <th>inq_last_6mths</th>\n",
              "      <th>mths_since_last_delinq</th>\n",
              "      <th>mths_since_last_record</th>\n",
              "      <th>numb_credit</th>\n",
              "      <th>pub_rec</th>\n",
              "      <th>total revol_bal</th>\n",
              "      <th>total_credits</th>\n",
              "      <th>initial_list_status</th>\n",
              "      <th>total_rec_int</th>\n",
              "      <th>total_rec_late_fee</th>\n",
              "      <th>recoveries</th>\n",
              "      <th>collection_recovery_fee</th>\n",
              "      <th>collections_12_mths_ex_med</th>\n",
              "      <th>mths_since_last_major_derog</th>\n",
              "      <th>application_type</th>\n",
              "      <th>verification_status_joint</th>\n",
              "      <th>last_week_pay</th>\n",
              "      <th>acc_now_delinq</th>\n",
              "      <th>tot_colle_amt</th>\n",
              "      <th>tot_curr_bal</th>\n",
              "    </tr>\n",
              "  </thead>\n",
              "  <tbody>\n",
              "    <tr>\n",
              "      <th>0</th>\n",
              "      <td>58189336</td>\n",
              "      <td>14350</td>\n",
              "      <td>36 months</td>\n",
              "      <td></td>\n",
              "      <td>19.19</td>\n",
              "      <td>E</td>\n",
              "      <td>E3</td>\n",
              "      <td>clerk</td>\n",
              "      <td>9 years</td>\n",
              "      <td>OWN</td>\n",
              "      <td>28700.0</td>\n",
              "      <td>Source Verified</td>\n",
              "      <td>debt_consolidation</td>\n",
              "      <td>FL</td>\n",
              "      <td>33.88</td>\n",
              "      <td>0.0</td>\n",
              "      <td>1.0</td>\n",
              "      <td>50.0</td>\n",
              "      <td>75.0</td>\n",
              "      <td>14.0</td>\n",
              "      <td>1.0</td>\n",
              "      <td>22515.0</td>\n",
              "      <td>28.0</td>\n",
              "      <td>f</td>\n",
              "      <td>1173.84</td>\n",
              "      <td>0.0</td>\n",
              "      <td>0.0</td>\n",
              "      <td>0.0</td>\n",
              "      <td>0.0</td>\n",
              "      <td>74.0</td>\n",
              "      <td>INDIVIDUAL</td>\n",
              "      <td>NaN</td>\n",
              "      <td>26th week</td>\n",
              "      <td>0.0</td>\n",
              "      <td>0.0</td>\n",
              "      <td>28699.0</td>\n",
              "    </tr>\n",
              "    <tr>\n",
              "      <th>1</th>\n",
              "      <td>70011223</td>\n",
              "      <td>4800</td>\n",
              "      <td>36 months</td>\n",
              "      <td>BAT1586599</td>\n",
              "      <td>10.99</td>\n",
              "      <td>B</td>\n",
              "      <td>B4</td>\n",
              "      <td>Human Resources Specialist</td>\n",
              "      <td>&lt; 1 year</td>\n",
              "      <td>MORTGAGE</td>\n",
              "      <td>65000.0</td>\n",
              "      <td>Source Verified</td>\n",
              "      <td>home_improvement</td>\n",
              "      <td>MD</td>\n",
              "      <td>3.64</td>\n",
              "      <td>0.0</td>\n",
              "      <td>1.0</td>\n",
              "      <td>NaN</td>\n",
              "      <td>NaN</td>\n",
              "      <td>6.0</td>\n",
              "      <td>0.0</td>\n",
              "      <td>7624.0</td>\n",
              "      <td>13.0</td>\n",
              "      <td>w</td>\n",
              "      <td>83.95</td>\n",
              "      <td>0.0</td>\n",
              "      <td>0.0</td>\n",
              "      <td>0.0</td>\n",
              "      <td>0.0</td>\n",
              "      <td>NaN</td>\n",
              "      <td>INDIVIDUAL</td>\n",
              "      <td>NaN</td>\n",
              "      <td>9th week</td>\n",
              "      <td>0.0</td>\n",
              "      <td>0.0</td>\n",
              "      <td>9974.0</td>\n",
              "    </tr>\n",
              "    <tr>\n",
              "      <th>2</th>\n",
              "      <td>70255675</td>\n",
              "      <td>10000</td>\n",
              "      <td>36 months</td>\n",
              "      <td>BAT1586599</td>\n",
              "      <td>7.26</td>\n",
              "      <td>A</td>\n",
              "      <td>A4</td>\n",
              "      <td>Driver</td>\n",
              "      <td>2 years</td>\n",
              "      <td>OWN</td>\n",
              "      <td>45000.0</td>\n",
              "      <td>Not Verified</td>\n",
              "      <td>debt_consolidation</td>\n",
              "      <td>OH</td>\n",
              "      <td>18.42</td>\n",
              "      <td>0.0</td>\n",
              "      <td>0.0</td>\n",
              "      <td>NaN</td>\n",
              "      <td>NaN</td>\n",
              "      <td>5.0</td>\n",
              "      <td>0.0</td>\n",
              "      <td>10877.0</td>\n",
              "      <td>19.0</td>\n",
              "      <td>w</td>\n",
              "      <td>56.47</td>\n",
              "      <td>0.0</td>\n",
              "      <td>0.0</td>\n",
              "      <td>0.0</td>\n",
              "      <td>0.0</td>\n",
              "      <td>NaN</td>\n",
              "      <td>INDIVIDUAL</td>\n",
              "      <td>NaN</td>\n",
              "      <td>9th week</td>\n",
              "      <td>0.0</td>\n",
              "      <td>65.0</td>\n",
              "      <td>38295.0</td>\n",
              "    </tr>\n",
              "    <tr>\n",
              "      <th>3</th>\n",
              "      <td>1893936</td>\n",
              "      <td>15000</td>\n",
              "      <td>36 months</td>\n",
              "      <td>BAT4808022</td>\n",
              "      <td>19.72</td>\n",
              "      <td>D</td>\n",
              "      <td>D5</td>\n",
              "      <td>Us office of Personnel Management</td>\n",
              "      <td>10+ years</td>\n",
              "      <td>RENT</td>\n",
              "      <td>105000.0</td>\n",
              "      <td>Not Verified</td>\n",
              "      <td>debt_consolidation</td>\n",
              "      <td>VA</td>\n",
              "      <td>14.97</td>\n",
              "      <td>0.0</td>\n",
              "      <td>2.0</td>\n",
              "      <td>46.0</td>\n",
              "      <td>NaN</td>\n",
              "      <td>10.0</td>\n",
              "      <td>0.0</td>\n",
              "      <td>13712.0</td>\n",
              "      <td>21.0</td>\n",
              "      <td>f</td>\n",
              "      <td>4858.62</td>\n",
              "      <td>0.0</td>\n",
              "      <td>0.0</td>\n",
              "      <td>0.0</td>\n",
              "      <td>0.0</td>\n",
              "      <td>NaN</td>\n",
              "      <td>INDIVIDUAL</td>\n",
              "      <td>NaN</td>\n",
              "      <td>135th week</td>\n",
              "      <td>0.0</td>\n",
              "      <td>0.0</td>\n",
              "      <td>55564.0</td>\n",
              "    </tr>\n",
              "    <tr>\n",
              "      <th>4</th>\n",
              "      <td>7652106</td>\n",
              "      <td>16000</td>\n",
              "      <td>36 months</td>\n",
              "      <td>BAT2833642</td>\n",
              "      <td>10.64</td>\n",
              "      <td>B</td>\n",
              "      <td>B2</td>\n",
              "      <td>LAUSD-HOLLYWOOD HIGH SCHOOL</td>\n",
              "      <td>10+ years</td>\n",
              "      <td>RENT</td>\n",
              "      <td>52000.0</td>\n",
              "      <td>Verified</td>\n",
              "      <td>credit_card</td>\n",
              "      <td>CA</td>\n",
              "      <td>20.16</td>\n",
              "      <td>0.0</td>\n",
              "      <td>0.0</td>\n",
              "      <td>NaN</td>\n",
              "      <td>NaN</td>\n",
              "      <td>11.0</td>\n",
              "      <td>0.0</td>\n",
              "      <td>35835.0</td>\n",
              "      <td>27.0</td>\n",
              "      <td>w</td>\n",
              "      <td>2296.41</td>\n",
              "      <td>0.0</td>\n",
              "      <td>0.0</td>\n",
              "      <td>0.0</td>\n",
              "      <td>0.0</td>\n",
              "      <td>NaN</td>\n",
              "      <td>INDIVIDUAL</td>\n",
              "      <td>NaN</td>\n",
              "      <td>96th week</td>\n",
              "      <td>0.0</td>\n",
              "      <td>0.0</td>\n",
              "      <td>47159.0</td>\n",
              "    </tr>\n",
              "  </tbody>\n",
              "</table>\n",
              "</div>"
            ],
            "text/plain": [
              "   member_id   loan_amnt   ... tot_colle_amt tot_curr_bal\n",
              "0    58189336       14350  ...           0.0      28699.0\n",
              "1    70011223        4800  ...           0.0       9974.0\n",
              "2    70255675       10000  ...          65.0      38295.0\n",
              "3     1893936       15000  ...           0.0      55564.0\n",
              "4     7652106       16000  ...           0.0      47159.0\n",
              "\n",
              "[5 rows x 36 columns]"
            ]
          },
          "metadata": {
            "tags": []
          },
          "execution_count": 4
        }
      ]
    },
    {
      "cell_type": "markdown",
      "metadata": {
        "id": "fWF7IN9-wHwy",
        "colab_type": "text"
      },
      "source": [
        "**Displaying Number of Rows & Columns**"
      ]
    },
    {
      "cell_type": "code",
      "metadata": {
        "id": "hJPta6NXEX0H",
        "colab_type": "code",
        "colab": {
          "base_uri": "https://localhost:8080/",
          "height": 35
        },
        "outputId": "21c55c34-73a2-4dba-dc94-701c36923438"
      },
      "source": [
        "df.shape"
      ],
      "execution_count": null,
      "outputs": [
        {
          "output_type": "execute_result",
          "data": {
            "text/plain": [
              "(887379, 36)"
            ]
          },
          "metadata": {
            "tags": []
          },
          "execution_count": 5
        }
      ]
    },
    {
      "cell_type": "markdown",
      "metadata": {
        "id": "35hU__a_wSE3",
        "colab_type": "text"
      },
      "source": [
        "**Deleting Unnecessary Columns**"
      ]
    },
    {
      "cell_type": "code",
      "metadata": {
        "id": "skog-BLREZ8k",
        "colab_type": "code",
        "colab": {}
      },
      "source": [
        "df.drop(df.columns[[0,3,6,7,9,11,13,23,31]],axis=1, inplace=True)"
      ],
      "execution_count": null,
      "outputs": []
    },
    {
      "cell_type": "code",
      "metadata": {
        "id": "9H8gyiiGFA-x",
        "colab_type": "code",
        "colab": {
          "base_uri": "https://localhost:8080/",
          "height": 35
        },
        "outputId": "ff3484c5-7756-4456-bba2-06e5d1fb24dc"
      },
      "source": [
        "df.shape"
      ],
      "execution_count": null,
      "outputs": [
        {
          "output_type": "execute_result",
          "data": {
            "text/plain": [
              "(887379, 27)"
            ]
          },
          "metadata": {
            "tags": []
          },
          "execution_count": 7
        }
      ]
    },
    {
      "cell_type": "markdown",
      "metadata": {
        "id": "k1f3FsZuwd6e",
        "colab_type": "text"
      },
      "source": [
        "**DataSet Info will display Null & Non-Null Values with it's DataType**"
      ]
    },
    {
      "cell_type": "code",
      "metadata": {
        "id": "2vOvjtONFETA",
        "colab_type": "code",
        "colab": {
          "base_uri": "https://localhost:8080/",
          "height": 607
        },
        "outputId": "8710e7d2-1b2c-4cb5-cf00-9c10683e8402"
      },
      "source": [
        "df.info()"
      ],
      "execution_count": null,
      "outputs": [
        {
          "output_type": "stream",
          "text": [
            "<class 'pandas.core.frame.DataFrame'>\n",
            "RangeIndex: 887379 entries, 0 to 887378\n",
            "Data columns (total 27 columns):\n",
            " #   Column                       Non-Null Count   Dtype  \n",
            "---  ------                       --------------   -----  \n",
            " 0   loan_amnt                    887379 non-null  int64  \n",
            " 1   terms                        887379 non-null  object \n",
            " 2   Rate_of_intrst               887379 non-null  float64\n",
            " 3   grade                        887379 non-null  object \n",
            " 4   Experience                   842554 non-null  object \n",
            " 5   annual_inc                   887375 non-null  float64\n",
            " 6   purpose                      887379 non-null  object \n",
            " 7   debt_income_ratio            887379 non-null  float64\n",
            " 8   delinq_2yrs                  887350 non-null  float64\n",
            " 9   inq_last_6mths               887350 non-null  float64\n",
            " 10  mths_since_last_delinq       433067 non-null  float64\n",
            " 11  mths_since_last_record       137053 non-null  float64\n",
            " 12  numb_credit                  887350 non-null  float64\n",
            " 13  pub_rec                      887350 non-null  float64\n",
            " 14  total revol_bal              887379 non-null  float64\n",
            " 15  total_credits                887350 non-null  float64\n",
            " 16  total_rec_int                887379 non-null  float64\n",
            " 17  total_rec_late_fee           887379 non-null  float64\n",
            " 18  recoveries                   887379 non-null  float64\n",
            " 19  collection_recovery_fee      887379 non-null  float64\n",
            " 20  collections_12_mths_ex_med   887234 non-null  float64\n",
            " 21  mths_since_last_major_derog  221703 non-null  float64\n",
            " 22  application_type             887379 non-null  object \n",
            " 23  last_week_pay                887379 non-null  object \n",
            " 24  acc_now_delinq               887350 non-null  float64\n",
            " 25  tot_colle_amt                817103 non-null  float64\n",
            " 26  tot_curr_bal                 817103 non-null  float64\n",
            "dtypes: float64(20), int64(1), object(6)\n",
            "memory usage: 182.8+ MB\n"
          ],
          "name": "stdout"
        }
      ]
    },
    {
      "cell_type": "markdown",
      "metadata": {
        "id": "jwPqLSXNwwPh",
        "colab_type": "text"
      },
      "source": [
        "**Displaying Column Names**"
      ]
    },
    {
      "cell_type": "code",
      "metadata": {
        "id": "uxVtOZBvDVx8",
        "colab_type": "code",
        "colab": {
          "base_uri": "https://localhost:8080/",
          "height": 173
        },
        "outputId": "10c90045-0c06-45a9-cd65-fae261e558e0"
      },
      "source": [
        "df.columns"
      ],
      "execution_count": null,
      "outputs": [
        {
          "output_type": "execute_result",
          "data": {
            "text/plain": [
              "Index(['loan_amnt ', 'terms', 'Rate_of_intrst', 'grade', 'Experience',\n",
              "       'annual_inc', 'purpose', 'debt_income_ratio', 'delinq_2yrs',\n",
              "       'inq_last_6mths', 'mths_since_last_delinq', 'mths_since_last_record',\n",
              "       'numb_credit', 'pub_rec', 'total revol_bal', 'total_credits',\n",
              "       'total_rec_int', 'total_rec_late_fee', 'recoveries',\n",
              "       'collection_recovery_fee', 'collections_12_mths_ex_med',\n",
              "       'mths_since_last_major_derog', 'application_type', 'last_week_pay',\n",
              "       'acc_now_delinq', 'tot_colle_amt', 'tot_curr_bal'],\n",
              "      dtype='object')"
            ]
          },
          "metadata": {
            "tags": []
          },
          "execution_count": 10
        }
      ]
    },
    {
      "cell_type": "markdown",
      "metadata": {
        "id": "LKMaAiYyw9sk",
        "colab_type": "text"
      },
      "source": [
        "**Creating Function to remove words and displaying only numbers** \n",
        "Ex: 24months to 24"
      ]
    },
    {
      "cell_type": "code",
      "metadata": {
        "id": "Rv5H62oKFQi4",
        "colab_type": "code",
        "colab": {}
      },
      "source": [
        "def remove_months(string):\n",
        "  return int(string.strip(' months'))\n",
        "df['terms'] = df['terms'].apply(remove_months)"
      ],
      "execution_count": null,
      "outputs": []
    },
    {
      "cell_type": "markdown",
      "metadata": {
        "id": "lKBD6cXHxcdt",
        "colab_type": "text"
      },
      "source": [
        "**Using Strip removing unwanted letters and words which make prediction easy**"
      ]
    },
    {
      "cell_type": "code",
      "metadata": {
        "id": "StqpQ3FQFW4q",
        "colab_type": "code",
        "colab": {}
      },
      "source": [
        "df['Experience'] = df['Experience'].astype(str).str.lstrip('<').str.rstrip('+ years')"
      ],
      "execution_count": null,
      "outputs": []
    },
    {
      "cell_type": "code",
      "metadata": {
        "id": "r3F_qsJ1FzVa",
        "colab_type": "code",
        "colab": {
          "base_uri": "https://localhost:8080/",
          "height": 173
        },
        "outputId": "dfd23f44-f5ff-4734-a72c-10b93cd26f59"
      },
      "source": [
        "df.columns"
      ],
      "execution_count": null,
      "outputs": [
        {
          "output_type": "execute_result",
          "data": {
            "text/plain": [
              "Index(['loan_amnt ', 'terms', 'Rate_of_intrst', 'grade', 'Experience',\n",
              "       'annual_inc', 'purpose', 'debt_income_ratio', 'delinq_2yrs',\n",
              "       'inq_last_6mths', 'mths_since_last_delinq', 'mths_since_last_record',\n",
              "       'numb_credit', 'pub_rec', 'total revol_bal', 'total_credits',\n",
              "       'total_rec_int', 'total_rec_late_fee', 'recoveries',\n",
              "       'collection_recovery_fee', 'collections_12_mths_ex_med',\n",
              "       'mths_since_last_major_derog', 'application_type', 'last_week_pay',\n",
              "       'acc_now_delinq', 'tot_colle_amt', 'tot_curr_bal'],\n",
              "      dtype='object')"
            ]
          },
          "metadata": {
            "tags": []
          },
          "execution_count": 13
        }
      ]
    },
    {
      "cell_type": "markdown",
      "metadata": {
        "id": "TxDDptswxtjv",
        "colab_type": "text"
      },
      "source": [
        "\n",
        "\n",
        "1. **Using RStrip removing week, Now *\"25th week\"* will become 25th**\n",
        "2. **Using Location removing word 'th' Now 25th become 25**\n",
        "3. **Now converting object to numeric using function pd.to_numeric**\n",
        "\n"
      ]
    },
    {
      "cell_type": "code",
      "metadata": {
        "id": "Q1g1W01bFga_",
        "colab_type": "code",
        "colab": {}
      },
      "source": [
        "df['last_week_pay'] = df['last_week_pay'].astype(str).str.rstrip('week')\n",
        "df['last_week_pay'] = df['last_week_pay'].astype(str).str[:-3]\n",
        "df['last_week_pay'] = pd.to_numeric(df['last_week_pay'],errors='coerce')"
      ],
      "execution_count": null,
      "outputs": []
    },
    {
      "cell_type": "markdown",
      "metadata": {
        "id": "BLcKp0shyhMi",
        "colab_type": "text"
      },
      "source": [
        "**Filling all Null Values using fillna function wrt mean type**"
      ]
    },
    {
      "cell_type": "code",
      "metadata": {
        "id": "So_O6fORA-ur",
        "colab_type": "code",
        "colab": {}
      },
      "source": [
        "df.collections_12_mths_ex_med = df.collections_12_mths_ex_med.fillna(df.collections_12_mths_ex_med.mean())\n",
        "df.mths_since_last_major_derog = df.mths_since_last_major_derog.fillna(df.mths_since_last_major_derog.mean())\n",
        "#df.Experience = df.Experience.fillna(df.Experience.mean())\n",
        "df.delinq_2yrs = df.delinq_2yrs.fillna(df.delinq_2yrs.mean())\n",
        "df.inq_last_6mths = df.inq_last_6mths.fillna(df.inq_last_6mths.mean())\n",
        "df.mths_since_last_delinq = df.mths_since_last_delinq.fillna(df.mths_since_last_delinq.mean())\n",
        "df.mths_since_last_record = df.mths_since_last_record.fillna(df.mths_since_last_record.mean())\n",
        "df.numb_credit = df.numb_credit.fillna(df.numb_credit.mean())\n",
        "df.total_credits = df.total_credits.fillna(df.total_credits.mean())\n",
        "df.tot_colle_amt = df.tot_colle_amt.fillna(df.tot_colle_amt.mean())\n",
        "df.tot_curr_bal = df.tot_curr_bal.fillna(df.tot_curr_bal.mean())\n",
        "df.pub_rec  = df.pub_rec.fillna(df.pub_rec.mean())\n",
        "df.acc_now_delinq  = df.acc_now_delinq.fillna(df.acc_now_delinq.mean())\n",
        "#df.last_week_pay  = df.last_week_pay.fillna(df.last_week_pay.mean())\n",
        "df.annual_inc = df.annual_inc.fillna(df.annual_inc.mean())"
      ],
      "execution_count": null,
      "outputs": []
    },
    {
      "cell_type": "markdown",
      "metadata": {
        "id": "M9IEAjMLyx5t",
        "colab_type": "text"
      },
      "source": [
        "**Deleting last_week_pay column, which is unnecessary for our perdiction**"
      ]
    },
    {
      "cell_type": "code",
      "metadata": {
        "id": "rOp2FoynH8Jx",
        "colab_type": "code",
        "colab": {}
      },
      "source": [
        "df.drop('last_week_pay',axis=1,inplace=True)"
      ],
      "execution_count": null,
      "outputs": []
    },
    {
      "cell_type": "markdown",
      "metadata": {
        "id": "-PMJLFwGy78H",
        "colab_type": "text"
      },
      "source": [
        "**Checking any Null Values present Still.**"
      ]
    },
    {
      "cell_type": "code",
      "metadata": {
        "id": "LAWLQ5VEGAo8",
        "colab_type": "code",
        "colab": {
          "base_uri": "https://localhost:8080/",
          "height": 485
        },
        "outputId": "d9319035-0565-464b-945a-95f4fb78f490"
      },
      "source": [
        "df.isnull().sum()"
      ],
      "execution_count": null,
      "outputs": [
        {
          "output_type": "execute_result",
          "data": {
            "text/plain": [
              "loan_amnt                      0\n",
              "terms                          0\n",
              "Rate_of_intrst                 0\n",
              "grade                          0\n",
              "Experience                     0\n",
              "annual_inc                     0\n",
              "purpose                        0\n",
              "debt_income_ratio              0\n",
              "delinq_2yrs                    0\n",
              "inq_last_6mths                 0\n",
              "mths_since_last_delinq         0\n",
              "mths_since_last_record         0\n",
              "numb_credit                    0\n",
              "pub_rec                        0\n",
              "total revol_bal                0\n",
              "total_credits                  0\n",
              "total_rec_int                  0\n",
              "total_rec_late_fee             0\n",
              "recoveries                     0\n",
              "collection_recovery_fee        0\n",
              "collections_12_mths_ex_med     0\n",
              "mths_since_last_major_derog    0\n",
              "application_type               0\n",
              "acc_now_delinq                 0\n",
              "tot_colle_amt                  0\n",
              "tot_curr_bal                   0\n",
              "dtype: int64"
            ]
          },
          "metadata": {
            "tags": []
          },
          "execution_count": 17
        }
      ]
    },
    {
      "cell_type": "markdown",
      "metadata": {
        "id": "l26TwrCWzEEA",
        "colab_type": "text"
      },
      "source": [
        "**Describe Function will give us statistical score like Mean, Standard Deviation, Quartile, half & Max**"
      ]
    },
    {
      "cell_type": "code",
      "metadata": {
        "id": "rXFdpETXGVxT",
        "colab_type": "code",
        "colab": {
          "base_uri": "https://localhost:8080/",
          "height": 331
        },
        "outputId": "9d2de00c-afbb-4ac9-916c-80b65e477e5c"
      },
      "source": [
        "df.describe()"
      ],
      "execution_count": null,
      "outputs": [
        {
          "output_type": "execute_result",
          "data": {
            "text/html": [
              "<div>\n",
              "<style scoped>\n",
              "    .dataframe tbody tr th:only-of-type {\n",
              "        vertical-align: middle;\n",
              "    }\n",
              "\n",
              "    .dataframe tbody tr th {\n",
              "        vertical-align: top;\n",
              "    }\n",
              "\n",
              "    .dataframe thead th {\n",
              "        text-align: right;\n",
              "    }\n",
              "</style>\n",
              "<table border=\"1\" class=\"dataframe\">\n",
              "  <thead>\n",
              "    <tr style=\"text-align: right;\">\n",
              "      <th></th>\n",
              "      <th>loan_amnt</th>\n",
              "      <th>terms</th>\n",
              "      <th>Rate_of_intrst</th>\n",
              "      <th>annual_inc</th>\n",
              "      <th>debt_income_ratio</th>\n",
              "      <th>delinq_2yrs</th>\n",
              "      <th>inq_last_6mths</th>\n",
              "      <th>mths_since_last_delinq</th>\n",
              "      <th>mths_since_last_record</th>\n",
              "      <th>numb_credit</th>\n",
              "      <th>pub_rec</th>\n",
              "      <th>total revol_bal</th>\n",
              "      <th>total_credits</th>\n",
              "      <th>total_rec_int</th>\n",
              "      <th>total_rec_late_fee</th>\n",
              "      <th>recoveries</th>\n",
              "      <th>collection_recovery_fee</th>\n",
              "      <th>collections_12_mths_ex_med</th>\n",
              "      <th>mths_since_last_major_derog</th>\n",
              "      <th>acc_now_delinq</th>\n",
              "      <th>tot_colle_amt</th>\n",
              "      <th>tot_curr_bal</th>\n",
              "    </tr>\n",
              "  </thead>\n",
              "  <tbody>\n",
              "    <tr>\n",
              "      <th>count</th>\n",
              "      <td>887379.000000</td>\n",
              "      <td>887379.000000</td>\n",
              "      <td>887379.000000</td>\n",
              "      <td>8.873790e+05</td>\n",
              "      <td>887379.000000</td>\n",
              "      <td>887379.000000</td>\n",
              "      <td>887379.000000</td>\n",
              "      <td>887379.000000</td>\n",
              "      <td>887379.000000</td>\n",
              "      <td>887379.000000</td>\n",
              "      <td>887379.000000</td>\n",
              "      <td>8.873790e+05</td>\n",
              "      <td>887379.000000</td>\n",
              "      <td>887379.000000</td>\n",
              "      <td>887379.000000</td>\n",
              "      <td>887379.000000</td>\n",
              "      <td>887379.000000</td>\n",
              "      <td>887379.00000</td>\n",
              "      <td>887379.000000</td>\n",
              "      <td>887379.000000</td>\n",
              "      <td>8.873790e+05</td>\n",
              "      <td>8.873790e+05</td>\n",
              "    </tr>\n",
              "    <tr>\n",
              "      <th>mean</th>\n",
              "      <td>14755.264605</td>\n",
              "      <td>43.201090</td>\n",
              "      <td>13.246740</td>\n",
              "      <td>7.502759e+04</td>\n",
              "      <td>18.157039</td>\n",
              "      <td>0.314442</td>\n",
              "      <td>0.694623</td>\n",
              "      <td>34.063798</td>\n",
              "      <td>70.117903</td>\n",
              "      <td>11.548469</td>\n",
              "      <td>0.195307</td>\n",
              "      <td>1.692079e+04</td>\n",
              "      <td>25.268026</td>\n",
              "      <td>1754.804327</td>\n",
              "      <td>0.396692</td>\n",
              "      <td>45.919243</td>\n",
              "      <td>4.880757</td>\n",
              "      <td>0.01438</td>\n",
              "      <td>44.104838</td>\n",
              "      <td>0.004991</td>\n",
              "      <td>2.257026e+02</td>\n",
              "      <td>1.394582e+05</td>\n",
              "    </tr>\n",
              "    <tr>\n",
              "      <th>std</th>\n",
              "      <td>8435.455601</td>\n",
              "      <td>10.998663</td>\n",
              "      <td>4.381867</td>\n",
              "      <td>6.469815e+04</td>\n",
              "      <td>17.190626</td>\n",
              "      <td>0.862230</td>\n",
              "      <td>0.998431</td>\n",
              "      <td>15.288613</td>\n",
              "      <td>11.054163</td>\n",
              "      <td>5.317226</td>\n",
              "      <td>0.582081</td>\n",
              "      <td>2.242679e+04</td>\n",
              "      <td>11.840368</td>\n",
              "      <td>2095.356099</td>\n",
              "      <td>4.087825</td>\n",
              "      <td>409.693874</td>\n",
              "      <td>63.125281</td>\n",
              "      <td>0.13418</td>\n",
              "      <td>11.086358</td>\n",
              "      <td>0.077624</td>\n",
              "      <td>9.894641e+03</td>\n",
              "      <td>1.475363e+05</td>\n",
              "    </tr>\n",
              "    <tr>\n",
              "      <th>min</th>\n",
              "      <td>500.000000</td>\n",
              "      <td>36.000000</td>\n",
              "      <td>5.320000</td>\n",
              "      <td>0.000000e+00</td>\n",
              "      <td>0.000000</td>\n",
              "      <td>0.000000</td>\n",
              "      <td>0.000000</td>\n",
              "      <td>0.000000</td>\n",
              "      <td>0.000000</td>\n",
              "      <td>0.000000</td>\n",
              "      <td>0.000000</td>\n",
              "      <td>0.000000e+00</td>\n",
              "      <td>1.000000</td>\n",
              "      <td>0.000000</td>\n",
              "      <td>0.000000</td>\n",
              "      <td>0.000000</td>\n",
              "      <td>0.000000</td>\n",
              "      <td>0.00000</td>\n",
              "      <td>0.000000</td>\n",
              "      <td>0.000000</td>\n",
              "      <td>0.000000e+00</td>\n",
              "      <td>0.000000e+00</td>\n",
              "    </tr>\n",
              "    <tr>\n",
              "      <th>25%</th>\n",
              "      <td>8000.000000</td>\n",
              "      <td>36.000000</td>\n",
              "      <td>9.990000</td>\n",
              "      <td>4.500000e+04</td>\n",
              "      <td>11.910000</td>\n",
              "      <td>0.000000</td>\n",
              "      <td>0.000000</td>\n",
              "      <td>32.000000</td>\n",
              "      <td>70.117903</td>\n",
              "      <td>8.000000</td>\n",
              "      <td>0.000000</td>\n",
              "      <td>6.443000e+03</td>\n",
              "      <td>17.000000</td>\n",
              "      <td>441.460000</td>\n",
              "      <td>0.000000</td>\n",
              "      <td>0.000000</td>\n",
              "      <td>0.000000</td>\n",
              "      <td>0.00000</td>\n",
              "      <td>44.104838</td>\n",
              "      <td>0.000000</td>\n",
              "      <td>0.000000e+00</td>\n",
              "      <td>3.224600e+04</td>\n",
              "    </tr>\n",
              "    <tr>\n",
              "      <th>50%</th>\n",
              "      <td>13000.000000</td>\n",
              "      <td>36.000000</td>\n",
              "      <td>12.990000</td>\n",
              "      <td>6.500000e+04</td>\n",
              "      <td>17.650000</td>\n",
              "      <td>0.000000</td>\n",
              "      <td>0.000000</td>\n",
              "      <td>34.063798</td>\n",
              "      <td>70.117903</td>\n",
              "      <td>11.000000</td>\n",
              "      <td>0.000000</td>\n",
              "      <td>1.187500e+04</td>\n",
              "      <td>24.000000</td>\n",
              "      <td>1073.280000</td>\n",
              "      <td>0.000000</td>\n",
              "      <td>0.000000</td>\n",
              "      <td>0.000000</td>\n",
              "      <td>0.00000</td>\n",
              "      <td>44.104838</td>\n",
              "      <td>0.000000</td>\n",
              "      <td>0.000000e+00</td>\n",
              "      <td>1.000890e+05</td>\n",
              "    </tr>\n",
              "    <tr>\n",
              "      <th>75%</th>\n",
              "      <td>20000.000000</td>\n",
              "      <td>60.000000</td>\n",
              "      <td>16.200000</td>\n",
              "      <td>9.000000e+04</td>\n",
              "      <td>23.950000</td>\n",
              "      <td>0.000000</td>\n",
              "      <td>1.000000</td>\n",
              "      <td>34.063798</td>\n",
              "      <td>70.117903</td>\n",
              "      <td>14.000000</td>\n",
              "      <td>0.000000</td>\n",
              "      <td>2.082900e+04</td>\n",
              "      <td>32.000000</td>\n",
              "      <td>2238.265000</td>\n",
              "      <td>0.000000</td>\n",
              "      <td>0.000000</td>\n",
              "      <td>0.000000</td>\n",
              "      <td>0.00000</td>\n",
              "      <td>44.104838</td>\n",
              "      <td>0.000000</td>\n",
              "      <td>0.000000e+00</td>\n",
              "      <td>1.957940e+05</td>\n",
              "    </tr>\n",
              "    <tr>\n",
              "      <th>max</th>\n",
              "      <td>35000.000000</td>\n",
              "      <td>60.000000</td>\n",
              "      <td>28.990000</td>\n",
              "      <td>9.500000e+06</td>\n",
              "      <td>9999.000000</td>\n",
              "      <td>39.000000</td>\n",
              "      <td>33.000000</td>\n",
              "      <td>188.000000</td>\n",
              "      <td>129.000000</td>\n",
              "      <td>90.000000</td>\n",
              "      <td>86.000000</td>\n",
              "      <td>2.904836e+06</td>\n",
              "      <td>169.000000</td>\n",
              "      <td>24205.620000</td>\n",
              "      <td>358.680000</td>\n",
              "      <td>33520.270000</td>\n",
              "      <td>7002.190000</td>\n",
              "      <td>20.00000</td>\n",
              "      <td>188.000000</td>\n",
              "      <td>14.000000</td>\n",
              "      <td>9.152545e+06</td>\n",
              "      <td>8.000078e+06</td>\n",
              "    </tr>\n",
              "  </tbody>\n",
              "</table>\n",
              "</div>"
            ],
            "text/plain": [
              "          loan_amnt           terms  ...  tot_colle_amt  tot_curr_bal\n",
              "count  887379.000000  887379.000000  ...   8.873790e+05  8.873790e+05\n",
              "mean    14755.264605      43.201090  ...   2.257026e+02  1.394582e+05\n",
              "std      8435.455601      10.998663  ...   9.894641e+03  1.475363e+05\n",
              "min       500.000000      36.000000  ...   0.000000e+00  0.000000e+00\n",
              "25%      8000.000000      36.000000  ...   0.000000e+00  3.224600e+04\n",
              "50%     13000.000000      36.000000  ...   0.000000e+00  1.000890e+05\n",
              "75%     20000.000000      60.000000  ...   0.000000e+00  1.957940e+05\n",
              "max     35000.000000      60.000000  ...   9.152545e+06  8.000078e+06\n",
              "\n",
              "[8 rows x 22 columns]"
            ]
          },
          "metadata": {
            "tags": []
          },
          "execution_count": 18
        }
      ]
    },
    {
      "cell_type": "markdown",
      "metadata": {
        "id": "WfcSr5EqzaJQ",
        "colab_type": "text"
      },
      "source": [
        "**Checking Correlation of all Feature Variables with Target Variable**"
      ]
    },
    {
      "cell_type": "code",
      "metadata": {
        "id": "A5JFXR-3Gf0s",
        "colab_type": "code",
        "colab": {
          "base_uri": "https://localhost:8080/",
          "height": 416
        },
        "outputId": "35ecd079-6206-4489-ea2f-0a9098aa6441"
      },
      "source": [
        "df[df.columns[0:]].corr()['total revol_bal'][:]"
      ],
      "execution_count": null,
      "outputs": [
        {
          "output_type": "execute_result",
          "data": {
            "text/plain": [
              "loan_amnt                      0.333580\n",
              "terms                          0.091102\n",
              "Rate_of_intrst                -0.035708\n",
              "annual_inc                     0.295783\n",
              "debt_income_ratio              0.067277\n",
              "delinq_2yrs                   -0.032486\n",
              "inq_last_6mths                -0.017556\n",
              "mths_since_last_delinq        -0.017470\n",
              "mths_since_last_record        -0.007371\n",
              "numb_credit                    0.224540\n",
              "pub_rec                       -0.100609\n",
              "total revol_bal                1.000000\n",
              "total_credits                  0.189103\n",
              "total_rec_int                  0.137380\n",
              "total_rec_late_fee             0.002774\n",
              "recoveries                     0.010828\n",
              "collection_recovery_fee        0.008151\n",
              "collections_12_mths_ex_med    -0.022850\n",
              "mths_since_last_major_derog   -0.007934\n",
              "acc_now_delinq                -0.000855\n",
              "tot_colle_amt                 -0.006036\n",
              "tot_curr_bal                   0.429024\n",
              "Name: total revol_bal, dtype: float64"
            ]
          },
          "metadata": {
            "tags": []
          },
          "execution_count": 19
        }
      ]
    },
    {
      "cell_type": "markdown",
      "metadata": {
        "id": "SrZwW4jnzp2R",
        "colab_type": "text"
      },
      "source": [
        "**Checking Correlation of all columns Seperately**"
      ]
    },
    {
      "cell_type": "code",
      "metadata": {
        "id": "pFVIEdGxGky8",
        "colab_type": "code",
        "colab": {
          "base_uri": "https://localhost:8080/",
          "height": 451
        },
        "outputId": "e682aea9-ac27-4384-a4ee-5375ca1cb5a9"
      },
      "source": [
        "correlation_df = df.corr()\n",
        "print(correlation_df)"
      ],
      "execution_count": null,
      "outputs": [
        {
          "output_type": "stream",
          "text": [
            "                             loan_amnt      terms  ...  tot_colle_amt  tot_curr_bal\n",
            "loan_amnt                      1.000000  0.411717  ...      -0.004108      0.315930\n",
            "terms                          0.411717  1.000000  ...      -0.002260      0.106477\n",
            "Rate_of_intrst                 0.145023  0.428058  ...       0.001090     -0.088222\n",
            "annual_inc                     0.332697  0.058360  ...       0.001062      0.405282\n",
            "debt_income_ratio              0.020675  0.051077  ...      -0.002066     -0.007218\n",
            "delinq_2yrs                   -0.000159 -0.000503  ...       0.000204      0.063706\n",
            "inq_last_6mths                -0.034167 -0.004614  ...       0.002921      0.031633\n",
            "mths_since_last_delinq        -0.026403 -0.005105  ...       0.006195     -0.066270\n",
            "mths_since_last_record        -0.003691  0.013464  ...      -0.006125     -0.008994\n",
            "numb_credit                    0.198900  0.086125  ...       0.000120      0.235886\n",
            "pub_rec                       -0.081175 -0.025239  ...       0.006832     -0.075163\n",
            "total revol_bal                0.333580  0.091102  ...      -0.006036      0.429024\n",
            "total_credits                  0.222633  0.102081  ...       0.006268      0.298828\n",
            "total_rec_int                  0.533916  0.382550  ...      -0.003320      0.121613\n",
            "total_rec_late_fee             0.031395  0.004754  ...      -0.000435      0.009866\n",
            "recoveries                     0.073150  0.057290  ...      -0.000807      0.003686\n",
            "collection_recovery_fee        0.052205  0.035883  ...      -0.000414      0.004628\n",
            "collections_12_mths_ex_med    -0.016648 -0.005362  ...       0.009806     -0.010978\n",
            "mths_since_last_major_derog   -0.017894 -0.002593  ...       0.004886     -0.035159\n",
            "acc_now_delinq                 0.003947  0.004944  ...       0.000237      0.023382\n",
            "tot_colle_amt                 -0.004108 -0.002260  ...       1.000000     -0.000355\n",
            "tot_curr_bal                   0.315930  0.106477  ...      -0.000355      1.000000\n",
            "\n",
            "[22 rows x 22 columns]\n"
          ],
          "name": "stdout"
        }
      ]
    },
    {
      "cell_type": "markdown",
      "metadata": {
        "id": "SSNveGgez9Qt",
        "colab_type": "text"
      },
      "source": [
        "**Checking DataTypes of all columns, wheather any datatype consist of object, if any type is object convert it to numerical types.**"
      ]
    },
    {
      "cell_type": "code",
      "metadata": {
        "id": "ijPdCmbzGql0",
        "colab_type": "code",
        "colab": {
          "base_uri": "https://localhost:8080/",
          "height": 485
        },
        "outputId": "2d2a1acc-6034-475e-f027-c7a06f4c9175"
      },
      "source": [
        "df.dtypes"
      ],
      "execution_count": null,
      "outputs": [
        {
          "output_type": "execute_result",
          "data": {
            "text/plain": [
              "loan_amnt                        int64\n",
              "terms                            int64\n",
              "Rate_of_intrst                 float64\n",
              "grade                           object\n",
              "Experience                      object\n",
              "annual_inc                     float64\n",
              "purpose                         object\n",
              "debt_income_ratio              float64\n",
              "delinq_2yrs                    float64\n",
              "inq_last_6mths                 float64\n",
              "mths_since_last_delinq         float64\n",
              "mths_since_last_record         float64\n",
              "numb_credit                    float64\n",
              "pub_rec                        float64\n",
              "total revol_bal                float64\n",
              "total_credits                  float64\n",
              "total_rec_int                  float64\n",
              "total_rec_late_fee             float64\n",
              "recoveries                     float64\n",
              "collection_recovery_fee        float64\n",
              "collections_12_mths_ex_med     float64\n",
              "mths_since_last_major_derog    float64\n",
              "application_type                object\n",
              "acc_now_delinq                 float64\n",
              "tot_colle_amt                  float64\n",
              "tot_curr_bal                   float64\n",
              "dtype: object"
            ]
          },
          "metadata": {
            "tags": []
          },
          "execution_count": 21
        }
      ]
    },
    {
      "cell_type": "markdown",
      "metadata": {
        "id": "RBrCSF6s0j-z",
        "colab_type": "text"
      },
      "source": [
        "\n",
        "**Deleting purpose column, which is unnecessary for our perdiction**\n"
      ]
    },
    {
      "cell_type": "code",
      "metadata": {
        "id": "1NwB8RFJKQI3",
        "colab_type": "code",
        "colab": {}
      },
      "source": [
        "df.drop(['purpose'],axis=1,inplace=True)"
      ],
      "execution_count": null,
      "outputs": []
    },
    {
      "cell_type": "markdown",
      "metadata": {
        "id": "QfW9Bgxs1O4r",
        "colab_type": "text"
      },
      "source": [
        "**Installing feature_engine library which is needed for OneHotEncoder**"
      ]
    },
    {
      "cell_type": "code",
      "metadata": {
        "id": "lKrDY_G8h4It",
        "colab_type": "code",
        "colab": {
          "base_uri": "https://localhost:8080/",
          "height": 367
        },
        "outputId": "192f40fc-bd67-49c5-f647-d679f908c360"
      },
      "source": [
        "!pip install feature_engine"
      ],
      "execution_count": null,
      "outputs": [
        {
          "output_type": "stream",
          "text": [
            "Collecting feature_engine\n",
            "  Downloading https://files.pythonhosted.org/packages/3c/32/885141003f4e2de75cd5e379a760a2184643c7d80cd413f0e962c1da2aa4/feature_engine-0.5.17-py2.py3-none-any.whl\n",
            "Requirement already satisfied: scikit-learn>=0.22.2 in /usr/local/lib/python3.6/dist-packages (from feature_engine) (0.22.2.post1)\n",
            "Requirement already satisfied: scipy>=1.4.1 in /usr/local/lib/python3.6/dist-packages (from feature_engine) (1.4.1)\n",
            "Collecting statsmodels>=0.11.1\n",
            "\u001b[?25l  Downloading https://files.pythonhosted.org/packages/cb/83/540fd83238a18abe6c2d280fa8e489ac5fcefa1f370f0ca1acd16ae1b860/statsmodels-0.11.1-cp36-cp36m-manylinux1_x86_64.whl (8.7MB)\n",
            "\u001b[K     |████████████████████████████████| 8.7MB 5.5MB/s \n",
            "\u001b[?25hRequirement already satisfied: pandas>=1.0.3 in /usr/local/lib/python3.6/dist-packages (from feature_engine) (1.0.5)\n",
            "Requirement already satisfied: numpy>=1.18.2 in /usr/local/lib/python3.6/dist-packages (from feature_engine) (1.18.5)\n",
            "Requirement already satisfied: joblib>=0.11 in /usr/local/lib/python3.6/dist-packages (from scikit-learn>=0.22.2->feature_engine) (0.16.0)\n",
            "Requirement already satisfied: patsy>=0.5 in /usr/local/lib/python3.6/dist-packages (from statsmodels>=0.11.1->feature_engine) (0.5.1)\n",
            "Requirement already satisfied: python-dateutil>=2.6.1 in /usr/local/lib/python3.6/dist-packages (from pandas>=1.0.3->feature_engine) (2.8.1)\n",
            "Requirement already satisfied: pytz>=2017.2 in /usr/local/lib/python3.6/dist-packages (from pandas>=1.0.3->feature_engine) (2018.9)\n",
            "Requirement already satisfied: six in /usr/local/lib/python3.6/dist-packages (from patsy>=0.5->statsmodels>=0.11.1->feature_engine) (1.15.0)\n",
            "Installing collected packages: statsmodels, feature-engine\n",
            "  Found existing installation: statsmodels 0.10.2\n",
            "    Uninstalling statsmodels-0.10.2:\n",
            "      Successfully uninstalled statsmodels-0.10.2\n",
            "Successfully installed feature-engine-0.5.17 statsmodels-0.11.1\n"
          ],
          "name": "stdout"
        }
      ]
    },
    {
      "cell_type": "markdown",
      "metadata": {
        "id": "X9yyW3Fq1c-S",
        "colab_type": "text"
      },
      "source": [
        "**Installing Required packages for Categorical Encoder**"
      ]
    },
    {
      "cell_type": "code",
      "metadata": {
        "id": "mXdbJPXiti1D",
        "colab_type": "code",
        "colab": {}
      },
      "source": [
        "from sklearn.model_selection import train_test_split\n",
        "from feature_engine.categorical_encoders import OneHotCategoricalEncoder"
      ],
      "execution_count": null,
      "outputs": []
    },
    {
      "cell_type": "code",
      "metadata": {
        "id": "IQeTkccGvWtk",
        "colab_type": "code",
        "colab": {
          "base_uri": "https://localhost:8080/",
          "height": 173
        },
        "outputId": "6c77a420-fc77-4088-ba5e-4887618a1266"
      },
      "source": [
        "df.columns"
      ],
      "execution_count": null,
      "outputs": [
        {
          "output_type": "execute_result",
          "data": {
            "text/plain": [
              "Index(['loan_amnt ', 'terms', 'Rate_of_intrst', 'grade', 'Experience',\n",
              "       'annual_inc', 'debt_income_ratio', 'delinq_2yrs', 'inq_last_6mths',\n",
              "       'mths_since_last_delinq', 'mths_since_last_record', 'numb_credit',\n",
              "       'pub_rec', 'total revol_bal', 'total_credits', 'total_rec_int',\n",
              "       'total_rec_late_fee', 'recoveries', 'collection_recovery_fee',\n",
              "       'collections_12_mths_ex_med', 'mths_since_last_major_derog',\n",
              "       'application_type', 'last_week_pay', 'acc_now_delinq', 'tot_colle_amt',\n",
              "       'tot_curr_bal'],\n",
              "      dtype='object')"
            ]
          },
          "metadata": {
            "tags": []
          },
          "execution_count": 44
        }
      ]
    },
    {
      "cell_type": "markdown",
      "metadata": {
        "id": "FYvDq8SA1p5M",
        "colab_type": "text"
      },
      "source": [
        "**Splitting Dataset into train & test which help for building the model**"
      ]
    },
    {
      "cell_type": "code",
      "metadata": {
        "id": "MERd7gZ4FCE1",
        "colab_type": "code",
        "colab": {
          "base_uri": "https://localhost:8080/",
          "height": 35
        },
        "outputId": "e44b3a15-929a-46e1-f4cd-7d01c6399e44"
      },
      "source": [
        "X_train, X_test, Y_Train, Y_test = train_test_split(df[['loan_amnt ', 'terms', 'Rate_of_intrst', 'grade', 'Experience', 'mths_since_last_delinq',\n",
        "                                                    'annual_inc', 'debt_income_ratio', 'delinq_2yrs', 'inq_last_6mths', 'mths_since_last_record',\n",
        "                                                    'numb_credit','pub_rec','total_credits', 'total_rec_int', 'total_rec_late_fee', 'recoveries',\n",
        "                                                    'collection_recovery_fee','collections_12_mths_ex_med', 'mths_since_last_major_derog',\n",
        "                                                    'application_type', 'acc_now_delinq', 'tot_colle_amt','tot_curr_bal']],\n",
        "                                                    df['total revol_bal'], test_size=0.2, random_state=0)\n",
        "X_train.shape, X_test.shape"
      ],
      "execution_count": null,
      "outputs": [
        {
          "output_type": "execute_result",
          "data": {
            "text/plain": [
              "((709903, 24), (177476, 24))"
            ]
          },
          "metadata": {
            "tags": []
          },
          "execution_count": 29
        }
      ]
    },
    {
      "cell_type": "markdown",
      "metadata": {
        "id": "y9hHQ2CR15Ba",
        "colab_type": "text"
      },
      "source": [
        "**Displaying any Categorical variables present in Dataset**"
      ]
    },
    {
      "cell_type": "code",
      "metadata": {
        "id": "9g55OcKDxwEq",
        "colab_type": "code",
        "colab": {
          "base_uri": "https://localhost:8080/",
          "height": 35
        },
        "outputId": "6f0f5d03-1f1b-4be7-f856-f59fceef070b"
      },
      "source": [
        "catgor = [colmn for colmn in X_train.columns if X_train[colmn].dtypes == 'O']\n",
        "catgor"
      ],
      "execution_count": null,
      "outputs": [
        {
          "output_type": "execute_result",
          "data": {
            "text/plain": [
              "['grade', 'Experience', 'application_type']"
            ]
          },
          "metadata": {
            "tags": []
          },
          "execution_count": 30
        }
      ]
    },
    {
      "cell_type": "markdown",
      "metadata": {
        "id": "i3x4FugO2H-1",
        "colab_type": "text"
      },
      "source": [
        "**The Categorical variable that is present in Dataset will be deleted because that is nolonger needed for our prediction**\n",
        "\n"
      ]
    },
    {
      "cell_type": "code",
      "metadata": {
        "id": "lvnyOz6p1q-r",
        "colab_type": "code",
        "colab": {
          "base_uri": "https://localhost:8080/",
          "height": 52
        },
        "outputId": "ce137cb9-9044-42b5-9bdc-c665b697c6f4"
      },
      "source": [
        "one_enc = OneHotCategoricalEncoder(variables = catgor, drop_last=False)\n",
        "one_enc.fit(X_train)"
      ],
      "execution_count": null,
      "outputs": [
        {
          "output_type": "execute_result",
          "data": {
            "text/plain": [
              "OneHotCategoricalEncoder(drop_last=False, top_categories=None,\n",
              "                         variables=['grade', 'Experience', 'application_type'])"
            ]
          },
          "metadata": {
            "tags": []
          },
          "execution_count": 31
        }
      ]
    },
    {
      "cell_type": "markdown",
      "metadata": {
        "id": "Zz6Dx_Mf2mJv",
        "colab_type": "text"
      },
      "source": [
        "**Now we will check the deleted categorical variables what is present in that, it contains NAN, object, Invalid characters**"
      ]
    },
    {
      "cell_type": "code",
      "metadata": {
        "id": "Cq30lAYHIw76",
        "colab_type": "code",
        "colab": {
          "base_uri": "https://localhost:8080/",
          "height": 87
        },
        "outputId": "82a31310-bb3c-413e-e4fd-db224d18520b"
      },
      "source": [
        "one_enc.encoder_dict_"
      ],
      "execution_count": null,
      "outputs": [
        {
          "output_type": "execute_result",
          "data": {
            "text/plain": [
              "{'Experience': array(['10', ' 1', '3', '1', '7', '5', '6', 'nan', '8', '2', '9', '4'],\n",
              "       dtype=object),\n",
              " 'application_type': array(['INDIVIDUAL', 'JOINT'], dtype=object),\n",
              " 'grade': array(['A', 'F', 'B', 'C', 'D', 'E', 'G'], dtype=object)}"
            ]
          },
          "metadata": {
            "tags": []
          },
          "execution_count": 32
        }
      ]
    },
    {
      "cell_type": "markdown",
      "metadata": {
        "id": "qTi-qKG52_c6",
        "colab_type": "text"
      },
      "source": [
        "**We are transforming Feature variable and Target Variable which help for smooth prediction**"
      ]
    },
    {
      "cell_type": "code",
      "metadata": {
        "id": "6x5sdAdRI32f",
        "colab_type": "code",
        "colab": {}
      },
      "source": [
        "X_train = one_enc.transform(X_train)\n",
        "X_test = one_enc.transform(X_test)"
      ],
      "execution_count": null,
      "outputs": []
    },
    {
      "cell_type": "code",
      "metadata": {
        "id": "WQDlJMkTJNB7",
        "colab_type": "code",
        "colab": {
          "base_uri": "https://localhost:8080/",
          "height": 239
        },
        "outputId": "dfb9e9ff-4483-43a3-e717-93ed24b7de60"
      },
      "source": [
        "X_train.head()"
      ],
      "execution_count": null,
      "outputs": [
        {
          "output_type": "execute_result",
          "data": {
            "text/html": [
              "<div>\n",
              "<style scoped>\n",
              "    .dataframe tbody tr th:only-of-type {\n",
              "        vertical-align: middle;\n",
              "    }\n",
              "\n",
              "    .dataframe tbody tr th {\n",
              "        vertical-align: top;\n",
              "    }\n",
              "\n",
              "    .dataframe thead th {\n",
              "        text-align: right;\n",
              "    }\n",
              "</style>\n",
              "<table border=\"1\" class=\"dataframe\">\n",
              "  <thead>\n",
              "    <tr style=\"text-align: right;\">\n",
              "      <th></th>\n",
              "      <th>loan_amnt</th>\n",
              "      <th>terms</th>\n",
              "      <th>Rate_of_intrst</th>\n",
              "      <th>mths_since_last_delinq</th>\n",
              "      <th>annual_inc</th>\n",
              "      <th>debt_income_ratio</th>\n",
              "      <th>delinq_2yrs</th>\n",
              "      <th>inq_last_6mths</th>\n",
              "      <th>mths_since_last_record</th>\n",
              "      <th>numb_credit</th>\n",
              "      <th>pub_rec</th>\n",
              "      <th>total_credits</th>\n",
              "      <th>total_rec_int</th>\n",
              "      <th>total_rec_late_fee</th>\n",
              "      <th>recoveries</th>\n",
              "      <th>collection_recovery_fee</th>\n",
              "      <th>collections_12_mths_ex_med</th>\n",
              "      <th>mths_since_last_major_derog</th>\n",
              "      <th>acc_now_delinq</th>\n",
              "      <th>tot_colle_amt</th>\n",
              "      <th>tot_curr_bal</th>\n",
              "      <th>grade_A</th>\n",
              "      <th>grade_F</th>\n",
              "      <th>grade_B</th>\n",
              "      <th>grade_C</th>\n",
              "      <th>grade_D</th>\n",
              "      <th>grade_E</th>\n",
              "      <th>grade_G</th>\n",
              "      <th>Experience_10</th>\n",
              "      <th>Experience_ 1</th>\n",
              "      <th>Experience_3</th>\n",
              "      <th>Experience_1</th>\n",
              "      <th>Experience_7</th>\n",
              "      <th>Experience_5</th>\n",
              "      <th>Experience_6</th>\n",
              "      <th>Experience_nan</th>\n",
              "      <th>Experience_8</th>\n",
              "      <th>Experience_2</th>\n",
              "      <th>Experience_9</th>\n",
              "      <th>Experience_4</th>\n",
              "      <th>application_type_INDIVIDUAL</th>\n",
              "      <th>application_type_JOINT</th>\n",
              "    </tr>\n",
              "  </thead>\n",
              "  <tbody>\n",
              "    <tr>\n",
              "      <th>739987</th>\n",
              "      <td>35000</td>\n",
              "      <td>36</td>\n",
              "      <td>7.26</td>\n",
              "      <td>34.063798</td>\n",
              "      <td>240000.0</td>\n",
              "      <td>10.41</td>\n",
              "      <td>0.0</td>\n",
              "      <td>0.0</td>\n",
              "      <td>70.117903</td>\n",
              "      <td>10.0</td>\n",
              "      <td>0.0</td>\n",
              "      <td>22.0</td>\n",
              "      <td>404.10</td>\n",
              "      <td>0.0</td>\n",
              "      <td>0.00</td>\n",
              "      <td>0.0000</td>\n",
              "      <td>0.0</td>\n",
              "      <td>52.000000</td>\n",
              "      <td>0.0</td>\n",
              "      <td>0.0</td>\n",
              "      <td>810669.0</td>\n",
              "      <td>1</td>\n",
              "      <td>0</td>\n",
              "      <td>0</td>\n",
              "      <td>0</td>\n",
              "      <td>0</td>\n",
              "      <td>0</td>\n",
              "      <td>0</td>\n",
              "      <td>1</td>\n",
              "      <td>0</td>\n",
              "      <td>0</td>\n",
              "      <td>0</td>\n",
              "      <td>0</td>\n",
              "      <td>0</td>\n",
              "      <td>0</td>\n",
              "      <td>0</td>\n",
              "      <td>0</td>\n",
              "      <td>0</td>\n",
              "      <td>0</td>\n",
              "      <td>0</td>\n",
              "      <td>1</td>\n",
              "      <td>0</td>\n",
              "    </tr>\n",
              "    <tr>\n",
              "      <th>584608</th>\n",
              "      <td>3600</td>\n",
              "      <td>36</td>\n",
              "      <td>24.50</td>\n",
              "      <td>11.000000</td>\n",
              "      <td>30000.0</td>\n",
              "      <td>30.80</td>\n",
              "      <td>1.0</td>\n",
              "      <td>1.0</td>\n",
              "      <td>70.117903</td>\n",
              "      <td>14.0</td>\n",
              "      <td>0.0</td>\n",
              "      <td>16.0</td>\n",
              "      <td>727.63</td>\n",
              "      <td>0.0</td>\n",
              "      <td>420.64</td>\n",
              "      <td>4.2064</td>\n",
              "      <td>0.0</td>\n",
              "      <td>11.000000</td>\n",
              "      <td>0.0</td>\n",
              "      <td>0.0</td>\n",
              "      <td>38572.0</td>\n",
              "      <td>0</td>\n",
              "      <td>1</td>\n",
              "      <td>0</td>\n",
              "      <td>0</td>\n",
              "      <td>0</td>\n",
              "      <td>0</td>\n",
              "      <td>0</td>\n",
              "      <td>0</td>\n",
              "      <td>1</td>\n",
              "      <td>0</td>\n",
              "      <td>0</td>\n",
              "      <td>0</td>\n",
              "      <td>0</td>\n",
              "      <td>0</td>\n",
              "      <td>0</td>\n",
              "      <td>0</td>\n",
              "      <td>0</td>\n",
              "      <td>0</td>\n",
              "      <td>0</td>\n",
              "      <td>1</td>\n",
              "      <td>0</td>\n",
              "    </tr>\n",
              "    <tr>\n",
              "      <th>283403</th>\n",
              "      <td>9600</td>\n",
              "      <td>36</td>\n",
              "      <td>10.99</td>\n",
              "      <td>34.063798</td>\n",
              "      <td>30000.0</td>\n",
              "      <td>17.31</td>\n",
              "      <td>0.0</td>\n",
              "      <td>0.0</td>\n",
              "      <td>70.117903</td>\n",
              "      <td>6.0</td>\n",
              "      <td>0.0</td>\n",
              "      <td>16.0</td>\n",
              "      <td>406.96</td>\n",
              "      <td>0.0</td>\n",
              "      <td>0.00</td>\n",
              "      <td>0.0000</td>\n",
              "      <td>0.0</td>\n",
              "      <td>44.104838</td>\n",
              "      <td>0.0</td>\n",
              "      <td>0.0</td>\n",
              "      <td>20438.0</td>\n",
              "      <td>0</td>\n",
              "      <td>0</td>\n",
              "      <td>1</td>\n",
              "      <td>0</td>\n",
              "      <td>0</td>\n",
              "      <td>0</td>\n",
              "      <td>0</td>\n",
              "      <td>0</td>\n",
              "      <td>0</td>\n",
              "      <td>1</td>\n",
              "      <td>0</td>\n",
              "      <td>0</td>\n",
              "      <td>0</td>\n",
              "      <td>0</td>\n",
              "      <td>0</td>\n",
              "      <td>0</td>\n",
              "      <td>0</td>\n",
              "      <td>0</td>\n",
              "      <td>0</td>\n",
              "      <td>1</td>\n",
              "      <td>0</td>\n",
              "    </tr>\n",
              "    <tr>\n",
              "      <th>533014</th>\n",
              "      <td>15000</td>\n",
              "      <td>60</td>\n",
              "      <td>13.35</td>\n",
              "      <td>34.063798</td>\n",
              "      <td>56000.0</td>\n",
              "      <td>10.93</td>\n",
              "      <td>0.0</td>\n",
              "      <td>1.0</td>\n",
              "      <td>70.117903</td>\n",
              "      <td>6.0</td>\n",
              "      <td>0.0</td>\n",
              "      <td>22.0</td>\n",
              "      <td>2553.40</td>\n",
              "      <td>0.0</td>\n",
              "      <td>0.00</td>\n",
              "      <td>0.0000</td>\n",
              "      <td>0.0</td>\n",
              "      <td>44.104838</td>\n",
              "      <td>0.0</td>\n",
              "      <td>1803.0</td>\n",
              "      <td>84972.0</td>\n",
              "      <td>0</td>\n",
              "      <td>0</td>\n",
              "      <td>0</td>\n",
              "      <td>1</td>\n",
              "      <td>0</td>\n",
              "      <td>0</td>\n",
              "      <td>0</td>\n",
              "      <td>1</td>\n",
              "      <td>0</td>\n",
              "      <td>0</td>\n",
              "      <td>0</td>\n",
              "      <td>0</td>\n",
              "      <td>0</td>\n",
              "      <td>0</td>\n",
              "      <td>0</td>\n",
              "      <td>0</td>\n",
              "      <td>0</td>\n",
              "      <td>0</td>\n",
              "      <td>0</td>\n",
              "      <td>1</td>\n",
              "      <td>0</td>\n",
              "    </tr>\n",
              "    <tr>\n",
              "      <th>207033</th>\n",
              "      <td>21000</td>\n",
              "      <td>36</td>\n",
              "      <td>12.88</td>\n",
              "      <td>34.063798</td>\n",
              "      <td>52000.0</td>\n",
              "      <td>15.88</td>\n",
              "      <td>0.0</td>\n",
              "      <td>1.0</td>\n",
              "      <td>70.117903</td>\n",
              "      <td>12.0</td>\n",
              "      <td>0.0</td>\n",
              "      <td>30.0</td>\n",
              "      <td>0.00</td>\n",
              "      <td>0.0</td>\n",
              "      <td>0.00</td>\n",
              "      <td>0.0000</td>\n",
              "      <td>0.0</td>\n",
              "      <td>44.104838</td>\n",
              "      <td>0.0</td>\n",
              "      <td>0.0</td>\n",
              "      <td>139251.0</td>\n",
              "      <td>0</td>\n",
              "      <td>0</td>\n",
              "      <td>0</td>\n",
              "      <td>1</td>\n",
              "      <td>0</td>\n",
              "      <td>0</td>\n",
              "      <td>0</td>\n",
              "      <td>0</td>\n",
              "      <td>1</td>\n",
              "      <td>0</td>\n",
              "      <td>0</td>\n",
              "      <td>0</td>\n",
              "      <td>0</td>\n",
              "      <td>0</td>\n",
              "      <td>0</td>\n",
              "      <td>0</td>\n",
              "      <td>0</td>\n",
              "      <td>0</td>\n",
              "      <td>0</td>\n",
              "      <td>1</td>\n",
              "      <td>0</td>\n",
              "    </tr>\n",
              "  </tbody>\n",
              "</table>\n",
              "</div>"
            ],
            "text/plain": [
              "        loan_amnt   terms  ...  application_type_INDIVIDUAL  application_type_JOINT\n",
              "739987       35000     36  ...                            1                       0\n",
              "584608        3600     36  ...                            1                       0\n",
              "283403        9600     36  ...                            1                       0\n",
              "533014       15000     60  ...                            1                       0\n",
              "207033       21000     36  ...                            1                       0\n",
              "\n",
              "[5 rows x 42 columns]"
            ]
          },
          "metadata": {
            "tags": []
          },
          "execution_count": 34
        }
      ]
    },
    {
      "cell_type": "code",
      "metadata": {
        "id": "RBNXDHwKJT2Q",
        "colab_type": "code",
        "colab": {}
      },
      "source": [
        "df_1 = df.iloc[[0]]\n",
        "df_2 = df_1[['loan_amnt ', 'terms', 'Rate_of_intrst', 'grade', 'Experience', 'mths_since_last_delinq',\n",
        "              'annual_inc', 'debt_income_ratio', 'delinq_2yrs', 'inq_last_6mths', 'mths_since_last_record',\n",
        "              'numb_credit','pub_rec','total_credits', 'total_rec_int', 'total_rec_late_fee', 'recoveries',\n",
        "              'collection_recovery_fee','collections_12_mths_ex_med', 'mths_since_last_major_derog',\n",
        "              'application_type', 'acc_now_delinq', 'tot_colle_amt','tot_curr_bal']]"
      ],
      "execution_count": null,
      "outputs": []
    },
    {
      "cell_type": "markdown",
      "metadata": {
        "id": "eVX8Szgw3wsH",
        "colab_type": "text"
      },
      "source": [
        "**Pickling” is the process whereby a Python object hierarchy is converted into a byte stream, and “unpickling” is the inverse operation**"
      ]
    },
    {
      "cell_type": "code",
      "metadata": {
        "id": "4hY3GhYVKJKg",
        "colab_type": "code",
        "colab": {
          "base_uri": "https://localhost:8080/",
          "height": 89
        },
        "outputId": "9fcd3bdf-9c47-4de7-ce96-6440d65e75f2"
      },
      "source": [
        "import pickle\n",
        "from sklearn.externals import joblib\n",
        "joblib.dump(one_enc, 'mdl1.pkl')"
      ],
      "execution_count": null,
      "outputs": [
        {
          "output_type": "stream",
          "text": [
            "/usr/local/lib/python3.6/dist-packages/sklearn/externals/joblib/__init__.py:15: FutureWarning: sklearn.externals.joblib is deprecated in 0.21 and will be removed in 0.23. Please import this functionality directly from joblib, which can be installed with: pip install joblib. If this warning is raised when loading pickled models, you may need to re-serialize those models with scikit-learn 0.21+.\n",
            "  warnings.warn(msg, category=FutureWarning)\n"
          ],
          "name": "stderr"
        },
        {
          "output_type": "execute_result",
          "data": {
            "text/plain": [
              "['mdl1.pkl']"
            ]
          },
          "metadata": {
            "tags": []
          },
          "execution_count": 36
        }
      ]
    },
    {
      "cell_type": "markdown",
      "metadata": {
        "id": "Orz-1JJu33M7",
        "colab_type": "text"
      },
      "source": [
        "**joblib.load is used for deserialize the data stream, and we transfroming data of encoder object**"
      ]
    },
    {
      "cell_type": "code",
      "metadata": {
        "id": "iCdOhvKDKpTD",
        "colab_type": "code",
        "colab": {
          "base_uri": "https://localhost:8080/",
          "height": 99
        },
        "outputId": "c603b32d-57d1-4620-dabe-f35b6c0a8d4a"
      },
      "source": [
        "encoder = joblib.load('mdl1.pkl')\n",
        "df_test = encoder.transform(df_2)\n",
        "df_2"
      ],
      "execution_count": null,
      "outputs": [
        {
          "output_type": "execute_result",
          "data": {
            "text/html": [
              "<div>\n",
              "<style scoped>\n",
              "    .dataframe tbody tr th:only-of-type {\n",
              "        vertical-align: middle;\n",
              "    }\n",
              "\n",
              "    .dataframe tbody tr th {\n",
              "        vertical-align: top;\n",
              "    }\n",
              "\n",
              "    .dataframe thead th {\n",
              "        text-align: right;\n",
              "    }\n",
              "</style>\n",
              "<table border=\"1\" class=\"dataframe\">\n",
              "  <thead>\n",
              "    <tr style=\"text-align: right;\">\n",
              "      <th></th>\n",
              "      <th>loan_amnt</th>\n",
              "      <th>terms</th>\n",
              "      <th>Rate_of_intrst</th>\n",
              "      <th>grade</th>\n",
              "      <th>Experience</th>\n",
              "      <th>mths_since_last_delinq</th>\n",
              "      <th>annual_inc</th>\n",
              "      <th>debt_income_ratio</th>\n",
              "      <th>delinq_2yrs</th>\n",
              "      <th>inq_last_6mths</th>\n",
              "      <th>mths_since_last_record</th>\n",
              "      <th>numb_credit</th>\n",
              "      <th>pub_rec</th>\n",
              "      <th>total_credits</th>\n",
              "      <th>total_rec_int</th>\n",
              "      <th>total_rec_late_fee</th>\n",
              "      <th>recoveries</th>\n",
              "      <th>collection_recovery_fee</th>\n",
              "      <th>collections_12_mths_ex_med</th>\n",
              "      <th>mths_since_last_major_derog</th>\n",
              "      <th>application_type</th>\n",
              "      <th>acc_now_delinq</th>\n",
              "      <th>tot_colle_amt</th>\n",
              "      <th>tot_curr_bal</th>\n",
              "    </tr>\n",
              "  </thead>\n",
              "  <tbody>\n",
              "    <tr>\n",
              "      <th>0</th>\n",
              "      <td>14350</td>\n",
              "      <td>36</td>\n",
              "      <td>19.19</td>\n",
              "      <td>E</td>\n",
              "      <td>9</td>\n",
              "      <td>50.0</td>\n",
              "      <td>28700.0</td>\n",
              "      <td>33.88</td>\n",
              "      <td>0.0</td>\n",
              "      <td>1.0</td>\n",
              "      <td>75.0</td>\n",
              "      <td>14.0</td>\n",
              "      <td>1.0</td>\n",
              "      <td>28.0</td>\n",
              "      <td>1173.84</td>\n",
              "      <td>0.0</td>\n",
              "      <td>0.0</td>\n",
              "      <td>0.0</td>\n",
              "      <td>0.0</td>\n",
              "      <td>74.0</td>\n",
              "      <td>INDIVIDUAL</td>\n",
              "      <td>0.0</td>\n",
              "      <td>0.0</td>\n",
              "      <td>28699.0</td>\n",
              "    </tr>\n",
              "  </tbody>\n",
              "</table>\n",
              "</div>"
            ],
            "text/plain": [
              "   loan_amnt   terms  ...  tot_colle_amt tot_curr_bal\n",
              "0       14350     36  ...            0.0      28699.0\n",
              "\n",
              "[1 rows x 24 columns]"
            ]
          },
          "metadata": {
            "tags": []
          },
          "execution_count": 37
        }
      ]
    },
    {
      "cell_type": "code",
      "metadata": {
        "id": "6fapXnxLLbdF",
        "colab_type": "code",
        "colab": {
          "base_uri": "https://localhost:8080/",
          "height": 117
        },
        "outputId": "670af312-40b4-41b7-f1ed-f48acf148032"
      },
      "source": [
        "df_test"
      ],
      "execution_count": null,
      "outputs": [
        {
          "output_type": "execute_result",
          "data": {
            "text/html": [
              "<div>\n",
              "<style scoped>\n",
              "    .dataframe tbody tr th:only-of-type {\n",
              "        vertical-align: middle;\n",
              "    }\n",
              "\n",
              "    .dataframe tbody tr th {\n",
              "        vertical-align: top;\n",
              "    }\n",
              "\n",
              "    .dataframe thead th {\n",
              "        text-align: right;\n",
              "    }\n",
              "</style>\n",
              "<table border=\"1\" class=\"dataframe\">\n",
              "  <thead>\n",
              "    <tr style=\"text-align: right;\">\n",
              "      <th></th>\n",
              "      <th>loan_amnt</th>\n",
              "      <th>terms</th>\n",
              "      <th>Rate_of_intrst</th>\n",
              "      <th>mths_since_last_delinq</th>\n",
              "      <th>annual_inc</th>\n",
              "      <th>debt_income_ratio</th>\n",
              "      <th>delinq_2yrs</th>\n",
              "      <th>inq_last_6mths</th>\n",
              "      <th>mths_since_last_record</th>\n",
              "      <th>numb_credit</th>\n",
              "      <th>pub_rec</th>\n",
              "      <th>total_credits</th>\n",
              "      <th>total_rec_int</th>\n",
              "      <th>total_rec_late_fee</th>\n",
              "      <th>recoveries</th>\n",
              "      <th>collection_recovery_fee</th>\n",
              "      <th>collections_12_mths_ex_med</th>\n",
              "      <th>mths_since_last_major_derog</th>\n",
              "      <th>acc_now_delinq</th>\n",
              "      <th>tot_colle_amt</th>\n",
              "      <th>tot_curr_bal</th>\n",
              "      <th>grade_A</th>\n",
              "      <th>grade_F</th>\n",
              "      <th>grade_B</th>\n",
              "      <th>grade_C</th>\n",
              "      <th>grade_D</th>\n",
              "      <th>grade_E</th>\n",
              "      <th>grade_G</th>\n",
              "      <th>Experience_10</th>\n",
              "      <th>Experience_ 1</th>\n",
              "      <th>Experience_3</th>\n",
              "      <th>Experience_1</th>\n",
              "      <th>Experience_7</th>\n",
              "      <th>Experience_5</th>\n",
              "      <th>Experience_6</th>\n",
              "      <th>Experience_nan</th>\n",
              "      <th>Experience_8</th>\n",
              "      <th>Experience_2</th>\n",
              "      <th>Experience_9</th>\n",
              "      <th>Experience_4</th>\n",
              "      <th>application_type_INDIVIDUAL</th>\n",
              "      <th>application_type_JOINT</th>\n",
              "    </tr>\n",
              "  </thead>\n",
              "  <tbody>\n",
              "    <tr>\n",
              "      <th>0</th>\n",
              "      <td>14350</td>\n",
              "      <td>36</td>\n",
              "      <td>19.19</td>\n",
              "      <td>50.0</td>\n",
              "      <td>28700.0</td>\n",
              "      <td>33.88</td>\n",
              "      <td>0.0</td>\n",
              "      <td>1.0</td>\n",
              "      <td>75.0</td>\n",
              "      <td>14.0</td>\n",
              "      <td>1.0</td>\n",
              "      <td>28.0</td>\n",
              "      <td>1173.84</td>\n",
              "      <td>0.0</td>\n",
              "      <td>0.0</td>\n",
              "      <td>0.0</td>\n",
              "      <td>0.0</td>\n",
              "      <td>74.0</td>\n",
              "      <td>0.0</td>\n",
              "      <td>0.0</td>\n",
              "      <td>28699.0</td>\n",
              "      <td>0</td>\n",
              "      <td>0</td>\n",
              "      <td>0</td>\n",
              "      <td>0</td>\n",
              "      <td>0</td>\n",
              "      <td>1</td>\n",
              "      <td>0</td>\n",
              "      <td>0</td>\n",
              "      <td>0</td>\n",
              "      <td>0</td>\n",
              "      <td>0</td>\n",
              "      <td>0</td>\n",
              "      <td>0</td>\n",
              "      <td>0</td>\n",
              "      <td>0</td>\n",
              "      <td>0</td>\n",
              "      <td>0</td>\n",
              "      <td>1</td>\n",
              "      <td>0</td>\n",
              "      <td>1</td>\n",
              "      <td>0</td>\n",
              "    </tr>\n",
              "  </tbody>\n",
              "</table>\n",
              "</div>"
            ],
            "text/plain": [
              "   loan_amnt   terms  ...  application_type_INDIVIDUAL  application_type_JOINT\n",
              "0       14350     36  ...                            1                       0\n",
              "\n",
              "[1 rows x 42 columns]"
            ]
          },
          "metadata": {
            "tags": []
          },
          "execution_count": 38
        }
      ]
    },
    {
      "cell_type": "markdown",
      "metadata": {
        "id": "lQ6do_ik4fpA",
        "colab_type": "text"
      },
      "source": [
        "**We are doing Normalization for Dataset to avoid outliers in our prediction**"
      ]
    },
    {
      "cell_type": "code",
      "metadata": {
        "id": "s4dZ-dUzLmKY",
        "colab_type": "code",
        "colab": {}
      },
      "source": [
        "def norm_lize (x):\n",
        "  return((x-np.min(x)) / (max(x) - min(x)))\n",
        "\n",
        "  X_train = X_train.apply(norm_lize)\n",
        "  Y_Train = Y_Train.apply(norm_lize)"
      ],
      "execution_count": null,
      "outputs": []
    },
    {
      "cell_type": "markdown",
      "metadata": {
        "id": "pmBFpfhO4sf-",
        "colab_type": "text"
      },
      "source": [
        "**Building Linear Regression wrt OLS [Ordinary Least Squares]  \n",
        "**Now we are predicting the model:\n",
        "R-Squared : 0.261 | \n",
        "Adj. R-Squared : 0.261****"
      ]
    },
    {
      "cell_type": "code",
      "metadata": {
        "id": "9zI-lKLHMgbR",
        "colab_type": "code",
        "colab": {
          "base_uri": "https://localhost:8080/",
          "height": 1000
        },
        "outputId": "cc59fc05-36fb-4208-c7a4-bc9a2b4d88cc"
      },
      "source": [
        "import statsmodels.api as smf\n",
        "X_train = smf.add_constant(X_train)\n",
        "lm_reg = smf.OLS(Y_Train,X_train).fit()\n",
        "print(lm_reg.summary())"
      ],
      "execution_count": null,
      "outputs": [
        {
          "output_type": "stream",
          "text": [
            "                            OLS Regression Results                            \n",
            "==============================================================================\n",
            "Dep. Variable:        total revol_bal   R-squared:                       0.261\n",
            "Model:                            OLS   Adj. R-squared:                  0.261\n",
            "Method:                 Least Squares   F-statistic:                     6421.\n",
            "Date:                Mon, 10 Aug 2020   Prob (F-statistic):               0.00\n",
            "Time:                        04:04:53   Log-Likelihood:            -8.0188e+06\n",
            "No. Observations:              709903   AIC:                         1.604e+07\n",
            "Df Residuals:                  709863   BIC:                         1.604e+07\n",
            "Df Model:                          39                                         \n",
            "Covariance Type:            nonrobust                                         \n",
            "===============================================================================================\n",
            "                                  coef    std err          t      P>|t|      [0.025      0.975]\n",
            "-----------------------------------------------------------------------------------------------\n",
            "const                        -160.8939    364.100     -0.442      0.659    -874.518     552.730\n",
            "loan_amnt                       0.5226      0.004    139.633      0.000       0.515       0.530\n",
            "terms                         -77.3859      2.582    -29.966      0.000     -82.447     -72.324\n",
            "Rate_of_intrst                -39.6247     19.321     -2.051      0.040     -77.492      -1.757\n",
            "mths_since_last_delinq        -18.2288      1.920     -9.496      0.000     -21.991     -14.466\n",
            "annual_inc                      0.0345      0.000     88.076      0.000       0.034       0.035\n",
            "debt_income_ratio              65.8925      1.260     52.280      0.000      63.422      68.363\n",
            "delinq_2yrs                 -1770.6516     32.107    -55.149      0.000   -1833.580   -1707.723\n",
            "inq_last_6mths               -579.4303     24.446    -23.702      0.000    -627.344    -531.517\n",
            "mths_since_last_record        -37.8371      2.129    -17.770      0.000     -42.010     -33.664\n",
            "numb_credit                   579.3114      6.149     94.206      0.000     567.259     591.364\n",
            "pub_rec                     -2257.3607     41.160    -54.844      0.000   -2338.032   -2176.689\n",
            "total_credits                -107.9591      2.855    -37.812      0.000    -113.555    -102.363\n",
            "total_rec_int                  -0.1074      0.015     -7.077      0.000      -0.137      -0.078\n",
            "total_rec_late_fee            -26.5647      5.690     -4.669      0.000     -37.717     -15.412\n",
            "recoveries                     -0.0022      0.096     -0.023      0.982      -0.191       0.187\n",
            "collection_recovery_fee        -0.3998      0.615     -0.650      0.515      -1.605       0.805\n",
            "collections_12_mths_ex_med  -1955.9913    175.993    -11.114      0.000   -2300.933   -1611.050\n",
            "mths_since_last_major_derog   -13.9078      2.394     -5.810      0.000     -18.599      -9.216\n",
            "acc_now_delinq              -2099.2322    309.495     -6.783      0.000   -2705.831   -1492.633\n",
            "tot_colle_amt                  -0.2577      0.013    -20.098      0.000      -0.283      -0.233\n",
            "tot_curr_bal                    0.0486      0.000    268.017      0.000       0.048       0.049\n",
            "grade_A                      -785.3402    173.393     -4.529      0.000   -1125.184    -445.496\n",
            "grade_F                      -228.7288    205.112     -1.115      0.265    -630.742     173.284\n",
            "grade_B                       249.9911    113.701      2.199      0.028      27.141     472.842\n",
            "grade_C                       479.6925     79.164      6.059      0.000     324.533     634.852\n",
            "grade_D                       238.4366     87.680      2.719      0.007      66.588     410.286\n",
            "grade_E                        20.7167    127.028      0.163      0.870    -228.254     269.687\n",
            "grade_G                      -135.6618    319.638     -0.424      0.671    -762.141     490.818\n",
            "Experience_10                1703.0326     55.275     30.810      0.000    1594.696    1811.370\n",
            "Experience_ 1                -171.6853     84.623     -2.029      0.042    -337.544      -5.827\n",
            "Experience_3                 -734.4708     85.002     -8.641      0.000    -901.071    -567.870\n",
            "Experience_1                 -416.4829     92.312     -4.512      0.000    -597.412    -235.554\n",
            "Experience_7                 -452.4832    102.896     -4.397      0.000    -654.155    -250.811\n",
            "Experience_5                 -394.8420     93.638     -4.217      0.000    -578.369    -211.315\n",
            "Experience_6                 -539.9207    104.422     -5.171      0.000    -744.584    -335.257\n",
            "Experience_nan               2276.9481    102.866     22.135      0.000    2075.334    2478.562\n",
            "Experience_8                 -292.6343    103.330     -2.832      0.005    -495.158     -90.111\n",
            "Experience_2                 -468.3005     81.374     -5.755      0.000    -627.791    -308.810\n",
            "Experience_9                  157.3797    114.552      1.374      0.169     -67.138     381.898\n",
            "Experience_4                 -827.4347     95.659     -8.650      0.000   -1014.923    -639.947\n",
            "application_type_INDIVIDUAL  3795.4534    365.749     10.377      0.000    3078.598    4512.309\n",
            "application_type_JOINT      -3956.3473    643.523     -6.148      0.000   -5217.632   -2695.063\n",
            "==============================================================================\n",
            "Omnibus:                  1538665.726   Durbin-Watson:                   2.001\n",
            "Prob(Omnibus):                  0.000   Jarque-Bera (JB):      60436959773.903\n",
            "Skew:                          18.678   Prob(JB):                         0.00\n",
            "Kurtosis:                    1431.924   Cond. No.                     1.36e+16\n",
            "==============================================================================\n",
            "\n",
            "Warnings:\n",
            "[1] Standard Errors assume that the covariance matrix of the errors is correctly specified.\n",
            "[2] The smallest eigenvalue is 1.79e-16. This might indicate that there are\n",
            "strong multicollinearity problems or that the design matrix is singular.\n"
          ],
          "name": "stdout"
        }
      ]
    },
    {
      "cell_type": "markdown",
      "metadata": {
        "id": "7WYpV2jL46U9",
        "colab_type": "text"
      },
      "source": [
        "**Again We are performing Linear Regression only for Numerical Variables**\n"
      ]
    },
    {
      "cell_type": "code",
      "metadata": {
        "id": "BvpLDLwGphJK",
        "colab_type": "code",
        "colab": {
          "base_uri": "https://localhost:8080/",
          "height": 72
        },
        "outputId": "4b34de7f-53e2-4730-ebc1-ffd59ff4c28d"
      },
      "source": [
        "df=pd.read_csv('/content/gdrive/My Drive/Co_data.csv',encoding='latin1')"
      ],
      "execution_count": null,
      "outputs": [
        {
          "output_type": "stream",
          "text": [
            "/usr/local/lib/python3.6/dist-packages/IPython/core/interactiveshell.py:2718: DtypeWarning: Columns (31) have mixed types.Specify dtype option on import or set low_memory=False.\n",
            "  interactivity=interactivity, compiler=compiler, result=result)\n"
          ],
          "name": "stderr"
        }
      ]
    },
    {
      "cell_type": "code",
      "metadata": {
        "id": "th8YgAdUpzQS",
        "colab_type": "code",
        "colab": {
          "base_uri": "https://localhost:8080/",
          "height": 361
        },
        "outputId": "085e1894-93ab-4de0-d3ef-76ca8a752406"
      },
      "source": [
        "df.head()"
      ],
      "execution_count": null,
      "outputs": [
        {
          "output_type": "execute_result",
          "data": {
            "text/html": [
              "<div>\n",
              "<style scoped>\n",
              "    .dataframe tbody tr th:only-of-type {\n",
              "        vertical-align: middle;\n",
              "    }\n",
              "\n",
              "    .dataframe tbody tr th {\n",
              "        vertical-align: top;\n",
              "    }\n",
              "\n",
              "    .dataframe thead th {\n",
              "        text-align: right;\n",
              "    }\n",
              "</style>\n",
              "<table border=\"1\" class=\"dataframe\">\n",
              "  <thead>\n",
              "    <tr style=\"text-align: right;\">\n",
              "      <th></th>\n",
              "      <th>member_id</th>\n",
              "      <th>loan_amnt</th>\n",
              "      <th>terms</th>\n",
              "      <th>batch_ID</th>\n",
              "      <th>Rate_of_intrst</th>\n",
              "      <th>grade</th>\n",
              "      <th>sub_grade</th>\n",
              "      <th>Emp_designation</th>\n",
              "      <th>Experience</th>\n",
              "      <th>home_ownership</th>\n",
              "      <th>annual_inc</th>\n",
              "      <th>verification_status</th>\n",
              "      <th>purpose</th>\n",
              "      <th>State</th>\n",
              "      <th>debt_income_ratio</th>\n",
              "      <th>delinq_2yrs</th>\n",
              "      <th>inq_last_6mths</th>\n",
              "      <th>mths_since_last_delinq</th>\n",
              "      <th>mths_since_last_record</th>\n",
              "      <th>numb_credit</th>\n",
              "      <th>pub_rec</th>\n",
              "      <th>total revol_bal</th>\n",
              "      <th>total_credits</th>\n",
              "      <th>initial_list_status</th>\n",
              "      <th>total_rec_int</th>\n",
              "      <th>total_rec_late_fee</th>\n",
              "      <th>recoveries</th>\n",
              "      <th>collection_recovery_fee</th>\n",
              "      <th>collections_12_mths_ex_med</th>\n",
              "      <th>mths_since_last_major_derog</th>\n",
              "      <th>application_type</th>\n",
              "      <th>verification_status_joint</th>\n",
              "      <th>last_week_pay</th>\n",
              "      <th>acc_now_delinq</th>\n",
              "      <th>tot_colle_amt</th>\n",
              "      <th>tot_curr_bal</th>\n",
              "    </tr>\n",
              "  </thead>\n",
              "  <tbody>\n",
              "    <tr>\n",
              "      <th>0</th>\n",
              "      <td>58189336</td>\n",
              "      <td>14350</td>\n",
              "      <td>36 months</td>\n",
              "      <td></td>\n",
              "      <td>19.19</td>\n",
              "      <td>E</td>\n",
              "      <td>E3</td>\n",
              "      <td>clerk</td>\n",
              "      <td>9 years</td>\n",
              "      <td>OWN</td>\n",
              "      <td>28700.0</td>\n",
              "      <td>Source Verified</td>\n",
              "      <td>debt_consolidation</td>\n",
              "      <td>FL</td>\n",
              "      <td>33.88</td>\n",
              "      <td>0.0</td>\n",
              "      <td>1.0</td>\n",
              "      <td>50.0</td>\n",
              "      <td>75.0</td>\n",
              "      <td>14.0</td>\n",
              "      <td>1.0</td>\n",
              "      <td>22515.0</td>\n",
              "      <td>28.0</td>\n",
              "      <td>f</td>\n",
              "      <td>1173.84</td>\n",
              "      <td>0.0</td>\n",
              "      <td>0.0</td>\n",
              "      <td>0.0</td>\n",
              "      <td>0.0</td>\n",
              "      <td>74.0</td>\n",
              "      <td>INDIVIDUAL</td>\n",
              "      <td>NaN</td>\n",
              "      <td>26th week</td>\n",
              "      <td>0.0</td>\n",
              "      <td>0.0</td>\n",
              "      <td>28699.0</td>\n",
              "    </tr>\n",
              "    <tr>\n",
              "      <th>1</th>\n",
              "      <td>70011223</td>\n",
              "      <td>4800</td>\n",
              "      <td>36 months</td>\n",
              "      <td>BAT1586599</td>\n",
              "      <td>10.99</td>\n",
              "      <td>B</td>\n",
              "      <td>B4</td>\n",
              "      <td>Human Resources Specialist</td>\n",
              "      <td>&lt; 1 year</td>\n",
              "      <td>MORTGAGE</td>\n",
              "      <td>65000.0</td>\n",
              "      <td>Source Verified</td>\n",
              "      <td>home_improvement</td>\n",
              "      <td>MD</td>\n",
              "      <td>3.64</td>\n",
              "      <td>0.0</td>\n",
              "      <td>1.0</td>\n",
              "      <td>NaN</td>\n",
              "      <td>NaN</td>\n",
              "      <td>6.0</td>\n",
              "      <td>0.0</td>\n",
              "      <td>7624.0</td>\n",
              "      <td>13.0</td>\n",
              "      <td>w</td>\n",
              "      <td>83.95</td>\n",
              "      <td>0.0</td>\n",
              "      <td>0.0</td>\n",
              "      <td>0.0</td>\n",
              "      <td>0.0</td>\n",
              "      <td>NaN</td>\n",
              "      <td>INDIVIDUAL</td>\n",
              "      <td>NaN</td>\n",
              "      <td>9th week</td>\n",
              "      <td>0.0</td>\n",
              "      <td>0.0</td>\n",
              "      <td>9974.0</td>\n",
              "    </tr>\n",
              "    <tr>\n",
              "      <th>2</th>\n",
              "      <td>70255675</td>\n",
              "      <td>10000</td>\n",
              "      <td>36 months</td>\n",
              "      <td>BAT1586599</td>\n",
              "      <td>7.26</td>\n",
              "      <td>A</td>\n",
              "      <td>A4</td>\n",
              "      <td>Driver</td>\n",
              "      <td>2 years</td>\n",
              "      <td>OWN</td>\n",
              "      <td>45000.0</td>\n",
              "      <td>Not Verified</td>\n",
              "      <td>debt_consolidation</td>\n",
              "      <td>OH</td>\n",
              "      <td>18.42</td>\n",
              "      <td>0.0</td>\n",
              "      <td>0.0</td>\n",
              "      <td>NaN</td>\n",
              "      <td>NaN</td>\n",
              "      <td>5.0</td>\n",
              "      <td>0.0</td>\n",
              "      <td>10877.0</td>\n",
              "      <td>19.0</td>\n",
              "      <td>w</td>\n",
              "      <td>56.47</td>\n",
              "      <td>0.0</td>\n",
              "      <td>0.0</td>\n",
              "      <td>0.0</td>\n",
              "      <td>0.0</td>\n",
              "      <td>NaN</td>\n",
              "      <td>INDIVIDUAL</td>\n",
              "      <td>NaN</td>\n",
              "      <td>9th week</td>\n",
              "      <td>0.0</td>\n",
              "      <td>65.0</td>\n",
              "      <td>38295.0</td>\n",
              "    </tr>\n",
              "    <tr>\n",
              "      <th>3</th>\n",
              "      <td>1893936</td>\n",
              "      <td>15000</td>\n",
              "      <td>36 months</td>\n",
              "      <td>BAT4808022</td>\n",
              "      <td>19.72</td>\n",
              "      <td>D</td>\n",
              "      <td>D5</td>\n",
              "      <td>Us office of Personnel Management</td>\n",
              "      <td>10+ years</td>\n",
              "      <td>RENT</td>\n",
              "      <td>105000.0</td>\n",
              "      <td>Not Verified</td>\n",
              "      <td>debt_consolidation</td>\n",
              "      <td>VA</td>\n",
              "      <td>14.97</td>\n",
              "      <td>0.0</td>\n",
              "      <td>2.0</td>\n",
              "      <td>46.0</td>\n",
              "      <td>NaN</td>\n",
              "      <td>10.0</td>\n",
              "      <td>0.0</td>\n",
              "      <td>13712.0</td>\n",
              "      <td>21.0</td>\n",
              "      <td>f</td>\n",
              "      <td>4858.62</td>\n",
              "      <td>0.0</td>\n",
              "      <td>0.0</td>\n",
              "      <td>0.0</td>\n",
              "      <td>0.0</td>\n",
              "      <td>NaN</td>\n",
              "      <td>INDIVIDUAL</td>\n",
              "      <td>NaN</td>\n",
              "      <td>135th week</td>\n",
              "      <td>0.0</td>\n",
              "      <td>0.0</td>\n",
              "      <td>55564.0</td>\n",
              "    </tr>\n",
              "    <tr>\n",
              "      <th>4</th>\n",
              "      <td>7652106</td>\n",
              "      <td>16000</td>\n",
              "      <td>36 months</td>\n",
              "      <td>BAT2833642</td>\n",
              "      <td>10.64</td>\n",
              "      <td>B</td>\n",
              "      <td>B2</td>\n",
              "      <td>LAUSD-HOLLYWOOD HIGH SCHOOL</td>\n",
              "      <td>10+ years</td>\n",
              "      <td>RENT</td>\n",
              "      <td>52000.0</td>\n",
              "      <td>Verified</td>\n",
              "      <td>credit_card</td>\n",
              "      <td>CA</td>\n",
              "      <td>20.16</td>\n",
              "      <td>0.0</td>\n",
              "      <td>0.0</td>\n",
              "      <td>NaN</td>\n",
              "      <td>NaN</td>\n",
              "      <td>11.0</td>\n",
              "      <td>0.0</td>\n",
              "      <td>35835.0</td>\n",
              "      <td>27.0</td>\n",
              "      <td>w</td>\n",
              "      <td>2296.41</td>\n",
              "      <td>0.0</td>\n",
              "      <td>0.0</td>\n",
              "      <td>0.0</td>\n",
              "      <td>0.0</td>\n",
              "      <td>NaN</td>\n",
              "      <td>INDIVIDUAL</td>\n",
              "      <td>NaN</td>\n",
              "      <td>96th week</td>\n",
              "      <td>0.0</td>\n",
              "      <td>0.0</td>\n",
              "      <td>47159.0</td>\n",
              "    </tr>\n",
              "  </tbody>\n",
              "</table>\n",
              "</div>"
            ],
            "text/plain": [
              "   member_id   loan_amnt   ... tot_colle_amt tot_curr_bal\n",
              "0    58189336       14350  ...           0.0      28699.0\n",
              "1    70011223        4800  ...           0.0       9974.0\n",
              "2    70255675       10000  ...          65.0      38295.0\n",
              "3     1893936       15000  ...           0.0      55564.0\n",
              "4     7652106       16000  ...           0.0      47159.0\n",
              "\n",
              "[5 rows x 36 columns]"
            ]
          },
          "metadata": {
            "tags": []
          },
          "execution_count": 43
        }
      ]
    },
    {
      "cell_type": "markdown",
      "metadata": {
        "id": "XOERCCy4IkAk",
        "colab_type": "text"
      },
      "source": [
        "**Separating Categorical Variables in the dataset**"
      ]
    },
    {
      "cell_type": "code",
      "metadata": {
        "id": "sWhyqTp3qGay",
        "colab_type": "code",
        "colab": {
          "base_uri": "https://localhost:8080/",
          "height": 260
        },
        "outputId": "e0959535-4b16-4bd2-e4d2-8a34734dd3e8"
      },
      "source": [
        "catgor = [colmn for colmn in df.columns if df[colmn].dtypes == 'O']\n",
        "catgor"
      ],
      "execution_count": null,
      "outputs": [
        {
          "output_type": "execute_result",
          "data": {
            "text/plain": [
              "['terms',\n",
              " 'batch_ID ',\n",
              " 'grade',\n",
              " 'sub_grade',\n",
              " 'Emp_designation',\n",
              " 'Experience',\n",
              " 'home_ownership',\n",
              " 'verification_status',\n",
              " 'purpose',\n",
              " 'State',\n",
              " 'initial_list_status',\n",
              " 'application_type',\n",
              " 'verification_status_joint',\n",
              " 'last_week_pay']"
            ]
          },
          "metadata": {
            "tags": []
          },
          "execution_count": 44
        }
      ]
    },
    {
      "cell_type": "markdown",
      "metadata": {
        "id": "-kVKq3eMIz_m",
        "colab_type": "text"
      },
      "source": [
        "**Deleting Categorical Variables, which is not useful for our predictions**"
      ]
    },
    {
      "cell_type": "code",
      "metadata": {
        "id": "5dTTsb7Aq6CT",
        "colab_type": "code",
        "colab": {
          "base_uri": "https://localhost:8080/",
          "height": 156
        },
        "outputId": "2601a230-bfc8-4ae4-d196-394af5299427"
      },
      "source": [
        "df1 = df.drop(columns=catgor,axis=1)\n",
        "df1.columns"
      ],
      "execution_count": null,
      "outputs": [
        {
          "output_type": "execute_result",
          "data": {
            "text/plain": [
              "Index(['member_id ', 'loan_amnt ', 'Rate_of_intrst', 'annual_inc',\n",
              "       'debt_income_ratio', 'delinq_2yrs', 'inq_last_6mths',\n",
              "       'mths_since_last_delinq', 'mths_since_last_record', 'numb_credit',\n",
              "       'pub_rec', 'total revol_bal', 'total_credits', 'total_rec_int',\n",
              "       'total_rec_late_fee', 'recoveries', 'collection_recovery_fee',\n",
              "       'collections_12_mths_ex_med', 'mths_since_last_major_derog',\n",
              "       'acc_now_delinq', 'tot_colle_amt', 'tot_curr_bal'],\n",
              "      dtype='object')"
            ]
          },
          "metadata": {
            "tags": []
          },
          "execution_count": 45
        }
      ]
    },
    {
      "cell_type": "markdown",
      "metadata": {
        "id": "D6hfMnzIJH74",
        "colab_type": "text"
      },
      "source": [
        "**Deleting Some more columns in our Dataset**"
      ]
    },
    {
      "cell_type": "code",
      "metadata": {
        "id": "I9D6B-TUu6xP",
        "colab_type": "code",
        "colab": {}
      },
      "source": [
        "df1.drop('member_id ',axis=1, inplace=True)\n",
        "df1.drop('mths_since_last_record',axis=1, inplace=True)\n",
        "df1.drop('mths_since_last_major_derog',axis=1, inplace=True)"
      ],
      "execution_count": null,
      "outputs": []
    },
    {
      "cell_type": "markdown",
      "metadata": {
        "id": "04ZJhZaSJOcj",
        "colab_type": "text"
      },
      "source": [
        "**Checking dataset wheather unwanted columns in dataset deleted or not**"
      ]
    },
    {
      "cell_type": "code",
      "metadata": {
        "id": "zkaGeIXRPs4A",
        "colab_type": "code",
        "colab": {
          "base_uri": "https://localhost:8080/",
          "height": 139
        },
        "outputId": "237ec766-e00b-4f9f-d84f-adf91f50d86f"
      },
      "source": [
        "df1.columns"
      ],
      "execution_count": null,
      "outputs": [
        {
          "output_type": "execute_result",
          "data": {
            "text/plain": [
              "Index(['loan_amnt ', 'Rate_of_intrst', 'annual_inc', 'debt_income_ratio',\n",
              "       'delinq_2yrs', 'inq_last_6mths', 'mths_since_last_delinq',\n",
              "       'numb_credit', 'pub_rec', 'total revol_bal', 'total_credits',\n",
              "       'total_rec_int', 'total_rec_late_fee', 'recoveries',\n",
              "       'collection_recovery_fee', 'collections_12_mths_ex_med',\n",
              "       'acc_now_delinq', 'tot_colle_amt', 'tot_curr_bal'],\n",
              "      dtype='object')"
            ]
          },
          "metadata": {
            "tags": []
          },
          "execution_count": 48
        }
      ]
    },
    {
      "cell_type": "markdown",
      "metadata": {
        "id": "9-mYZNN5Jfok",
        "colab_type": "text"
      },
      "source": [
        "**Filling NA values wrt Mean Values**"
      ]
    },
    {
      "cell_type": "code",
      "metadata": {
        "id": "7OWwBhGeurNO",
        "colab_type": "code",
        "colab": {}
      },
      "source": [
        "df1.collections_12_mths_ex_med = df1.collections_12_mths_ex_med.fillna(df1.collections_12_mths_ex_med.mean())\n",
        "df1.delinq_2yrs = df1.delinq_2yrs.fillna(df1.delinq_2yrs.mean())\n",
        "df1.inq_last_6mths = df1.inq_last_6mths.fillna(df1.inq_last_6mths.mean())\n",
        "df1.mths_since_last_delinq = df1.mths_since_last_delinq.fillna(df1.mths_since_last_delinq.mean())\n",
        "df1.numb_credit = df1.numb_credit.fillna(df1.numb_credit.mean())\n",
        "df1.total_credits = df1.total_credits.fillna(df1.total_credits.mean())\n",
        "df1.tot_colle_amt = df1.tot_colle_amt.fillna(df1.tot_colle_amt.mean())\n",
        "df1.tot_curr_bal = df1.tot_curr_bal.fillna(df1.tot_curr_bal.mean())\n",
        "df1.pub_rec  = df1.pub_rec.fillna(df1.pub_rec.mean())\n",
        "df1.acc_now_delinq  = df1.acc_now_delinq.fillna(df1.acc_now_delinq.mean())\n",
        "df1.annual_inc = df1.annual_inc.fillna(df1.annual_inc.mean())"
      ],
      "execution_count": null,
      "outputs": []
    },
    {
      "cell_type": "markdown",
      "metadata": {
        "id": "FfqR83UAJr21",
        "colab_type": "text"
      },
      "source": [
        "**Normalizing the whole Dataset to reduce outliers**"
      ]
    },
    {
      "cell_type": "code",
      "metadata": {
        "id": "cXjU69oNtGGj",
        "colab_type": "code",
        "colab": {}
      },
      "source": [
        "def norm_lize_df (x):\n",
        "  return((x-np.min(x)) / (max(x) - min(x)))\n",
        "\n",
        "  df1 = df1.apply(norm_lize_df)"
      ],
      "execution_count": null,
      "outputs": []
    },
    {
      "cell_type": "code",
      "metadata": {
        "id": "E54WeBABtZnP",
        "colab_type": "code",
        "colab": {
          "base_uri": "https://localhost:8080/",
          "height": 453
        },
        "outputId": "5d32930c-8659-4f62-dbc1-506300f0a2e9"
      },
      "source": [
        "df1"
      ],
      "execution_count": null,
      "outputs": [
        {
          "output_type": "execute_result",
          "data": {
            "text/html": [
              "<div>\n",
              "<style scoped>\n",
              "    .dataframe tbody tr th:only-of-type {\n",
              "        vertical-align: middle;\n",
              "    }\n",
              "\n",
              "    .dataframe tbody tr th {\n",
              "        vertical-align: top;\n",
              "    }\n",
              "\n",
              "    .dataframe thead th {\n",
              "        text-align: right;\n",
              "    }\n",
              "</style>\n",
              "<table border=\"1\" class=\"dataframe\">\n",
              "  <thead>\n",
              "    <tr style=\"text-align: right;\">\n",
              "      <th></th>\n",
              "      <th>loan_amnt</th>\n",
              "      <th>Rate_of_intrst</th>\n",
              "      <th>annual_inc</th>\n",
              "      <th>debt_income_ratio</th>\n",
              "      <th>delinq_2yrs</th>\n",
              "      <th>inq_last_6mths</th>\n",
              "      <th>mths_since_last_delinq</th>\n",
              "      <th>numb_credit</th>\n",
              "      <th>pub_rec</th>\n",
              "      <th>total revol_bal</th>\n",
              "      <th>total_credits</th>\n",
              "      <th>total_rec_int</th>\n",
              "      <th>total_rec_late_fee</th>\n",
              "      <th>recoveries</th>\n",
              "      <th>collection_recovery_fee</th>\n",
              "      <th>collections_12_mths_ex_med</th>\n",
              "      <th>acc_now_delinq</th>\n",
              "      <th>tot_colle_amt</th>\n",
              "      <th>tot_curr_bal</th>\n",
              "    </tr>\n",
              "  </thead>\n",
              "  <tbody>\n",
              "    <tr>\n",
              "      <th>0</th>\n",
              "      <td>14350</td>\n",
              "      <td>19.19</td>\n",
              "      <td>28700.0</td>\n",
              "      <td>33.88</td>\n",
              "      <td>0.0</td>\n",
              "      <td>1.0</td>\n",
              "      <td>50.000000</td>\n",
              "      <td>14.0</td>\n",
              "      <td>1.0</td>\n",
              "      <td>22515.0</td>\n",
              "      <td>28.0</td>\n",
              "      <td>1173.84</td>\n",
              "      <td>0.0</td>\n",
              "      <td>0.0</td>\n",
              "      <td>0.0</td>\n",
              "      <td>0.0</td>\n",
              "      <td>0.0</td>\n",
              "      <td>0.00000</td>\n",
              "      <td>28699.000000</td>\n",
              "    </tr>\n",
              "    <tr>\n",
              "      <th>1</th>\n",
              "      <td>4800</td>\n",
              "      <td>10.99</td>\n",
              "      <td>65000.0</td>\n",
              "      <td>3.64</td>\n",
              "      <td>0.0</td>\n",
              "      <td>1.0</td>\n",
              "      <td>34.063798</td>\n",
              "      <td>6.0</td>\n",
              "      <td>0.0</td>\n",
              "      <td>7624.0</td>\n",
              "      <td>13.0</td>\n",
              "      <td>83.95</td>\n",
              "      <td>0.0</td>\n",
              "      <td>0.0</td>\n",
              "      <td>0.0</td>\n",
              "      <td>0.0</td>\n",
              "      <td>0.0</td>\n",
              "      <td>0.00000</td>\n",
              "      <td>9974.000000</td>\n",
              "    </tr>\n",
              "    <tr>\n",
              "      <th>2</th>\n",
              "      <td>10000</td>\n",
              "      <td>7.26</td>\n",
              "      <td>45000.0</td>\n",
              "      <td>18.42</td>\n",
              "      <td>0.0</td>\n",
              "      <td>0.0</td>\n",
              "      <td>34.063798</td>\n",
              "      <td>5.0</td>\n",
              "      <td>0.0</td>\n",
              "      <td>10877.0</td>\n",
              "      <td>19.0</td>\n",
              "      <td>56.47</td>\n",
              "      <td>0.0</td>\n",
              "      <td>0.0</td>\n",
              "      <td>0.0</td>\n",
              "      <td>0.0</td>\n",
              "      <td>0.0</td>\n",
              "      <td>65.00000</td>\n",
              "      <td>38295.000000</td>\n",
              "    </tr>\n",
              "    <tr>\n",
              "      <th>3</th>\n",
              "      <td>15000</td>\n",
              "      <td>19.72</td>\n",
              "      <td>105000.0</td>\n",
              "      <td>14.97</td>\n",
              "      <td>0.0</td>\n",
              "      <td>2.0</td>\n",
              "      <td>46.000000</td>\n",
              "      <td>10.0</td>\n",
              "      <td>0.0</td>\n",
              "      <td>13712.0</td>\n",
              "      <td>21.0</td>\n",
              "      <td>4858.62</td>\n",
              "      <td>0.0</td>\n",
              "      <td>0.0</td>\n",
              "      <td>0.0</td>\n",
              "      <td>0.0</td>\n",
              "      <td>0.0</td>\n",
              "      <td>0.00000</td>\n",
              "      <td>55564.000000</td>\n",
              "    </tr>\n",
              "    <tr>\n",
              "      <th>4</th>\n",
              "      <td>16000</td>\n",
              "      <td>10.64</td>\n",
              "      <td>52000.0</td>\n",
              "      <td>20.16</td>\n",
              "      <td>0.0</td>\n",
              "      <td>0.0</td>\n",
              "      <td>34.063798</td>\n",
              "      <td>11.0</td>\n",
              "      <td>0.0</td>\n",
              "      <td>35835.0</td>\n",
              "      <td>27.0</td>\n",
              "      <td>2296.41</td>\n",
              "      <td>0.0</td>\n",
              "      <td>0.0</td>\n",
              "      <td>0.0</td>\n",
              "      <td>0.0</td>\n",
              "      <td>0.0</td>\n",
              "      <td>0.00000</td>\n",
              "      <td>47159.000000</td>\n",
              "    </tr>\n",
              "    <tr>\n",
              "      <th>...</th>\n",
              "      <td>...</td>\n",
              "      <td>...</td>\n",
              "      <td>...</td>\n",
              "      <td>...</td>\n",
              "      <td>...</td>\n",
              "      <td>...</td>\n",
              "      <td>...</td>\n",
              "      <td>...</td>\n",
              "      <td>...</td>\n",
              "      <td>...</td>\n",
              "      <td>...</td>\n",
              "      <td>...</td>\n",
              "      <td>...</td>\n",
              "      <td>...</td>\n",
              "      <td>...</td>\n",
              "      <td>...</td>\n",
              "      <td>...</td>\n",
              "      <td>...</td>\n",
              "      <td>...</td>\n",
              "    </tr>\n",
              "    <tr>\n",
              "      <th>887374</th>\n",
              "      <td>15000</td>\n",
              "      <td>6.49</td>\n",
              "      <td>97250.0</td>\n",
              "      <td>12.46</td>\n",
              "      <td>0.0</td>\n",
              "      <td>0.0</td>\n",
              "      <td>77.000000</td>\n",
              "      <td>12.0</td>\n",
              "      <td>0.0</td>\n",
              "      <td>12201.0</td>\n",
              "      <td>24.0</td>\n",
              "      <td>1180.32</td>\n",
              "      <td>0.0</td>\n",
              "      <td>0.0</td>\n",
              "      <td>0.0</td>\n",
              "      <td>0.0</td>\n",
              "      <td>0.0</td>\n",
              "      <td>0.00000</td>\n",
              "      <td>143920.000000</td>\n",
              "    </tr>\n",
              "    <tr>\n",
              "      <th>887375</th>\n",
              "      <td>35000</td>\n",
              "      <td>25.89</td>\n",
              "      <td>180000.0</td>\n",
              "      <td>11.78</td>\n",
              "      <td>2.0</td>\n",
              "      <td>2.0</td>\n",
              "      <td>19.000000</td>\n",
              "      <td>21.0</td>\n",
              "      <td>0.0</td>\n",
              "      <td>52584.0</td>\n",
              "      <td>33.0</td>\n",
              "      <td>6508.41</td>\n",
              "      <td>0.0</td>\n",
              "      <td>0.0</td>\n",
              "      <td>0.0</td>\n",
              "      <td>0.0</td>\n",
              "      <td>0.0</td>\n",
              "      <td>0.00000</td>\n",
              "      <td>772713.000000</td>\n",
              "    </tr>\n",
              "    <tr>\n",
              "      <th>887376</th>\n",
              "      <td>14000</td>\n",
              "      <td>17.51</td>\n",
              "      <td>56000.0</td>\n",
              "      <td>16.44</td>\n",
              "      <td>0.0</td>\n",
              "      <td>3.0</td>\n",
              "      <td>54.000000</td>\n",
              "      <td>11.0</td>\n",
              "      <td>1.0</td>\n",
              "      <td>10948.0</td>\n",
              "      <td>25.0</td>\n",
              "      <td>3456.24</td>\n",
              "      <td>0.0</td>\n",
              "      <td>0.0</td>\n",
              "      <td>0.0</td>\n",
              "      <td>0.0</td>\n",
              "      <td>0.0</td>\n",
              "      <td>225.70261</td>\n",
              "      <td>139458.189336</td>\n",
              "    </tr>\n",
              "    <tr>\n",
              "      <th>887377</th>\n",
              "      <td>20000</td>\n",
              "      <td>7.26</td>\n",
              "      <td>100000.0</td>\n",
              "      <td>15.00</td>\n",
              "      <td>0.0</td>\n",
              "      <td>0.0</td>\n",
              "      <td>34.063798</td>\n",
              "      <td>7.0</td>\n",
              "      <td>0.0</td>\n",
              "      <td>33599.0</td>\n",
              "      <td>11.0</td>\n",
              "      <td>766.84</td>\n",
              "      <td>0.0</td>\n",
              "      <td>0.0</td>\n",
              "      <td>0.0</td>\n",
              "      <td>0.0</td>\n",
              "      <td>0.0</td>\n",
              "      <td>0.00000</td>\n",
              "      <td>291998.000000</td>\n",
              "    </tr>\n",
              "    <tr>\n",
              "      <th>887378</th>\n",
              "      <td>2700</td>\n",
              "      <td>7.49</td>\n",
              "      <td>12000.0</td>\n",
              "      <td>28.00</td>\n",
              "      <td>0.0</td>\n",
              "      <td>0.0</td>\n",
              "      <td>34.063798</td>\n",
              "      <td>7.0</td>\n",
              "      <td>0.0</td>\n",
              "      <td>5118.0</td>\n",
              "      <td>7.0</td>\n",
              "      <td>326.06</td>\n",
              "      <td>0.0</td>\n",
              "      <td>0.0</td>\n",
              "      <td>0.0</td>\n",
              "      <td>0.0</td>\n",
              "      <td>0.0</td>\n",
              "      <td>225.70261</td>\n",
              "      <td>139458.189336</td>\n",
              "    </tr>\n",
              "  </tbody>\n",
              "</table>\n",
              "<p>887379 rows × 19 columns</p>\n",
              "</div>"
            ],
            "text/plain": [
              "        loan_amnt   Rate_of_intrst  ...  tot_colle_amt   tot_curr_bal\n",
              "0            14350           19.19  ...        0.00000   28699.000000\n",
              "1             4800           10.99  ...        0.00000    9974.000000\n",
              "2            10000            7.26  ...       65.00000   38295.000000\n",
              "3            15000           19.72  ...        0.00000   55564.000000\n",
              "4            16000           10.64  ...        0.00000   47159.000000\n",
              "...            ...             ...  ...            ...            ...\n",
              "887374       15000            6.49  ...        0.00000  143920.000000\n",
              "887375       35000           25.89  ...        0.00000  772713.000000\n",
              "887376       14000           17.51  ...      225.70261  139458.189336\n",
              "887377       20000            7.26  ...        0.00000  291998.000000\n",
              "887378        2700            7.49  ...      225.70261  139458.189336\n",
              "\n",
              "[887379 rows x 19 columns]"
            ]
          },
          "metadata": {
            "tags": []
          },
          "execution_count": 51
        }
      ]
    },
    {
      "cell_type": "markdown",
      "metadata": {
        "id": "Pau_0W5xJ7xc",
        "colab_type": "text"
      },
      "source": [
        "**Converting Loan_amount data type to float**"
      ]
    },
    {
      "cell_type": "code",
      "metadata": {
        "id": "hNYdEX84wCA-",
        "colab_type": "code",
        "colab": {}
      },
      "source": [
        "df1['loan_amnt '] = df1['loan_amnt '].astype(float)"
      ],
      "execution_count": null,
      "outputs": []
    },
    {
      "cell_type": "markdown",
      "metadata": {
        "id": "7Wd8WiV8KFDj",
        "colab_type": "text"
      },
      "source": [
        "**Checking wheather Loan_amount data type is affected or not**"
      ]
    },
    {
      "cell_type": "code",
      "metadata": {
        "id": "a8LM0-VVtcqN",
        "colab_type": "code",
        "colab": {
          "base_uri": "https://localhost:8080/",
          "height": 364
        },
        "outputId": "98b1c5a6-539b-440c-f768-310c12866a43"
      },
      "source": [
        "df1.dtypes"
      ],
      "execution_count": null,
      "outputs": [
        {
          "output_type": "execute_result",
          "data": {
            "text/plain": [
              "loan_amnt                     float64\n",
              "Rate_of_intrst                float64\n",
              "annual_inc                    float64\n",
              "debt_income_ratio             float64\n",
              "delinq_2yrs                   float64\n",
              "inq_last_6mths                float64\n",
              "mths_since_last_delinq        float64\n",
              "numb_credit                   float64\n",
              "pub_rec                       float64\n",
              "total revol_bal               float64\n",
              "total_credits                 float64\n",
              "total_rec_int                 float64\n",
              "total_rec_late_fee            float64\n",
              "recoveries                    float64\n",
              "collection_recovery_fee       float64\n",
              "collections_12_mths_ex_med    float64\n",
              "acc_now_delinq                float64\n",
              "tot_colle_amt                 float64\n",
              "tot_curr_bal                  float64\n",
              "dtype: object"
            ]
          },
          "metadata": {
            "tags": []
          },
          "execution_count": 53
        }
      ]
    },
    {
      "cell_type": "code",
      "metadata": {
        "id": "37VgK44kxxZC",
        "colab_type": "code",
        "colab": {
          "base_uri": "https://localhost:8080/",
          "height": 139
        },
        "outputId": "50086da4-a82a-418b-b8b8-8c3e5cffed9d"
      },
      "source": [
        "df1.columns"
      ],
      "execution_count": null,
      "outputs": [
        {
          "output_type": "execute_result",
          "data": {
            "text/plain": [
              "Index(['loan_amnt ', 'Rate_of_intrst', 'annual_inc', 'debt_income_ratio',\n",
              "       'delinq_2yrs', 'inq_last_6mths', 'mths_since_last_delinq',\n",
              "       'numb_credit', 'pub_rec', 'total revol_bal', 'total_credits',\n",
              "       'total_rec_int', 'total_rec_late_fee', 'recoveries',\n",
              "       'collection_recovery_fee', 'collections_12_mths_ex_med',\n",
              "       'acc_now_delinq', 'tot_colle_amt', 'tot_curr_bal'],\n",
              "      dtype='object')"
            ]
          },
          "metadata": {
            "tags": []
          },
          "execution_count": 54
        }
      ]
    },
    {
      "cell_type": "code",
      "metadata": {
        "id": "VewOwoPoPws0",
        "colab_type": "code",
        "colab": {
          "base_uri": "https://localhost:8080/",
          "height": 35
        },
        "outputId": "ecfeea2e-382e-4cbd-eee1-aecab7bed3e4"
      },
      "source": [
        "X_train_df, X_test_df, Y_Train_df, Y_test_df = train_test_split(df1[['loan_amnt ', 'Rate_of_intrst', 'annual_inc', 'debt_income_ratio',\n",
        "                                                                      'delinq_2yrs', 'inq_last_6mths', 'mths_since_last_delinq', 'numb_credit',\n",
        "                                                                      'pub_rec', 'total_credits', 'total_rec_int', 'total_rec_late_fee','recoveries',\n",
        "                                                                      'collection_recovery_fee', 'collections_12_mths_ex_med', 'acc_now_delinq',\n",
        "                                                                      'tot_colle_amt', 'tot_curr_bal']],\n",
        "                                                                df1[['total revol_bal']], test_size=0.2, random_state=0)\n",
        "X_train_df.shape, X_test_df.shape"
      ],
      "execution_count": null,
      "outputs": [
        {
          "output_type": "execute_result",
          "data": {
            "text/plain": [
              "((709903, 18), (177476, 18))"
            ]
          },
          "metadata": {
            "tags": []
          },
          "execution_count": 55
        }
      ]
    },
    {
      "cell_type": "markdown",
      "metadata": {
        "id": "lDyV7dMF5ftC",
        "colab_type": "text"
      },
      "source": [
        "**Now we are predicting the model:\n",
        "R-Squared : 0.257 | \n",
        "Adj. R-Squared : 0.257**"
      ]
    },
    {
      "cell_type": "code",
      "metadata": {
        "id": "gwEATvRNyVS0",
        "colab_type": "code",
        "colab": {
          "base_uri": "https://localhost:8080/",
          "height": 780
        },
        "outputId": "0ba29894-dc36-4a14-ce3e-ddf41737415d"
      },
      "source": [
        "X_train_df = smf.add_constant(X_train_df)\n",
        "lm_reg_df = smf.OLS(Y_Train_df,X_train_df).fit()\n",
        "print(lm_reg_df.summary())"
      ],
      "execution_count": null,
      "outputs": [
        {
          "output_type": "stream",
          "text": [
            "                            OLS Regression Results                            \n",
            "==============================================================================\n",
            "Dep. Variable:        total revol_bal   R-squared:                       0.257\n",
            "Model:                            OLS   Adj. R-squared:                  0.257\n",
            "Method:                 Least Squares   F-statistic:                 1.363e+04\n",
            "Date:                Mon, 10 Aug 2020   Prob (F-statistic):               0.00\n",
            "Time:                        04:11:43   Log-Likelihood:            -8.0206e+06\n",
            "No. Observations:              709903   AIC:                         1.604e+07\n",
            "Df Residuals:                  709884   BIC:                         1.604e+07\n",
            "Df Model:                          18                                         \n",
            "Covariance Type:            nonrobust                                         \n",
            "==============================================================================================\n",
            "                                 coef    std err          t      P>|t|      [0.025      0.975]\n",
            "----------------------------------------------------------------------------------------------\n",
            "const                      -1619.0641    121.175    -13.361      0.000   -1856.564   -1381.565\n",
            "loan_amnt                      0.4963      0.004    139.179      0.000       0.489       0.503\n",
            "Rate_of_intrst               -72.3942      6.266    -11.553      0.000     -84.676     -60.112\n",
            "annual_inc                     0.0348      0.000     89.003      0.000       0.034       0.036\n",
            "debt_income_ratio             66.5729      1.259     52.896      0.000      64.106      69.040\n",
            "delinq_2yrs                -1669.2094     31.949    -52.246      0.000   -1731.828   -1606.590\n",
            "inq_last_6mths              -518.2227     24.356    -21.277      0.000    -565.959    -470.487\n",
            "mths_since_last_delinq       -21.8800      1.787    -12.241      0.000     -25.383     -18.377\n",
            "numb_credit                  554.0686      6.129     90.407      0.000     542.057     566.080\n",
            "pub_rec                    -2047.8389     40.767    -50.233      0.000   -2127.741   -1967.937\n",
            "total_credits                -95.9138      2.832    -33.863      0.000    -101.465     -90.362\n",
            "total_rec_int                 -0.1413      0.015     -9.620      0.000      -0.170      -0.112\n",
            "total_rec_late_fee           -22.8725      5.700     -4.013      0.000     -34.044     -11.701\n",
            "recoveries                    -0.0799      0.097     -0.827      0.408      -0.269       0.109\n",
            "collection_recovery_fee       -0.0599      0.616     -0.097      0.923      -1.267       1.147\n",
            "collections_12_mths_ex_med -1843.9245    175.963    -10.479      0.000   -2188.807   -1499.042\n",
            "acc_now_delinq             -1929.7129    310.277     -6.219      0.000   -2537.846   -1321.580\n",
            "tot_colle_amt                 -0.2471      0.013    -19.235      0.000      -0.272      -0.222\n",
            "tot_curr_bal                   0.0484      0.000    267.314      0.000       0.048       0.049\n",
            "==============================================================================\n",
            "Omnibus:                  1535265.502   Durbin-Watson:                   2.001\n",
            "Prob(Omnibus):                  0.000   Jarque-Bera (JB):      59459946718.490\n",
            "Skew:                          18.580   Prob(JB):                         0.00\n",
            "Kurtosis:                    1420.324   Cond. No.                     2.90e+06\n",
            "==============================================================================\n",
            "\n",
            "Warnings:\n",
            "[1] Standard Errors assume that the covariance matrix of the errors is correctly specified.\n",
            "[2] The condition number is large, 2.9e+06. This might indicate that there are\n",
            "strong multicollinearity or other numerical problems.\n"
          ],
          "name": "stdout"
        }
      ]
    },
    {
      "cell_type": "markdown",
      "metadata": {
        "id": "9o2u6Qgh6SCR",
        "colab_type": "text"
      },
      "source": [
        "**Again We are performing Linear Regression only with Necessary Columns**\n"
      ]
    },
    {
      "cell_type": "code",
      "metadata": {
        "id": "s4hRDEmZzRs6",
        "colab_type": "code",
        "colab": {
          "base_uri": "https://localhost:8080/",
          "height": 72
        },
        "outputId": "098e2367-ab9d-422a-ac44-f7cd4ca5a6bd"
      },
      "source": [
        "df3 = pd.read_csv('/content/gdrive/My Drive/Co_data.csv',encoding='latin1')"
      ],
      "execution_count": null,
      "outputs": [
        {
          "output_type": "stream",
          "text": [
            "/usr/local/lib/python3.6/dist-packages/IPython/core/interactiveshell.py:2718: DtypeWarning: Columns (31) have mixed types.Specify dtype option on import or set low_memory=False.\n",
            "  interactivity=interactivity, compiler=compiler, result=result)\n"
          ],
          "name": "stderr"
        }
      ]
    },
    {
      "cell_type": "code",
      "metadata": {
        "id": "6sq3d7UI0VYT",
        "colab_type": "code",
        "colab": {
          "base_uri": "https://localhost:8080/",
          "height": 225
        },
        "outputId": "1ae1de9d-cd37-4a8f-b490-f29e59ac1282"
      },
      "source": [
        "df3.columns"
      ],
      "execution_count": null,
      "outputs": [
        {
          "output_type": "execute_result",
          "data": {
            "text/plain": [
              "Index(['member_id ', 'loan_amnt ', 'terms', 'batch_ID ', 'Rate_of_intrst',\n",
              "       'grade', 'sub_grade', 'Emp_designation', 'Experience', 'home_ownership',\n",
              "       'annual_inc', 'verification_status', 'purpose', 'State',\n",
              "       'debt_income_ratio', 'delinq_2yrs', 'inq_last_6mths',\n",
              "       'mths_since_last_delinq', 'mths_since_last_record', 'numb_credit',\n",
              "       'pub_rec', 'total revol_bal', 'total_credits', 'initial_list_status',\n",
              "       'total_rec_int', 'total_rec_late_fee', 'recoveries',\n",
              "       'collection_recovery_fee', 'collections_12_mths_ex_med',\n",
              "       'mths_since_last_major_derog', 'application_type',\n",
              "       'verification_status_joint', 'last_week_pay', 'acc_now_delinq',\n",
              "       'tot_colle_amt', 'tot_curr_bal'],\n",
              "      dtype='object')"
            ]
          },
          "metadata": {
            "tags": []
          },
          "execution_count": 58
        }
      ]
    },
    {
      "cell_type": "code",
      "metadata": {
        "id": "cDGzH9Nhz5XW",
        "colab_type": "code",
        "colab": {}
      },
      "source": [
        "df3_sec = df3.drop(columns=['member_id ','batch_ID ','mths_since_last_delinq','mths_since_last_record','mths_since_last_major_derog','verification_status_joint'],axis=1)"
      ],
      "execution_count": null,
      "outputs": []
    },
    {
      "cell_type": "code",
      "metadata": {
        "id": "bQFeHRNw2F5A",
        "colab_type": "code",
        "colab": {
          "base_uri": "https://localhost:8080/",
          "height": 191
        },
        "outputId": "d2a20e0d-9661-4aa0-992a-f3f1c002d6d1"
      },
      "source": [
        "df3_sec.columns"
      ],
      "execution_count": null,
      "outputs": [
        {
          "output_type": "execute_result",
          "data": {
            "text/plain": [
              "Index(['loan_amnt ', 'terms', 'Rate_of_intrst', 'grade', 'sub_grade',\n",
              "       'Emp_designation', 'Experience', 'home_ownership', 'annual_inc',\n",
              "       'verification_status', 'purpose', 'State', 'debt_income_ratio',\n",
              "       'delinq_2yrs', 'inq_last_6mths', 'numb_credit', 'pub_rec',\n",
              "       'total revol_bal', 'total_credits', 'initial_list_status',\n",
              "       'total_rec_int', 'total_rec_late_fee', 'recoveries',\n",
              "       'collection_recovery_fee', 'collections_12_mths_ex_med',\n",
              "       'application_type', 'last_week_pay', 'acc_now_delinq', 'tot_colle_amt',\n",
              "       'tot_curr_bal'],\n",
              "      dtype='object')"
            ]
          },
          "metadata": {
            "tags": []
          },
          "execution_count": 60
        }
      ]
    },
    {
      "cell_type": "code",
      "metadata": {
        "id": "kq7X7EPp3EVt",
        "colab_type": "code",
        "colab": {
          "base_uri": "https://localhost:8080/",
          "height": 225
        },
        "outputId": "58bb6acd-77b9-417f-ae4e-1a57ccc08b4d"
      },
      "source": [
        "catgor1 = [colmn for colmn in df3_sec.columns if df3_sec[colmn].dtypes == 'O']\n",
        "catgor1"
      ],
      "execution_count": null,
      "outputs": [
        {
          "output_type": "execute_result",
          "data": {
            "text/plain": [
              "['terms',\n",
              " 'grade',\n",
              " 'sub_grade',\n",
              " 'Emp_designation',\n",
              " 'Experience',\n",
              " 'home_ownership',\n",
              " 'verification_status',\n",
              " 'purpose',\n",
              " 'State',\n",
              " 'initial_list_status',\n",
              " 'application_type',\n",
              " 'last_week_pay']"
            ]
          },
          "metadata": {
            "tags": []
          },
          "execution_count": 61
        }
      ]
    },
    {
      "cell_type": "code",
      "metadata": {
        "id": "_cmN0Mys08EB",
        "colab_type": "code",
        "colab": {}
      },
      "source": [
        "df3_sec = df3_sec.drop(columns=catgor1,axis=1)"
      ],
      "execution_count": null,
      "outputs": []
    },
    {
      "cell_type": "code",
      "metadata": {
        "id": "cg5yvNRx3mtw",
        "colab_type": "code",
        "colab": {
          "base_uri": "https://localhost:8080/",
          "height": 139
        },
        "outputId": "39f3c34d-30d6-491b-a2ff-47e6a96fbf9d"
      },
      "source": [
        "df3_sec.columns"
      ],
      "execution_count": null,
      "outputs": [
        {
          "output_type": "execute_result",
          "data": {
            "text/plain": [
              "Index(['loan_amnt ', 'Rate_of_intrst', 'annual_inc', 'debt_income_ratio',\n",
              "       'delinq_2yrs', 'inq_last_6mths', 'numb_credit', 'pub_rec',\n",
              "       'total revol_bal', 'total_credits', 'total_rec_int',\n",
              "       'total_rec_late_fee', 'recoveries', 'collection_recovery_fee',\n",
              "       'collections_12_mths_ex_med', 'acc_now_delinq', 'tot_colle_amt',\n",
              "       'tot_curr_bal'],\n",
              "      dtype='object')"
            ]
          },
          "metadata": {
            "tags": []
          },
          "execution_count": 63
        }
      ]
    },
    {
      "cell_type": "code",
      "metadata": {
        "id": "ny0gYHHN3r52",
        "colab_type": "code",
        "colab": {
          "base_uri": "https://localhost:8080/",
          "height": 453
        },
        "outputId": "6859aaa5-c997-438c-e05e-3018c998ca5e"
      },
      "source": [
        "df3_sec.dropna(how='any',axis=0)"
      ],
      "execution_count": null,
      "outputs": [
        {
          "output_type": "execute_result",
          "data": {
            "text/html": [
              "<div>\n",
              "<style scoped>\n",
              "    .dataframe tbody tr th:only-of-type {\n",
              "        vertical-align: middle;\n",
              "    }\n",
              "\n",
              "    .dataframe tbody tr th {\n",
              "        vertical-align: top;\n",
              "    }\n",
              "\n",
              "    .dataframe thead th {\n",
              "        text-align: right;\n",
              "    }\n",
              "</style>\n",
              "<table border=\"1\" class=\"dataframe\">\n",
              "  <thead>\n",
              "    <tr style=\"text-align: right;\">\n",
              "      <th></th>\n",
              "      <th>loan_amnt</th>\n",
              "      <th>Rate_of_intrst</th>\n",
              "      <th>annual_inc</th>\n",
              "      <th>debt_income_ratio</th>\n",
              "      <th>delinq_2yrs</th>\n",
              "      <th>inq_last_6mths</th>\n",
              "      <th>numb_credit</th>\n",
              "      <th>pub_rec</th>\n",
              "      <th>total revol_bal</th>\n",
              "      <th>total_credits</th>\n",
              "      <th>total_rec_int</th>\n",
              "      <th>total_rec_late_fee</th>\n",
              "      <th>recoveries</th>\n",
              "      <th>collection_recovery_fee</th>\n",
              "      <th>collections_12_mths_ex_med</th>\n",
              "      <th>acc_now_delinq</th>\n",
              "      <th>tot_colle_amt</th>\n",
              "      <th>tot_curr_bal</th>\n",
              "    </tr>\n",
              "  </thead>\n",
              "  <tbody>\n",
              "    <tr>\n",
              "      <th>0</th>\n",
              "      <td>14350</td>\n",
              "      <td>19.19</td>\n",
              "      <td>28700.0</td>\n",
              "      <td>33.88</td>\n",
              "      <td>0.0</td>\n",
              "      <td>1.0</td>\n",
              "      <td>14.0</td>\n",
              "      <td>1.0</td>\n",
              "      <td>22515.0</td>\n",
              "      <td>28.0</td>\n",
              "      <td>1173.84</td>\n",
              "      <td>0.0</td>\n",
              "      <td>0.0</td>\n",
              "      <td>0.0</td>\n",
              "      <td>0.0</td>\n",
              "      <td>0.0</td>\n",
              "      <td>0.0</td>\n",
              "      <td>28699.0</td>\n",
              "    </tr>\n",
              "    <tr>\n",
              "      <th>1</th>\n",
              "      <td>4800</td>\n",
              "      <td>10.99</td>\n",
              "      <td>65000.0</td>\n",
              "      <td>3.64</td>\n",
              "      <td>0.0</td>\n",
              "      <td>1.0</td>\n",
              "      <td>6.0</td>\n",
              "      <td>0.0</td>\n",
              "      <td>7624.0</td>\n",
              "      <td>13.0</td>\n",
              "      <td>83.95</td>\n",
              "      <td>0.0</td>\n",
              "      <td>0.0</td>\n",
              "      <td>0.0</td>\n",
              "      <td>0.0</td>\n",
              "      <td>0.0</td>\n",
              "      <td>0.0</td>\n",
              "      <td>9974.0</td>\n",
              "    </tr>\n",
              "    <tr>\n",
              "      <th>2</th>\n",
              "      <td>10000</td>\n",
              "      <td>7.26</td>\n",
              "      <td>45000.0</td>\n",
              "      <td>18.42</td>\n",
              "      <td>0.0</td>\n",
              "      <td>0.0</td>\n",
              "      <td>5.0</td>\n",
              "      <td>0.0</td>\n",
              "      <td>10877.0</td>\n",
              "      <td>19.0</td>\n",
              "      <td>56.47</td>\n",
              "      <td>0.0</td>\n",
              "      <td>0.0</td>\n",
              "      <td>0.0</td>\n",
              "      <td>0.0</td>\n",
              "      <td>0.0</td>\n",
              "      <td>65.0</td>\n",
              "      <td>38295.0</td>\n",
              "    </tr>\n",
              "    <tr>\n",
              "      <th>3</th>\n",
              "      <td>15000</td>\n",
              "      <td>19.72</td>\n",
              "      <td>105000.0</td>\n",
              "      <td>14.97</td>\n",
              "      <td>0.0</td>\n",
              "      <td>2.0</td>\n",
              "      <td>10.0</td>\n",
              "      <td>0.0</td>\n",
              "      <td>13712.0</td>\n",
              "      <td>21.0</td>\n",
              "      <td>4858.62</td>\n",
              "      <td>0.0</td>\n",
              "      <td>0.0</td>\n",
              "      <td>0.0</td>\n",
              "      <td>0.0</td>\n",
              "      <td>0.0</td>\n",
              "      <td>0.0</td>\n",
              "      <td>55564.0</td>\n",
              "    </tr>\n",
              "    <tr>\n",
              "      <th>4</th>\n",
              "      <td>16000</td>\n",
              "      <td>10.64</td>\n",
              "      <td>52000.0</td>\n",
              "      <td>20.16</td>\n",
              "      <td>0.0</td>\n",
              "      <td>0.0</td>\n",
              "      <td>11.0</td>\n",
              "      <td>0.0</td>\n",
              "      <td>35835.0</td>\n",
              "      <td>27.0</td>\n",
              "      <td>2296.41</td>\n",
              "      <td>0.0</td>\n",
              "      <td>0.0</td>\n",
              "      <td>0.0</td>\n",
              "      <td>0.0</td>\n",
              "      <td>0.0</td>\n",
              "      <td>0.0</td>\n",
              "      <td>47159.0</td>\n",
              "    </tr>\n",
              "    <tr>\n",
              "      <th>...</th>\n",
              "      <td>...</td>\n",
              "      <td>...</td>\n",
              "      <td>...</td>\n",
              "      <td>...</td>\n",
              "      <td>...</td>\n",
              "      <td>...</td>\n",
              "      <td>...</td>\n",
              "      <td>...</td>\n",
              "      <td>...</td>\n",
              "      <td>...</td>\n",
              "      <td>...</td>\n",
              "      <td>...</td>\n",
              "      <td>...</td>\n",
              "      <td>...</td>\n",
              "      <td>...</td>\n",
              "      <td>...</td>\n",
              "      <td>...</td>\n",
              "      <td>...</td>\n",
              "    </tr>\n",
              "    <tr>\n",
              "      <th>887372</th>\n",
              "      <td>10800</td>\n",
              "      <td>20.99</td>\n",
              "      <td>41000.0</td>\n",
              "      <td>32.70</td>\n",
              "      <td>0.0</td>\n",
              "      <td>3.0</td>\n",
              "      <td>17.0</td>\n",
              "      <td>1.0</td>\n",
              "      <td>3569.0</td>\n",
              "      <td>49.0</td>\n",
              "      <td>163.72</td>\n",
              "      <td>0.0</td>\n",
              "      <td>0.0</td>\n",
              "      <td>0.0</td>\n",
              "      <td>0.0</td>\n",
              "      <td>0.0</td>\n",
              "      <td>0.0</td>\n",
              "      <td>56129.0</td>\n",
              "    </tr>\n",
              "    <tr>\n",
              "      <th>887373</th>\n",
              "      <td>14300</td>\n",
              "      <td>15.41</td>\n",
              "      <td>52000.0</td>\n",
              "      <td>19.30</td>\n",
              "      <td>1.0</td>\n",
              "      <td>0.0</td>\n",
              "      <td>15.0</td>\n",
              "      <td>0.0</td>\n",
              "      <td>9687.0</td>\n",
              "      <td>33.0</td>\n",
              "      <td>159.16</td>\n",
              "      <td>0.0</td>\n",
              "      <td>0.0</td>\n",
              "      <td>0.0</td>\n",
              "      <td>0.0</td>\n",
              "      <td>0.0</td>\n",
              "      <td>0.0</td>\n",
              "      <td>88713.0</td>\n",
              "    </tr>\n",
              "    <tr>\n",
              "      <th>887374</th>\n",
              "      <td>15000</td>\n",
              "      <td>6.49</td>\n",
              "      <td>97250.0</td>\n",
              "      <td>12.46</td>\n",
              "      <td>0.0</td>\n",
              "      <td>0.0</td>\n",
              "      <td>12.0</td>\n",
              "      <td>0.0</td>\n",
              "      <td>12201.0</td>\n",
              "      <td>24.0</td>\n",
              "      <td>1180.32</td>\n",
              "      <td>0.0</td>\n",
              "      <td>0.0</td>\n",
              "      <td>0.0</td>\n",
              "      <td>0.0</td>\n",
              "      <td>0.0</td>\n",
              "      <td>0.0</td>\n",
              "      <td>143920.0</td>\n",
              "    </tr>\n",
              "    <tr>\n",
              "      <th>887375</th>\n",
              "      <td>35000</td>\n",
              "      <td>25.89</td>\n",
              "      <td>180000.0</td>\n",
              "      <td>11.78</td>\n",
              "      <td>2.0</td>\n",
              "      <td>2.0</td>\n",
              "      <td>21.0</td>\n",
              "      <td>0.0</td>\n",
              "      <td>52584.0</td>\n",
              "      <td>33.0</td>\n",
              "      <td>6508.41</td>\n",
              "      <td>0.0</td>\n",
              "      <td>0.0</td>\n",
              "      <td>0.0</td>\n",
              "      <td>0.0</td>\n",
              "      <td>0.0</td>\n",
              "      <td>0.0</td>\n",
              "      <td>772713.0</td>\n",
              "    </tr>\n",
              "    <tr>\n",
              "      <th>887377</th>\n",
              "      <td>20000</td>\n",
              "      <td>7.26</td>\n",
              "      <td>100000.0</td>\n",
              "      <td>15.00</td>\n",
              "      <td>0.0</td>\n",
              "      <td>0.0</td>\n",
              "      <td>7.0</td>\n",
              "      <td>0.0</td>\n",
              "      <td>33599.0</td>\n",
              "      <td>11.0</td>\n",
              "      <td>766.84</td>\n",
              "      <td>0.0</td>\n",
              "      <td>0.0</td>\n",
              "      <td>0.0</td>\n",
              "      <td>0.0</td>\n",
              "      <td>0.0</td>\n",
              "      <td>0.0</td>\n",
              "      <td>291998.0</td>\n",
              "    </tr>\n",
              "  </tbody>\n",
              "</table>\n",
              "<p>817103 rows × 18 columns</p>\n",
              "</div>"
            ],
            "text/plain": [
              "        loan_amnt   Rate_of_intrst  ...  tot_colle_amt  tot_curr_bal\n",
              "0            14350           19.19  ...            0.0       28699.0\n",
              "1             4800           10.99  ...            0.0        9974.0\n",
              "2            10000            7.26  ...           65.0       38295.0\n",
              "3            15000           19.72  ...            0.0       55564.0\n",
              "4            16000           10.64  ...            0.0       47159.0\n",
              "...            ...             ...  ...            ...           ...\n",
              "887372       10800           20.99  ...            0.0       56129.0\n",
              "887373       14300           15.41  ...            0.0       88713.0\n",
              "887374       15000            6.49  ...            0.0      143920.0\n",
              "887375       35000           25.89  ...            0.0      772713.0\n",
              "887377       20000            7.26  ...            0.0      291998.0\n",
              "\n",
              "[817103 rows x 18 columns]"
            ]
          },
          "metadata": {
            "tags": []
          },
          "execution_count": 64
        }
      ]
    },
    {
      "cell_type": "code",
      "metadata": {
        "id": "EwVWFx0d4GED",
        "colab_type": "code",
        "colab": {
          "base_uri": "https://localhost:8080/",
          "height": 139
        },
        "outputId": "c3113799-0023-4fb4-850f-6f7f7bb9110f"
      },
      "source": [
        "df3_sec.columns"
      ],
      "execution_count": null,
      "outputs": [
        {
          "output_type": "execute_result",
          "data": {
            "text/plain": [
              "Index(['loan_amnt ', 'Rate_of_intrst', 'annual_inc', 'debt_income_ratio',\n",
              "       'delinq_2yrs', 'inq_last_6mths', 'numb_credit', 'pub_rec',\n",
              "       'total revol_bal', 'total_credits', 'total_rec_int',\n",
              "       'total_rec_late_fee', 'recoveries', 'collection_recovery_fee',\n",
              "       'collections_12_mths_ex_med', 'acc_now_delinq', 'tot_colle_amt',\n",
              "       'tot_curr_bal'],\n",
              "      dtype='object')"
            ]
          },
          "metadata": {
            "tags": []
          },
          "execution_count": 65
        }
      ]
    },
    {
      "cell_type": "code",
      "metadata": {
        "id": "vR7wZNJg6XFi",
        "colab_type": "code",
        "colab": {
          "base_uri": "https://localhost:8080/",
          "height": 347
        },
        "outputId": "ff1911f9-2fc9-40f4-a226-bc8df198259a"
      },
      "source": [
        "df3_sec.isnull().any()"
      ],
      "execution_count": null,
      "outputs": [
        {
          "output_type": "execute_result",
          "data": {
            "text/plain": [
              "loan_amnt                     False\n",
              "Rate_of_intrst                False\n",
              "annual_inc                     True\n",
              "debt_income_ratio             False\n",
              "delinq_2yrs                    True\n",
              "inq_last_6mths                 True\n",
              "numb_credit                    True\n",
              "pub_rec                        True\n",
              "total revol_bal               False\n",
              "total_credits                  True\n",
              "total_rec_int                 False\n",
              "total_rec_late_fee            False\n",
              "recoveries                    False\n",
              "collection_recovery_fee       False\n",
              "collections_12_mths_ex_med     True\n",
              "acc_now_delinq                 True\n",
              "tot_colle_amt                  True\n",
              "tot_curr_bal                   True\n",
              "dtype: bool"
            ]
          },
          "metadata": {
            "tags": []
          },
          "execution_count": 66
        }
      ]
    },
    {
      "cell_type": "code",
      "metadata": {
        "id": "NQd1ctKe6nrd",
        "colab_type": "code",
        "colab": {}
      },
      "source": [
        "df3_sec.collections_12_mths_ex_med = df3_sec.collections_12_mths_ex_med.fillna(df3_sec.collections_12_mths_ex_med.mean())\n",
        "df3_sec.delinq_2yrs = df3_sec.delinq_2yrs.fillna(df3_sec.delinq_2yrs.mean())\n",
        "df3_sec.inq_last_6mths = df3_sec.inq_last_6mths.fillna(df3_sec.inq_last_6mths.mean())\n",
        "df3_sec.numb_credit = df3_sec.numb_credit.fillna(df3_sec.numb_credit.mean())\n",
        "df3_sec.total_credits = df3_sec.total_credits.fillna(df3_sec.total_credits.mean())\n",
        "df3_sec.tot_colle_amt = df3_sec.tot_colle_amt.fillna(df3_sec.tot_colle_amt.mean())\n",
        "df3_sec.tot_curr_bal = df3_sec.tot_curr_bal.fillna(df3_sec.tot_curr_bal.mean())\n",
        "df3_sec.pub_rec  = df3_sec.pub_rec.fillna(df3_sec.pub_rec.mean())\n",
        "df3_sec.acc_now_delinq  = df3_sec.acc_now_delinq.fillna(df3_sec.acc_now_delinq.mean())\n",
        "df3_sec.annual_inc = df3_sec.annual_inc.fillna(df3_sec.annual_inc.mean())"
      ],
      "execution_count": null,
      "outputs": []
    },
    {
      "cell_type": "code",
      "metadata": {
        "id": "lTxHxjZK8lta",
        "colab_type": "code",
        "colab": {
          "base_uri": "https://localhost:8080/",
          "height": 347
        },
        "outputId": "7bb85279-0b5e-4555-a98e-8ebcd5c34b3d"
      },
      "source": [
        "df3_sec.isnull().any()"
      ],
      "execution_count": null,
      "outputs": [
        {
          "output_type": "execute_result",
          "data": {
            "text/plain": [
              "loan_amnt                     False\n",
              "Rate_of_intrst                False\n",
              "annual_inc                    False\n",
              "debt_income_ratio             False\n",
              "delinq_2yrs                   False\n",
              "inq_last_6mths                False\n",
              "numb_credit                   False\n",
              "pub_rec                       False\n",
              "total revol_bal               False\n",
              "total_credits                 False\n",
              "total_rec_int                 False\n",
              "total_rec_late_fee            False\n",
              "recoveries                    False\n",
              "collection_recovery_fee       False\n",
              "collections_12_mths_ex_med    False\n",
              "acc_now_delinq                False\n",
              "tot_colle_amt                 False\n",
              "tot_curr_bal                  False\n",
              "dtype: bool"
            ]
          },
          "metadata": {
            "tags": []
          },
          "execution_count": 68
        }
      ]
    },
    {
      "cell_type": "code",
      "metadata": {
        "id": "DaJMjk2z38GL",
        "colab_type": "code",
        "colab": {}
      },
      "source": [
        "X_sec = df3_sec[['loan_amnt ', 'Rate_of_intrst', 'annual_inc', 'debt_income_ratio', 'delinq_2yrs', 'inq_last_6mths', 'numb_credit', \n",
        "       'pub_rec', 'total_credits', 'total_rec_int', 'total_rec_late_fee', 'recoveries', 'collection_recovery_fee', 'collections_12_mths_ex_med', \n",
        "       'acc_now_delinq', 'tot_colle_amt','tot_curr_bal']]\n",
        "Y_sec = df3_sec[['total revol_bal']]"
      ],
      "execution_count": null,
      "outputs": []
    },
    {
      "cell_type": "markdown",
      "metadata": {
        "id": "IBSrazXSKaQl",
        "colab_type": "text"
      },
      "source": [
        "**Performing Standard Scaler Operation to Dataset**"
      ]
    },
    {
      "cell_type": "code",
      "metadata": {
        "id": "5scWKVZk4nsu",
        "colab_type": "code",
        "colab": {}
      },
      "source": [
        "from sklearn.preprocessing import StandardScaler\n",
        "X_std = StandardScaler()\n",
        "Y_std = StandardScaler()\n",
        "X_sec = X_std.fit_transform(X_sec)\n",
        "Y_sec = Y_std.fit_transform(Y_sec)"
      ],
      "execution_count": null,
      "outputs": []
    },
    {
      "cell_type": "markdown",
      "metadata": {
        "id": "kmR8KWxIKoCa",
        "colab_type": "text"
      },
      "source": [
        "**Splitting Dataset to Train and Test**"
      ]
    },
    {
      "cell_type": "code",
      "metadata": {
        "id": "7i1RO8-25N0A",
        "colab_type": "code",
        "colab": {
          "base_uri": "https://localhost:8080/",
          "height": 35
        },
        "outputId": "9036b811-77f8-4d82-ef88-9fccd5630239"
      },
      "source": [
        "X_train_std, X_test_std, Y_Train_std, Y_test_std = train_test_split(X_sec,Y_sec, test_size=0.3, random_state=0)\n",
        "X_train_std.shape, X_test_std.shape"
      ],
      "execution_count": null,
      "outputs": [
        {
          "output_type": "execute_result",
          "data": {
            "text/plain": [
              "((621165, 17), (266214, 17))"
            ]
          },
          "metadata": {
            "tags": []
          },
          "execution_count": 71
        }
      ]
    },
    {
      "cell_type": "markdown",
      "metadata": {
        "id": "dQnehrYv6sO_",
        "colab_type": "text"
      },
      "source": [
        "**Now we are predicting the model:\n",
        "R-Squared : 0.256 | \n",
        "Adj. R-Squared : 0.256**"
      ]
    },
    {
      "cell_type": "code",
      "metadata": {
        "id": "5catsFW85xfX",
        "colab_type": "code",
        "colab": {}
      },
      "source": [
        "X_train_std = smf.add_constant(X_train_std)\n",
        "len_reg1 = smf.OLS(Y_Train_std,X_train_std).fit()"
      ],
      "execution_count": null,
      "outputs": []
    },
    {
      "cell_type": "code",
      "metadata": {
        "id": "CGEAKvRr7Nbl",
        "colab_type": "code",
        "colab": {
          "base_uri": "https://localhost:8080/",
          "height": 728
        },
        "outputId": "366b36e2-ebd2-49dc-aa5f-234e1be3f15a"
      },
      "source": [
        "print(len_reg1.summary())"
      ],
      "execution_count": null,
      "outputs": [
        {
          "output_type": "stream",
          "text": [
            "                            OLS Regression Results                            \n",
            "==============================================================================\n",
            "Dep. Variable:                      y   R-squared:                       0.256\n",
            "Model:                            OLS   Adj. R-squared:                  0.256\n",
            "Method:                 Least Squares   F-statistic:                 1.256e+04\n",
            "Date:                Mon, 10 Aug 2020   Prob (F-statistic):               0.00\n",
            "Time:                        04:14:33   Log-Likelihood:            -8.0048e+05\n",
            "No. Observations:              621165   AIC:                         1.601e+06\n",
            "Df Residuals:                  621147   BIC:                         1.601e+06\n",
            "Df Model:                          17                                         \n",
            "Covariance Type:            nonrobust                                         \n",
            "==============================================================================\n",
            "                 coef    std err          t      P>|t|      [0.025      0.975]\n",
            "------------------------------------------------------------------------------\n",
            "const         -0.0004      0.001     -0.360      0.719      -0.003       0.002\n",
            "x1             0.1853      0.001    128.114      0.000       0.182       0.188\n",
            "x2            -0.0166      0.001    -12.580      0.000      -0.019      -0.014\n",
            "x3             0.1030      0.001     84.969      0.000       0.101       0.105\n",
            "x4             0.0789      0.001     60.961      0.000       0.076       0.081\n",
            "x5            -0.0559      0.001    -48.935      0.000      -0.058      -0.054\n",
            "x6            -0.0217      0.001    -18.509      0.000      -0.024      -0.019\n",
            "x7             0.1283      0.002     81.800      0.000       0.125       0.131\n",
            "x8            -0.0527      0.001    -46.317      0.000      -0.055      -0.050\n",
            "x9            -0.0545      0.002    -33.870      0.000      -0.058      -0.051\n",
            "x10           -0.0117      0.001     -7.927      0.000      -0.015      -0.009\n",
            "x11           -0.0038      0.001     -3.431      0.001      -0.006      -0.002\n",
            "x12           -0.0037      0.002     -1.926      0.054      -0.007    6.56e-05\n",
            "x13            0.0014      0.002      0.751      0.453      -0.002       0.005\n",
            "x14           -0.0103      0.001     -9.054      0.000      -0.012      -0.008\n",
            "x15           -0.0054      0.001     -4.667      0.000      -0.008      -0.003\n",
            "x16           -0.1085      0.006    -17.738      0.000      -0.120      -0.097\n",
            "x17            0.3232      0.001    251.372      0.000       0.321       0.326\n",
            "==============================================================================\n",
            "Omnibus:                  1377213.349   Durbin-Watson:                   2.001\n",
            "Prob(Omnibus):                  0.000   Jarque-Bera (JB):      62587330169.424\n",
            "Skew:                          19.720   Prob(JB):                         0.00\n",
            "Kurtosis:                    1557.553   Cond. No.                         8.58\n",
            "==============================================================================\n",
            "\n",
            "Warnings:\n",
            "[1] Standard Errors assume that the covariance matrix of the errors is correctly specified.\n"
          ],
          "name": "stdout"
        }
      ]
    },
    {
      "cell_type": "markdown",
      "metadata": {
        "id": "UzjokAN-6ziT",
        "colab_type": "text"
      },
      "source": [
        ""
      ]
    },
    {
      "cell_type": "code",
      "metadata": {
        "id": "V1ldmiGB84UK",
        "colab_type": "code",
        "colab": {}
      },
      "source": [
        "Y_test_std = pd.DataFrame(data=Y_std.inverse_transform(Y_test_std), columns=['total revol_bal'])"
      ],
      "execution_count": null,
      "outputs": []
    },
    {
      "cell_type": "markdown",
      "metadata": {
        "id": "fKnfS3TY65Y8",
        "colab_type": "text"
      },
      "source": [
        "**Adding Constant column to our DataFrame**"
      ]
    },
    {
      "cell_type": "code",
      "metadata": {
        "id": "mB0XeopS-TWB",
        "colab_type": "code",
        "colab": {}
      },
      "source": [
        "X_tst_c = smf.add_constant(X_test_std)"
      ],
      "execution_count": null,
      "outputs": []
    },
    {
      "cell_type": "code",
      "metadata": {
        "id": "5fd9tLni-sBm",
        "colab_type": "code",
        "colab": {}
      },
      "source": [
        "pred1 = Y_std.inverse_transform(len_reg1.predict(X_tst_c))"
      ],
      "execution_count": null,
      "outputs": []
    },
    {
      "cell_type": "code",
      "metadata": {
        "id": "Y7diZEg7BQ8V",
        "colab_type": "code",
        "colab": {}
      },
      "source": [
        "Y_test_std.insert(loc=1,column='pred1',value=pred1)"
      ],
      "execution_count": null,
      "outputs": []
    },
    {
      "cell_type": "markdown",
      "metadata": {
        "id": "Djp4eR4J7KWn",
        "colab_type": "text"
      },
      "source": [
        "**Displaying Actual Values vs Predicted Values**"
      ]
    },
    {
      "cell_type": "code",
      "metadata": {
        "id": "bzFX3_z1CHi3",
        "colab_type": "code",
        "colab": {
          "base_uri": "https://localhost:8080/",
          "height": 415
        },
        "outputId": "226d26d1-347c-447e-f5e9-4ac22115f712"
      },
      "source": [
        "Y_test_std"
      ],
      "execution_count": null,
      "outputs": [
        {
          "output_type": "execute_result",
          "data": {
            "text/html": [
              "<div>\n",
              "<style scoped>\n",
              "    .dataframe tbody tr th:only-of-type {\n",
              "        vertical-align: middle;\n",
              "    }\n",
              "\n",
              "    .dataframe tbody tr th {\n",
              "        vertical-align: top;\n",
              "    }\n",
              "\n",
              "    .dataframe thead th {\n",
              "        text-align: right;\n",
              "    }\n",
              "</style>\n",
              "<table border=\"1\" class=\"dataframe\">\n",
              "  <thead>\n",
              "    <tr style=\"text-align: right;\">\n",
              "      <th></th>\n",
              "      <th>total revol_bal</th>\n",
              "      <th>pred1</th>\n",
              "    </tr>\n",
              "  </thead>\n",
              "  <tbody>\n",
              "    <tr>\n",
              "      <th>0</th>\n",
              "      <td>6068.0</td>\n",
              "      <td>12207.970585</td>\n",
              "    </tr>\n",
              "    <tr>\n",
              "      <th>1</th>\n",
              "      <td>22107.0</td>\n",
              "      <td>17669.138926</td>\n",
              "    </tr>\n",
              "    <tr>\n",
              "      <th>2</th>\n",
              "      <td>9951.0</td>\n",
              "      <td>8642.220423</td>\n",
              "    </tr>\n",
              "    <tr>\n",
              "      <th>3</th>\n",
              "      <td>5218.0</td>\n",
              "      <td>6566.065099</td>\n",
              "    </tr>\n",
              "    <tr>\n",
              "      <th>4</th>\n",
              "      <td>11218.0</td>\n",
              "      <td>11177.080174</td>\n",
              "    </tr>\n",
              "    <tr>\n",
              "      <th>...</th>\n",
              "      <td>...</td>\n",
              "      <td>...</td>\n",
              "    </tr>\n",
              "    <tr>\n",
              "      <th>266209</th>\n",
              "      <td>35409.0</td>\n",
              "      <td>28263.525526</td>\n",
              "    </tr>\n",
              "    <tr>\n",
              "      <th>266210</th>\n",
              "      <td>7277.0</td>\n",
              "      <td>18886.782846</td>\n",
              "    </tr>\n",
              "    <tr>\n",
              "      <th>266211</th>\n",
              "      <td>25770.0</td>\n",
              "      <td>40179.591799</td>\n",
              "    </tr>\n",
              "    <tr>\n",
              "      <th>266212</th>\n",
              "      <td>5775.0</td>\n",
              "      <td>10869.783324</td>\n",
              "    </tr>\n",
              "    <tr>\n",
              "      <th>266213</th>\n",
              "      <td>24058.0</td>\n",
              "      <td>35433.342302</td>\n",
              "    </tr>\n",
              "  </tbody>\n",
              "</table>\n",
              "<p>266214 rows × 2 columns</p>\n",
              "</div>"
            ],
            "text/plain": [
              "        total revol_bal         pred1\n",
              "0                6068.0  12207.970585\n",
              "1               22107.0  17669.138926\n",
              "2                9951.0   8642.220423\n",
              "3                5218.0   6566.065099\n",
              "4               11218.0  11177.080174\n",
              "...                 ...           ...\n",
              "266209          35409.0  28263.525526\n",
              "266210           7277.0  18886.782846\n",
              "266211          25770.0  40179.591799\n",
              "266212           5775.0  10869.783324\n",
              "266213          24058.0  35433.342302\n",
              "\n",
              "[266214 rows x 2 columns]"
            ]
          },
          "metadata": {
            "tags": []
          },
          "execution_count": 58
        }
      ]
    },
    {
      "cell_type": "markdown",
      "metadata": {
        "id": "O-2JJoWN7Z8M",
        "colab_type": "text"
      },
      "source": [
        "**Checking for RMSE [Root Mean Squared Error] of Linear Regression Model | \n",
        "RMSE: 18909.32**"
      ]
    },
    {
      "cell_type": "code",
      "metadata": {
        "id": "Z--gSbJxCSvC",
        "colab_type": "code",
        "colab": {
          "base_uri": "https://localhost:8080/",
          "height": 35
        },
        "outputId": "f94dada2-ad15-4bf1-91bc-1340ebcac87d"
      },
      "source": [
        "from sklearn import metrics\n",
        "print(\"RMSE :\", np.sqrt(metrics.mean_squared_error(Y_test_std['total revol_bal'],Y_test_std['pred1'])))"
      ],
      "execution_count": null,
      "outputs": [
        {
          "output_type": "stream",
          "text": [
            "RMSE : 18909.323534279647\n"
          ],
          "name": "stdout"
        }
      ]
    },
    {
      "cell_type": "markdown",
      "metadata": {
        "id": "UZZOvgPY7udu",
        "colab_type": "text"
      },
      "source": [
        "**Now we are using Random Forest Regressor for prediction**"
      ]
    },
    {
      "cell_type": "code",
      "metadata": {
        "id": "gCqwaxviDUX5",
        "colab_type": "code",
        "colab": {}
      },
      "source": [
        "######## Random Forest Regressor ###########\n",
        "from sklearn.metrics import explained_variance_score\n",
        "from sklearn.metrics import mean_squared_error\n",
        "from sklearn.metrics import r2_score as rsqrt\n",
        "from sklearn.ensemble import RandomForestRegressor\n",
        "from sklearn.model_selection import GridSearchCV\n",
        "from sklearn.model_selection import RandomizedSearchCV"
      ],
      "execution_count": null,
      "outputs": []
    },
    {
      "cell_type": "code",
      "metadata": {
        "id": "pxIEtLMhE0A5",
        "colab_type": "code",
        "colab": {
          "base_uri": "https://localhost:8080/",
          "height": 139
        },
        "outputId": "939978b8-d693-4a5d-a18b-114307d52836"
      },
      "source": [
        "df3_sec.columns"
      ],
      "execution_count": null,
      "outputs": [
        {
          "output_type": "execute_result",
          "data": {
            "text/plain": [
              "Index(['loan_amnt ', 'Rate_of_intrst', 'annual_inc', 'debt_income_ratio',\n",
              "       'delinq_2yrs', 'inq_last_6mths', 'numb_credit', 'pub_rec',\n",
              "       'total revol_bal', 'total_credits', 'total_rec_int',\n",
              "       'total_rec_late_fee', 'recoveries', 'collection_recovery_fee',\n",
              "       'collections_12_mths_ex_med', 'acc_now_delinq', 'tot_colle_amt',\n",
              "       'tot_curr_bal'],\n",
              "      dtype='object')"
            ]
          },
          "metadata": {
            "tags": []
          },
          "execution_count": 80
        }
      ]
    },
    {
      "cell_type": "markdown",
      "metadata": {
        "id": "AOeIrR2bKzf4",
        "colab_type": "text"
      },
      "source": [
        "**Splitting Target & Feature Variables**"
      ]
    },
    {
      "cell_type": "code",
      "metadata": {
        "id": "9zDOvZp-E_R3",
        "colab_type": "code",
        "colab": {}
      },
      "source": [
        "X_sec2 = df3_sec[['loan_amnt ', 'Rate_of_intrst', 'annual_inc', 'debt_income_ratio', 'delinq_2yrs', 'inq_last_6mths', 'numb_credit', \n",
        "       'pub_rec', 'total_credits', 'total_rec_int', 'total_rec_late_fee', 'recoveries', 'collection_recovery_fee', 'collections_12_mths_ex_med', \n",
        "       'acc_now_delinq', 'tot_colle_amt','tot_curr_bal']]\n",
        "Y_sec2 = df3_sec[['total revol_bal']]"
      ],
      "execution_count": null,
      "outputs": []
    },
    {
      "cell_type": "markdown",
      "metadata": {
        "id": "p10715ETK6S9",
        "colab_type": "text"
      },
      "source": [
        "**Splitting Dataset into Train & Test**"
      ]
    },
    {
      "cell_type": "code",
      "metadata": {
        "id": "jasSu01KFTvB",
        "colab_type": "code",
        "colab": {
          "base_uri": "https://localhost:8080/",
          "height": 35
        },
        "outputId": "a05c24a5-e34d-4aa1-9ae3-7faf0407b846"
      },
      "source": [
        "X_train_rf, X_test_rf, Y_Train_rf, Y_test_rf = train_test_split(X_sec2,Y_sec2, test_size=0.3, random_state=0)\n",
        "X_train_rf.shape, X_test_rf.shape"
      ],
      "execution_count": null,
      "outputs": [
        {
          "output_type": "execute_result",
          "data": {
            "text/plain": [
              "((621165, 17), (266214, 17))"
            ]
          },
          "metadata": {
            "tags": []
          },
          "execution_count": 82
        }
      ]
    },
    {
      "cell_type": "code",
      "metadata": {
        "id": "wzx5qMS1QZSl",
        "colab_type": "code",
        "colab": {}
      },
      "source": [
        "Jq_Param_APlt={\n",
        "              'n_estimators' :[100,200,500,1000],\n",
        "              'max_depth' : [10,15,20],\n",
        "              'max_features' : ['auto','sqrt','log2'],\n",
        "              'random_state' : [42]\n",
        "} "
      ],
      "execution_count": null,
      "outputs": []
    },
    {
      "cell_type": "markdown",
      "metadata": {
        "id": "RnJy51W4LBNP",
        "colab_type": "text"
      },
      "source": [
        "**Fitting Random Forest Regressor**"
      ]
    },
    {
      "cell_type": "code",
      "metadata": {
        "id": "tXhiH86eFm78",
        "colab_type": "code",
        "colab": {
          "base_uri": "https://localhost:8080/",
          "height": 193
        },
        "outputId": "03f96726-0e9b-4fff-a6e2-c1e863091199"
      },
      "source": [
        "rf_reg = RandomForestRegressor(n_estimators=20,max_depth=15,random_state=42)\n",
        "rf_reg.fit(X_train_rf,Y_Train_rf)"
      ],
      "execution_count": null,
      "outputs": [
        {
          "output_type": "stream",
          "text": [
            "/usr/local/lib/python3.6/dist-packages/ipykernel_launcher.py:2: DataConversionWarning: A column-vector y was passed when a 1d array was expected. Please change the shape of y to (n_samples,), for example using ravel().\n",
            "  \n"
          ],
          "name": "stderr"
        },
        {
          "output_type": "execute_result",
          "data": {
            "text/plain": [
              "RandomForestRegressor(bootstrap=True, ccp_alpha=0.0, criterion='mse',\n",
              "                      max_depth=15, max_features='auto', max_leaf_nodes=None,\n",
              "                      max_samples=None, min_impurity_decrease=0.0,\n",
              "                      min_impurity_split=None, min_samples_leaf=1,\n",
              "                      min_samples_split=2, min_weight_fraction_leaf=0.0,\n",
              "                      n_estimators=20, n_jobs=None, oob_score=False,\n",
              "                      random_state=42, verbose=0, warm_start=False)"
            ]
          },
          "metadata": {
            "tags": []
          },
          "execution_count": 84
        }
      ]
    },
    {
      "cell_type": "markdown",
      "metadata": {
        "id": "7ABjSye7LGnP",
        "colab_type": "text"
      },
      "source": [
        "**Predicting Random Forest Regressor**"
      ]
    },
    {
      "cell_type": "code",
      "metadata": {
        "id": "z8cw0N5aHDrJ",
        "colab_type": "code",
        "colab": {}
      },
      "source": [
        "rf_pred = rf_reg.predict(X_train_rf)"
      ],
      "execution_count": null,
      "outputs": []
    },
    {
      "cell_type": "markdown",
      "metadata": {
        "id": "jiqw8ocpLQSy",
        "colab_type": "text"
      },
      "source": [
        "**Checking R2_Score on Train dataset**"
      ]
    },
    {
      "cell_type": "code",
      "metadata": {
        "id": "ifzs0HqOHaYM",
        "colab_type": "code",
        "colab": {
          "base_uri": "https://localhost:8080/",
          "height": 35
        },
        "outputId": "fd570795-5582-4f83-80af-6898af03b6d9"
      },
      "source": [
        "rf_train_sqrt = rsqrt(Y_Train_rf,rf_pred)\n",
        "rf_train_sqrt"
      ],
      "execution_count": null,
      "outputs": [
        {
          "output_type": "execute_result",
          "data": {
            "text/plain": [
              "0.6573691857896655"
            ]
          },
          "metadata": {
            "tags": []
          },
          "execution_count": 86
        }
      ]
    },
    {
      "cell_type": "markdown",
      "metadata": {
        "id": "a-5CuFrBLYR9",
        "colab_type": "text"
      },
      "source": [
        "**Checking R2_Score on Test dataset**"
      ]
    },
    {
      "cell_type": "code",
      "metadata": {
        "id": "_DOn2zmnHp-n",
        "colab_type": "code",
        "colab": {
          "base_uri": "https://localhost:8080/",
          "height": 35
        },
        "outputId": "ce2d9af7-61bc-4d75-b989-05451f89a5be"
      },
      "source": [
        "rf_pred_ts = rf_reg.predict(X_test_rf)\n",
        "rf_test_sqrt = rsqrt(Y_test_rf,rf_pred_ts)\n",
        "rf_test_sqrt"
      ],
      "execution_count": null,
      "outputs": [
        {
          "output_type": "execute_result",
          "data": {
            "text/plain": [
              "0.31927893213430725"
            ]
          },
          "metadata": {
            "tags": []
          },
          "execution_count": 87
        }
      ]
    },
    {
      "cell_type": "markdown",
      "metadata": {
        "id": "lBkxMsj88hvJ",
        "colab_type": "text"
      },
      "source": [
        "**Checking RMSE of Random Forest Regressor**"
      ]
    },
    {
      "cell_type": "code",
      "metadata": {
        "id": "ehMTql2rISXn",
        "colab_type": "code",
        "colab": {
          "base_uri": "https://localhost:8080/",
          "height": 52
        },
        "outputId": "43d9787c-a204-47a9-bd4c-4f8f15d4677d"
      },
      "source": [
        "print(\"Train RMSE :\", np.sqrt(metrics.mean_squared_error(Y_Train_rf,rf_pred)))\n",
        "print(\"Test RMSE :\", np.sqrt(metrics.mean_squared_error(Y_test_rf,rf_pred_ts)))"
      ],
      "execution_count": null,
      "outputs": [
        {
          "output_type": "stream",
          "text": [
            "Train RMSE : 13358.838443711496\n",
            "Test RMSE : 17719.019759325907\n"
          ],
          "name": "stdout"
        }
      ]
    },
    {
      "cell_type": "markdown",
      "metadata": {
        "id": "mGPoYwgkLiRN",
        "colab_type": "text"
      },
      "source": [
        "**Checking Feature Importances in Dataset**"
      ]
    },
    {
      "cell_type": "code",
      "metadata": {
        "id": "8sobAvGUJR6q",
        "colab_type": "code",
        "colab": {
          "base_uri": "https://localhost:8080/",
          "height": 570
        },
        "outputId": "21d5afba-ed9e-4ffe-f8a2-1d1507735dfc"
      },
      "source": [
        "k = list(rf_reg.feature_importances_)\n",
        "j = list(X_train_rf.columns)\n",
        "data = {'Columns': j, 'Feature Importance':k}\n",
        "d = pd.DataFrame(data)\n",
        "d"
      ],
      "execution_count": null,
      "outputs": [
        {
          "output_type": "execute_result",
          "data": {
            "text/html": [
              "<div>\n",
              "<style scoped>\n",
              "    .dataframe tbody tr th:only-of-type {\n",
              "        vertical-align: middle;\n",
              "    }\n",
              "\n",
              "    .dataframe tbody tr th {\n",
              "        vertical-align: top;\n",
              "    }\n",
              "\n",
              "    .dataframe thead th {\n",
              "        text-align: right;\n",
              "    }\n",
              "</style>\n",
              "<table border=\"1\" class=\"dataframe\">\n",
              "  <thead>\n",
              "    <tr style=\"text-align: right;\">\n",
              "      <th></th>\n",
              "      <th>Columns</th>\n",
              "      <th>Feature Importance</th>\n",
              "    </tr>\n",
              "  </thead>\n",
              "  <tbody>\n",
              "    <tr>\n",
              "      <th>0</th>\n",
              "      <td>loan_amnt</td>\n",
              "      <td>0.120799</td>\n",
              "    </tr>\n",
              "    <tr>\n",
              "      <th>1</th>\n",
              "      <td>Rate_of_intrst</td>\n",
              "      <td>0.049068</td>\n",
              "    </tr>\n",
              "    <tr>\n",
              "      <th>2</th>\n",
              "      <td>annual_inc</td>\n",
              "      <td>0.107862</td>\n",
              "    </tr>\n",
              "    <tr>\n",
              "      <th>3</th>\n",
              "      <td>debt_income_ratio</td>\n",
              "      <td>0.136690</td>\n",
              "    </tr>\n",
              "    <tr>\n",
              "      <th>4</th>\n",
              "      <td>delinq_2yrs</td>\n",
              "      <td>0.014911</td>\n",
              "    </tr>\n",
              "    <tr>\n",
              "      <th>5</th>\n",
              "      <td>inq_last_6mths</td>\n",
              "      <td>0.012777</td>\n",
              "    </tr>\n",
              "    <tr>\n",
              "      <th>6</th>\n",
              "      <td>numb_credit</td>\n",
              "      <td>0.046495</td>\n",
              "    </tr>\n",
              "    <tr>\n",
              "      <th>7</th>\n",
              "      <td>pub_rec</td>\n",
              "      <td>0.018122</td>\n",
              "    </tr>\n",
              "    <tr>\n",
              "      <th>8</th>\n",
              "      <td>total_credits</td>\n",
              "      <td>0.049973</td>\n",
              "    </tr>\n",
              "    <tr>\n",
              "      <th>9</th>\n",
              "      <td>total_rec_int</td>\n",
              "      <td>0.042786</td>\n",
              "    </tr>\n",
              "    <tr>\n",
              "      <th>10</th>\n",
              "      <td>total_rec_late_fee</td>\n",
              "      <td>0.002125</td>\n",
              "    </tr>\n",
              "    <tr>\n",
              "      <th>11</th>\n",
              "      <td>recoveries</td>\n",
              "      <td>0.002095</td>\n",
              "    </tr>\n",
              "    <tr>\n",
              "      <th>12</th>\n",
              "      <td>collection_recovery_fee</td>\n",
              "      <td>0.002161</td>\n",
              "    </tr>\n",
              "    <tr>\n",
              "      <th>13</th>\n",
              "      <td>collections_12_mths_ex_med</td>\n",
              "      <td>0.001251</td>\n",
              "    </tr>\n",
              "    <tr>\n",
              "      <th>14</th>\n",
              "      <td>acc_now_delinq</td>\n",
              "      <td>0.000993</td>\n",
              "    </tr>\n",
              "    <tr>\n",
              "      <th>15</th>\n",
              "      <td>tot_colle_amt</td>\n",
              "      <td>0.010136</td>\n",
              "    </tr>\n",
              "    <tr>\n",
              "      <th>16</th>\n",
              "      <td>tot_curr_bal</td>\n",
              "      <td>0.381755</td>\n",
              "    </tr>\n",
              "  </tbody>\n",
              "</table>\n",
              "</div>"
            ],
            "text/plain": [
              "                       Columns  Feature Importance\n",
              "0                   loan_amnt             0.120799\n",
              "1               Rate_of_intrst            0.049068\n",
              "2                   annual_inc            0.107862\n",
              "3            debt_income_ratio            0.136690\n",
              "4                  delinq_2yrs            0.014911\n",
              "5               inq_last_6mths            0.012777\n",
              "6                  numb_credit            0.046495\n",
              "7                      pub_rec            0.018122\n",
              "8                total_credits            0.049973\n",
              "9                total_rec_int            0.042786\n",
              "10          total_rec_late_fee            0.002125\n",
              "11                  recoveries            0.002095\n",
              "12     collection_recovery_fee            0.002161\n",
              "13  collections_12_mths_ex_med            0.001251\n",
              "14              acc_now_delinq            0.000993\n",
              "15               tot_colle_amt            0.010136\n",
              "16                tot_curr_bal            0.381755"
            ]
          },
          "metadata": {
            "tags": []
          },
          "execution_count": 89
        }
      ]
    },
    {
      "cell_type": "code",
      "metadata": {
        "id": "AE7KBNZ8Kb7l",
        "colab_type": "code",
        "colab": {
          "base_uri": "https://localhost:8080/",
          "height": 139
        },
        "outputId": "842688aa-04c4-499f-f5c3-7ca93c04b226"
      },
      "source": [
        "df3_sec.columns"
      ],
      "execution_count": null,
      "outputs": [
        {
          "output_type": "execute_result",
          "data": {
            "text/plain": [
              "Index(['loan_amnt ', 'Rate_of_intrst', 'annual_inc', 'debt_income_ratio',\n",
              "       'delinq_2yrs', 'inq_last_6mths', 'numb_credit', 'pub_rec',\n",
              "       'total revol_bal', 'total_credits', 'total_rec_int',\n",
              "       'total_rec_late_fee', 'recoveries', 'collection_recovery_fee',\n",
              "       'collections_12_mths_ex_med', 'acc_now_delinq', 'tot_colle_amt',\n",
              "       'tot_curr_bal'],\n",
              "      dtype='object')"
            ]
          },
          "metadata": {
            "tags": []
          },
          "execution_count": 90
        }
      ]
    },
    {
      "cell_type": "markdown",
      "metadata": {
        "id": "msAjYq0YLtCD",
        "colab_type": "text"
      },
      "source": [
        "**Based on Feature Importance we are giving columns names based on highest values**"
      ]
    },
    {
      "cell_type": "code",
      "metadata": {
        "id": "WQN9uyt4KP5s",
        "colab_type": "code",
        "colab": {}
      },
      "source": [
        "X_ft = df3_sec[['loan_amnt ', 'Rate_of_intrst', 'annual_inc', 'debt_income_ratio',\n",
        "               'numb_credit', 'total_credits', 'total_rec_int','tot_curr_bal']]\n",
        "Y_ft = df3_sec[['total revol_bal']]"
      ],
      "execution_count": null,
      "outputs": []
    },
    {
      "cell_type": "markdown",
      "metadata": {
        "id": "QUjKOd7qMA9c",
        "colab_type": "text"
      },
      "source": [
        "**Splitting Dataset for Train & Test based on Feature Importance**"
      ]
    },
    {
      "cell_type": "code",
      "metadata": {
        "id": "way--BoFLb9J",
        "colab_type": "code",
        "colab": {
          "base_uri": "https://localhost:8080/",
          "height": 35
        },
        "outputId": "32f1f8d2-accd-4d3a-d5de-bf2e384b0e9f"
      },
      "source": [
        "X_train_ft, X_test_ft, Y_Train_ft, Y_test_ft = train_test_split(X_ft,Y_ft, test_size=0.3, random_state=0)\n",
        "X_train_ft.shape, X_test_ft.shape"
      ],
      "execution_count": null,
      "outputs": [
        {
          "output_type": "execute_result",
          "data": {
            "text/plain": [
              "((621165, 8), (266214, 8))"
            ]
          },
          "metadata": {
            "tags": []
          },
          "execution_count": 92
        }
      ]
    },
    {
      "cell_type": "markdown",
      "metadata": {
        "id": "-D_o1pTkMNLg",
        "colab_type": "text"
      },
      "source": [
        "**Fitting Random Forest Regressor based on Feature Importance**"
      ]
    },
    {
      "cell_type": "code",
      "metadata": {
        "id": "DLUX4YgyMW7I",
        "colab_type": "code",
        "colab": {
          "base_uri": "https://localhost:8080/",
          "height": 193
        },
        "outputId": "ac80dd25-7838-47a3-dc9a-c42ae0769938"
      },
      "source": [
        "rf_reg_1 = RandomForestRegressor(n_estimators=20,max_depth=15,random_state=42)\n",
        "rf_reg_1.fit(X_train_ft,Y_Train_ft)"
      ],
      "execution_count": null,
      "outputs": [
        {
          "output_type": "stream",
          "text": [
            "/usr/local/lib/python3.6/dist-packages/ipykernel_launcher.py:2: DataConversionWarning: A column-vector y was passed when a 1d array was expected. Please change the shape of y to (n_samples,), for example using ravel().\n",
            "  \n"
          ],
          "name": "stderr"
        },
        {
          "output_type": "execute_result",
          "data": {
            "text/plain": [
              "RandomForestRegressor(bootstrap=True, ccp_alpha=0.0, criterion='mse',\n",
              "                      max_depth=15, max_features='auto', max_leaf_nodes=None,\n",
              "                      max_samples=None, min_impurity_decrease=0.0,\n",
              "                      min_impurity_split=None, min_samples_leaf=1,\n",
              "                      min_samples_split=2, min_weight_fraction_leaf=0.0,\n",
              "                      n_estimators=20, n_jobs=None, oob_score=False,\n",
              "                      random_state=42, verbose=0, warm_start=False)"
            ]
          },
          "metadata": {
            "tags": []
          },
          "execution_count": 93
        }
      ]
    },
    {
      "cell_type": "markdown",
      "metadata": {
        "id": "NoQHx1OMMbZc",
        "colab_type": "text"
      },
      "source": [
        "**Calculating Train R2_Score based on Feature Importance**"
      ]
    },
    {
      "cell_type": "code",
      "metadata": {
        "id": "PP4_gQW5LveM",
        "colab_type": "code",
        "colab": {
          "base_uri": "https://localhost:8080/",
          "height": 35
        },
        "outputId": "1494af7c-cfa7-4733-e5af-7b2d398ce377"
      },
      "source": [
        "rf_pred_2 = rf_reg_1.predict(X_train_ft)\n",
        "rf_train_2 = rsqrt(Y_Train_ft,rf_pred_2)\n",
        "rf_train_2"
      ],
      "execution_count": null,
      "outputs": [
        {
          "output_type": "execute_result",
          "data": {
            "text/plain": [
              "0.664891476081932"
            ]
          },
          "metadata": {
            "tags": []
          },
          "execution_count": 94
        }
      ]
    },
    {
      "cell_type": "markdown",
      "metadata": {
        "id": "zv1Tm3kRMk_F",
        "colab_type": "text"
      },
      "source": [
        "**Calculating Test R2_Score based on Feature Importance**"
      ]
    },
    {
      "cell_type": "code",
      "metadata": {
        "id": "IduPObvIMpPc",
        "colab_type": "code",
        "colab": {
          "base_uri": "https://localhost:8080/",
          "height": 35
        },
        "outputId": "ab6f5c7d-f827-4abb-b2a9-5bed1c00b6c8"
      },
      "source": [
        "rf_pred_tst = rf_reg_1.predict(X_test_ft)\n",
        "rf_train_sqrt_tst = rsqrt(Y_test_ft,rf_pred_tst)\n",
        "rf_train_sqrt_tst"
      ],
      "execution_count": null,
      "outputs": [
        {
          "output_type": "execute_result",
          "data": {
            "text/plain": [
              "0.29704983640195515"
            ]
          },
          "metadata": {
            "tags": []
          },
          "execution_count": 95
        }
      ]
    },
    {
      "cell_type": "markdown",
      "metadata": {
        "id": "q9itb9w58rxG",
        "colab_type": "text"
      },
      "source": [
        "**Checking RMSE after Feature Importance is Applied for Random Forest Regressor**"
      ]
    },
    {
      "cell_type": "code",
      "metadata": {
        "id": "cqkR2A8qOjGK",
        "colab_type": "code",
        "colab": {
          "base_uri": "https://localhost:8080/",
          "height": 52
        },
        "outputId": "02e66cf3-5847-4961-9e9d-1197ba3d1eff"
      },
      "source": [
        "print(\"Train RMSE :\", np.sqrt(metrics.mean_squared_error(Y_Train_ft,rf_pred_2)))\n",
        "print(\"Test RMSE :\", np.sqrt(metrics.mean_squared_error(Y_test_ft,rf_pred_tst)))"
      ],
      "execution_count": null,
      "outputs": [
        {
          "output_type": "stream",
          "text": [
            "Train RMSE : 13211.381264848731\n",
            "Test RMSE : 18006.00492700891\n"
          ],
          "name": "stdout"
        }
      ]
    }
  ]
}